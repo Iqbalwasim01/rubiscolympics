{
 "cells": [
  {
   "cell_type": "code",
   "execution_count": 15,
   "metadata": {},
   "outputs": [],
   "source": [
    "import pandas as pd\n",
    "from Bio import SeqIO, AlignIO, Seq\n",
    "import numpy as np\n",
    "from collections import Counter\n",
    "from helper import *\n",
    "import python_cipres.client as CipresClient\n",
    "from ete3 import Tree, TreeStyle"
   ]
  },
  {
   "cell_type": "code",
   "execution_count": 48,
   "metadata": {},
   "outputs": [],
   "source": [
    "def check_avg_length(node,th=0.4):\n",
    "    desc_length = np.mean([x.tot_dist for x in node.get_leaves()]) - node.tot_dist\n",
    "    if desc_length < th:\n",
    "        return True\n",
    "    else:\n",
    "        return False\n",
    "\n",
    "def collapse_tree(node,th=0.4):\n",
    "    global cluster_id\n",
    "    cluster_list = pd.DataFrame([],columns=['leaf_id','cluster_id'])\n",
    "    if check_avg_length(node,th):\n",
    "        cluster_list = pd.DataFrame([[x.name, cluster_id] for x in node.get_leaves()],columns=['leaf_id','cluster_id'])\n",
    "        cluster_id = cluster_id + 1\n",
    "    else:\n",
    "        for child in node.get_children():\n",
    "            #print(child.name)\n",
    "            desc_list = collapse_tree(child,th)\n",
    "            cluster_list = pd.concat([cluster_list,desc_list])\n",
    "    return cluster_list"
   ]
  },
  {
   "cell_type": "code",
   "execution_count": 50,
   "metadata": {},
   "outputs": [],
   "source": [
    "t = Tree('../output/02_90p_autotrophic_rubisco_tree/RaxML/RAxML_bestTree.result')\n",
    "t.set_outgroup(t.get_leaves_by_name('gi|1231980590|gb|OYT42730.1|')[0])\n",
    "for leaf in t.traverse():\n",
    "    leaf.add_feature('tot_dist',np.array([x.dist for x in leaf.get_ancestors()]).sum()+leaf.dist)"
   ]
  },
  {
   "cell_type": "code",
   "execution_count": 51,
   "metadata": {},
   "outputs": [],
   "source": [
    "global cluster_id\n",
    "cluster_id = 0\n",
    "collapsed_nodes = collapse_tree(t,0.4)"
   ]
  },
  {
   "cell_type": "code",
   "execution_count": 25,
   "metadata": {},
   "outputs": [
    {
     "data": {
      "text/plain": [
       "[Tree node 'gi|1133712163|ref|WP_076097556.1|' (-0x7ffff80b95bf16cb),\n",
       " Tree node 'RBC4_62' (0x7f46a4e4dbe),\n",
       " Tree node 'RBC_81' (0x7f46a40e939)]"
      ]
     },
     "execution_count": 25,
     "metadata": {},
     "output_type": "execute_result"
    }
   ],
   "source": [
    "g = t.get_leaves_by_name('gi|1133712163|ref|WP_076097556.1|')[0]\n",
    "g.get_ancestors()[0].get_leaves()"
   ]
  },
  {
   "cell_type": "code",
   "execution_count": 52,
   "metadata": {},
   "outputs": [
    {
     "data": {
      "text/plain": [
       "type\n",
       "I           33\n",
       "II          16\n",
       "II/III       6\n",
       "III-like    14\n",
       "IIIa        24\n",
       "IIIc        18\n",
       "Name: cluster_id, dtype: int64"
      ]
     },
     "execution_count": 52,
     "metadata": {},
     "output_type": "execute_result"
    }
   ],
   "source": [
    "auto_rub90 = pd.read_csv('../output/02_90p_autotrophic_rubisco_tree/uclust_all_0.9_with_type.csv')\n",
    "auto_rub90\n",
    "auto_rub90['cut Target'] = auto_rub90.Target_y.apply(lambda x: x.split(' ')[0])\n",
    "auto_rub90 = auto_rub90.merge(collapsed_nodes,left_on='cut Target',right_on='leaf_id')\n",
    "#collapsed_nodes\n",
    "#auto_rub90.loc[~auto_rub90['cut Target'].isin(collapsed_nodes['leaf_id']),'cut Target']\n",
    "#auto_rub90['cut Target'].nunique()\n",
    "auto_rub90.groupby('type')['cluster_id'].nunique()\n",
    "#auto_rub90.to_csv('../output/03_branch_length_cluster/uclust_0.9_with_bl_0.4.csv')"
   ]
  },
  {
   "cell_type": "code",
   "execution_count": 53,
   "metadata": {},
   "outputs": [],
   "source": [
    "collapsed_nodes['synth'] = collapsed_nodes['leaf_id'].str.startswith('RBC')\n",
    "prune_list = []\n",
    "for x in collapsed_nodes.groupby('cluster_id'):\n",
    "    x2 = x[1]\n",
    "    x3 = x2[x2['synth']==True]\n",
    "    if len(x3)>0:\n",
    "        prune_list.append(x3.iloc[0].leaf_id)\n",
    "        collapsed_nodes.loc[collapsed_nodes.cluster_id==x[0],'Centroid'] = x3.iloc[0].leaf_id\n",
    "    else:\n",
    "        prune_list.append(x2.iloc[0].leaf_id)\n",
    "        collapsed_nodes.loc[collapsed_nodes.cluster_id==x[0],'Centroid'] = x2.iloc[0].leaf_id"
   ]
  },
  {
   "cell_type": "code",
   "execution_count": 54,
   "metadata": {},
   "outputs": [
    {
     "name": "stdout",
     "output_type": "stream",
     "text": [
      "Number of leaf nodes:\t111\n",
      "Total number of nodes:\t221\n",
      "Rooted:\tYes\n",
      "Most distant node:\tRBC_41\n",
      "Max. distance:\t3.862266\n"
     ]
    }
   ],
   "source": [
    "t_pruned = t.copy()\n",
    "t_pruned.prune(prune_list,preserve_branch_length=True)\n",
    "t_pruned.describe()"
   ]
  },
  {
   "cell_type": "code",
   "execution_count": 29,
   "metadata": {},
   "outputs": [],
   "source": [
    "!mkdir -p ../output/03_branch_length_cluster\n",
    "t_pruned.write(features=[],outfile='../output/03_branch_length_cluster/pruned_tree0.4.nwk')"
   ]
  },
  {
   "cell_type": "code",
   "execution_count": 60,
   "metadata": {},
   "outputs": [
    {
     "data": {
      "text/plain": [
       "0                                                RBC_38\n",
       "1                                                RBC_38\n",
       "2                                                RBC_38\n",
       "3                                                RBC_38\n",
       "4                                            RBCSeed_14\n",
       "5                                            RBCSeed_18\n",
       "6                                            RBCSeed_25\n",
       "7                                            RBCSeed_23\n",
       "8                                            RBCSeed_24\n",
       "9                                                 RBC_7\n",
       "10                                              RBC2_42\n",
       "11                                              RBC2_44\n",
       "12                                               RBC3_1\n",
       "13                                               RBC3_1\n",
       "14                                               RBC_41\n",
       "15                                               RBC_94\n",
       "16                                               RBC_33\n",
       "17                                              RBC2_44\n",
       "18                                              RBC2_44\n",
       "19                                               RBC_73\n",
       "20                                               RBC_73\n",
       "21                                               RBC_13\n",
       "22                                               RBC_87\n",
       "23                                               RBC4_4\n",
       "24                                               RBC4_6\n",
       "25                                              RBC4_14\n",
       "26                                              RBC4_28\n",
       "27                                              RBC4_28\n",
       "28                                              RBC4_30\n",
       "29                                              RBC4_52\n",
       "                              ...                      \n",
       "46439                  gi|654757556|ref|WP_028212638.1|\n",
       "46440                      gi|1052423693|gb|AOC61434.1|\n",
       "46441                        gi|25053471|gb|AAN71860.1|\n",
       "46442                  gi|495664316|ref|WP_008388895.1|\n",
       "46443                      gi|1001837526|gb|KXS32127.1|\n",
       "46444                        gi|56786652|gb|AAW29431.1|\n",
       "46445                       gi|530753822|gb|AGT48716.1|\n",
       "46446                       gi|414449427|gb|AFW99929.1|\n",
       "46447                       gi|931419259|gb|KPK05749.1|\n",
       "46448                      gi|378925043|dbj|BAL63309.1|\n",
       "46449                        gi|23394943|gb|AAN31657.1|\n",
       "46450                  gi|654409692|ref|WP_027881261.1|\n",
       "46451                       gi|336445262|gb|AEI58699.1|\n",
       "46452                 gi|1222363286|ref|WP_090415908.1|\n",
       "46453                         gi|9719140|gb|AAF97650.1|\n",
       "46454                         gi|9719199|gb|AAF97678.1|\n",
       "46455                  gi|851218974|ref|WP_048113196.1|\n",
       "46456                        gi|38532335|gb|AAR23419.1|\n",
       "46457          TARA_145.SAMEA2623627.5.0.22-3_2503921_1\n",
       "46458                  rifcsphigho2_02_scaffold_6968_22\n",
       "46459                        07M_4_2014_scaffold_3235_2\n",
       "46460                          cg1_0.2_scaffold_64959_1\n",
       "46461                            AR10.1_scaffold_1790_3\n",
       "46462                                  img_2698597071_3\n",
       "46463                            UBA1441contig_19953_11\n",
       "46464                            UBA6264contig_60200_23\n",
       "46465                 rifcsphigho2_02_scaffold_287381_2\n",
       "46466    CG10_big_fil_rev_8_21_14_0.10_scaffold_9756_11\n",
       "46467                 rifcsphigho2_01_scaffold_113321_3\n",
       "46468                 rifcsphigho2_02_scaffold_332588_3\n",
       "Name: cut Target, Length: 46469, dtype: object"
      ]
     },
     "execution_count": 60,
     "metadata": {},
     "output_type": "execute_result"
    }
   ],
   "source": [
    "uclust_data[pd.isna]"
   ]
  },
  {
   "cell_type": "code",
   "execution_count": 30,
   "metadata": {},
   "outputs": [
    {
     "ename": "AttributeError",
     "evalue": "'float' object has no attribute 'split'",
     "output_type": "error",
     "traceback": [
      "\u001b[0;31m---------------------------------------------------------------------------\u001b[0m",
      "\u001b[0;31mAttributeError\u001b[0m                            Traceback (most recent call last)",
      "\u001b[0;32m<ipython-input-30-c84d3759543c>\u001b[0m in \u001b[0;36m<module>\u001b[0;34m()\u001b[0m\n\u001b[1;32m     20\u001b[0m \u001b[0muclust_data\u001b[0m\u001b[0;34m.\u001b[0m\u001b[0mloc\u001b[0m\u001b[0;34m[\u001b[0m\u001b[0muclust_data\u001b[0m\u001b[0;34m[\u001b[0m\u001b[0;34m'Centroid'\u001b[0m\u001b[0;34m]\u001b[0m\u001b[0;34m.\u001b[0m\u001b[0misin\u001b[0m\u001b[0;34m(\u001b[0m\u001b[0msyn_centroid\u001b[0m\u001b[0;34m)\u001b[0m\u001b[0;34m,\u001b[0m\u001b[0;34m'syn_flag'\u001b[0m\u001b[0;34m]\u001b[0m \u001b[0;34m=\u001b[0m \u001b[0;34m'1'\u001b[0m\u001b[0;34m\u001b[0m\u001b[0;34m\u001b[0m\u001b[0m\n\u001b[1;32m     21\u001b[0m \u001b[0;34m\u001b[0m\u001b[0m\n\u001b[0;32m---> 22\u001b[0;31m \u001b[0mlines\u001b[0m \u001b[0;34m=\u001b[0m \u001b[0muclust_data\u001b[0m\u001b[0;34m[\u001b[0m\u001b[0;34m'Centroid'\u001b[0m\u001b[0;34m]\u001b[0m\u001b[0;34m.\u001b[0m\u001b[0mapply\u001b[0m\u001b[0;34m(\u001b[0m\u001b[0;32mlambda\u001b[0m \u001b[0mx\u001b[0m\u001b[0;34m:\u001b[0m \u001b[0mx\u001b[0m\u001b[0;34m.\u001b[0m\u001b[0msplit\u001b[0m\u001b[0;34m(\u001b[0m\u001b[0;34m' '\u001b[0m\u001b[0;34m)\u001b[0m\u001b[0;34m[\u001b[0m\u001b[0;36m0\u001b[0m\u001b[0;34m]\u001b[0m\u001b[0;34m)\u001b[0m\u001b[0;34m.\u001b[0m\u001b[0mvalues\u001b[0m \u001b[0;34m+\u001b[0m \u001b[0;34m','\u001b[0m\u001b[0;34m+\u001b[0m \u001b[0muclust_data\u001b[0m\u001b[0;34m[\u001b[0m\u001b[0;34m'kinetic_flag'\u001b[0m\u001b[0;34m]\u001b[0m\u001b[0;34m.\u001b[0m\u001b[0mvalues\u001b[0m\u001b[0;34m+\u001b[0m\u001b[0;34m','\u001b[0m\u001b[0;34m+\u001b[0m\u001b[0muclust_data\u001b[0m\u001b[0;34m[\u001b[0m\u001b[0;34m'syn_flag'\u001b[0m\u001b[0;34m]\u001b[0m\u001b[0;34m.\u001b[0m\u001b[0mvalues\u001b[0m\u001b[0;34m+\u001b[0m\u001b[0;34m'\\n'\u001b[0m\u001b[0;34m\u001b[0m\u001b[0;34m\u001b[0m\u001b[0m\n\u001b[0m\u001b[1;32m     23\u001b[0m \u001b[0;34m\u001b[0m\u001b[0m\n\u001b[1;32m     24\u001b[0m \u001b[0munique_lines\u001b[0m \u001b[0;34m=\u001b[0m \u001b[0mnp\u001b[0m\u001b[0;34m.\u001b[0m\u001b[0munique\u001b[0m\u001b[0;34m(\u001b[0m\u001b[0mlines\u001b[0m\u001b[0;34m)\u001b[0m\u001b[0;34m\u001b[0m\u001b[0;34m\u001b[0m\u001b[0m\n",
      "\u001b[0;32m/usr/local/lib/python3.6/dist-packages/pandas/core/series.py\u001b[0m in \u001b[0;36mapply\u001b[0;34m(self, func, convert_dtype, args, **kwds)\u001b[0m\n\u001b[1;32m   3192\u001b[0m             \u001b[0;32melse\u001b[0m\u001b[0;34m:\u001b[0m\u001b[0;34m\u001b[0m\u001b[0;34m\u001b[0m\u001b[0m\n\u001b[1;32m   3193\u001b[0m                 \u001b[0mvalues\u001b[0m \u001b[0;34m=\u001b[0m \u001b[0mself\u001b[0m\u001b[0;34m.\u001b[0m\u001b[0mastype\u001b[0m\u001b[0;34m(\u001b[0m\u001b[0mobject\u001b[0m\u001b[0;34m)\u001b[0m\u001b[0;34m.\u001b[0m\u001b[0mvalues\u001b[0m\u001b[0;34m\u001b[0m\u001b[0;34m\u001b[0m\u001b[0m\n\u001b[0;32m-> 3194\u001b[0;31m                 \u001b[0mmapped\u001b[0m \u001b[0;34m=\u001b[0m \u001b[0mlib\u001b[0m\u001b[0;34m.\u001b[0m\u001b[0mmap_infer\u001b[0m\u001b[0;34m(\u001b[0m\u001b[0mvalues\u001b[0m\u001b[0;34m,\u001b[0m \u001b[0mf\u001b[0m\u001b[0;34m,\u001b[0m \u001b[0mconvert\u001b[0m\u001b[0;34m=\u001b[0m\u001b[0mconvert_dtype\u001b[0m\u001b[0;34m)\u001b[0m\u001b[0;34m\u001b[0m\u001b[0;34m\u001b[0m\u001b[0m\n\u001b[0m\u001b[1;32m   3195\u001b[0m \u001b[0;34m\u001b[0m\u001b[0m\n\u001b[1;32m   3196\u001b[0m         \u001b[0;32mif\u001b[0m \u001b[0mlen\u001b[0m\u001b[0;34m(\u001b[0m\u001b[0mmapped\u001b[0m\u001b[0;34m)\u001b[0m \u001b[0;32mand\u001b[0m \u001b[0misinstance\u001b[0m\u001b[0;34m(\u001b[0m\u001b[0mmapped\u001b[0m\u001b[0;34m[\u001b[0m\u001b[0;36m0\u001b[0m\u001b[0;34m]\u001b[0m\u001b[0;34m,\u001b[0m \u001b[0mSeries\u001b[0m\u001b[0;34m)\u001b[0m\u001b[0;34m:\u001b[0m\u001b[0;34m\u001b[0m\u001b[0;34m\u001b[0m\u001b[0m\n",
      "\u001b[0;32mpandas/_libs/src/inference.pyx\u001b[0m in \u001b[0;36mpandas._libs.lib.map_infer\u001b[0;34m()\u001b[0m\n",
      "\u001b[0;32m<ipython-input-30-c84d3759543c>\u001b[0m in \u001b[0;36m<lambda>\u001b[0;34m(x)\u001b[0m\n\u001b[1;32m     20\u001b[0m \u001b[0muclust_data\u001b[0m\u001b[0;34m.\u001b[0m\u001b[0mloc\u001b[0m\u001b[0;34m[\u001b[0m\u001b[0muclust_data\u001b[0m\u001b[0;34m[\u001b[0m\u001b[0;34m'Centroid'\u001b[0m\u001b[0;34m]\u001b[0m\u001b[0;34m.\u001b[0m\u001b[0misin\u001b[0m\u001b[0;34m(\u001b[0m\u001b[0msyn_centroid\u001b[0m\u001b[0;34m)\u001b[0m\u001b[0;34m,\u001b[0m\u001b[0;34m'syn_flag'\u001b[0m\u001b[0;34m]\u001b[0m \u001b[0;34m=\u001b[0m \u001b[0;34m'1'\u001b[0m\u001b[0;34m\u001b[0m\u001b[0;34m\u001b[0m\u001b[0m\n\u001b[1;32m     21\u001b[0m \u001b[0;34m\u001b[0m\u001b[0m\n\u001b[0;32m---> 22\u001b[0;31m \u001b[0mlines\u001b[0m \u001b[0;34m=\u001b[0m \u001b[0muclust_data\u001b[0m\u001b[0;34m[\u001b[0m\u001b[0;34m'Centroid'\u001b[0m\u001b[0;34m]\u001b[0m\u001b[0;34m.\u001b[0m\u001b[0mapply\u001b[0m\u001b[0;34m(\u001b[0m\u001b[0;32mlambda\u001b[0m \u001b[0mx\u001b[0m\u001b[0;34m:\u001b[0m \u001b[0mx\u001b[0m\u001b[0;34m.\u001b[0m\u001b[0msplit\u001b[0m\u001b[0;34m(\u001b[0m\u001b[0;34m' '\u001b[0m\u001b[0;34m)\u001b[0m\u001b[0;34m[\u001b[0m\u001b[0;36m0\u001b[0m\u001b[0;34m]\u001b[0m\u001b[0;34m)\u001b[0m\u001b[0;34m.\u001b[0m\u001b[0mvalues\u001b[0m \u001b[0;34m+\u001b[0m \u001b[0;34m','\u001b[0m\u001b[0;34m+\u001b[0m \u001b[0muclust_data\u001b[0m\u001b[0;34m[\u001b[0m\u001b[0;34m'kinetic_flag'\u001b[0m\u001b[0;34m]\u001b[0m\u001b[0;34m.\u001b[0m\u001b[0mvalues\u001b[0m\u001b[0;34m+\u001b[0m\u001b[0;34m','\u001b[0m\u001b[0;34m+\u001b[0m\u001b[0muclust_data\u001b[0m\u001b[0;34m[\u001b[0m\u001b[0;34m'syn_flag'\u001b[0m\u001b[0;34m]\u001b[0m\u001b[0;34m.\u001b[0m\u001b[0mvalues\u001b[0m\u001b[0;34m+\u001b[0m\u001b[0;34m'\\n'\u001b[0m\u001b[0;34m\u001b[0m\u001b[0;34m\u001b[0m\u001b[0m\n\u001b[0m\u001b[1;32m     23\u001b[0m \u001b[0;34m\u001b[0m\u001b[0m\n\u001b[1;32m     24\u001b[0m \u001b[0munique_lines\u001b[0m \u001b[0;34m=\u001b[0m \u001b[0mnp\u001b[0m\u001b[0;34m.\u001b[0m\u001b[0munique\u001b[0m\u001b[0;34m(\u001b[0m\u001b[0mlines\u001b[0m\u001b[0;34m)\u001b[0m\u001b[0;34m\u001b[0m\u001b[0;34m\u001b[0m\u001b[0m\n",
      "\u001b[0;31mAttributeError\u001b[0m: 'float' object has no attribute 'split'"
     ]
    }
   ],
   "source": [
    "kinetic_data = pd.DataFrame([x.description for x in SeqIO.parse('../data/flamholz_et_al_2019_kinetically_characterized.faa', \"fasta\")],columns=['kinetic_ID'])\n",
    "uclust_data = pd.read_csv('../output/02_90p_autotrophic_rubisco_tree/auto_uclust_all_0.9.csv')\n",
    "uclust_data = uclust_data[uclust_data['Type'] !='S']\n",
    "uclust_data.loc[uclust_data['Target'] == '*','Target'] = uclust_data.loc[uclust_data['Target'] == '*','Query']\n",
    "uclust_data['cut Target'] = uclust_data.Target.apply(lambda x: x.split(' ')[0])\n",
    "uclust_data = uclust_data.merge(kinetic_data, left_on='Query', right_on='kinetic_ID',how='left')\n",
    "uclust_data = uclust_data.merge(collapsed_nodes, left_on='cut Target', right_on='leaf_id',how='left')\n",
    "\n",
    "synth_data = pd.DataFrame([x.description for x in SeqIO.parse('../data/milo_synthetized_rubisco.faa', \"fasta\")],columns=['syn_ID'])\n",
    "uclust_data = uclust_data.merge(synth_data, left_on='Query', right_on='syn_ID',how='left')\n",
    "\n",
    "uclust_data['kinetic_flag'] = '-1'\n",
    "uclust_data['syn_flag'] = '-1'\n",
    "\n",
    "kinetic_centroid = uclust_data.loc[~pd.isna(uclust_data['kinetic_ID']),'Centroid'].unique()\n",
    "syn_centroid = uclust_data.loc[~pd.isna(uclust_data['syn_ID']),'Centroid'].unique()\n",
    "uclust_data.loc[uclust_data['Centroid'].isin(kinetic_centroid),'kinetic_flag'] = '1'\n",
    "uclust_data.loc[uclust_data['Centroid'].isin(syn_centroid),'syn_flag'] = '1'\n",
    "\n",
    "lines = uclust_data['Centroid'].apply(lambda x: x.split(' ')[0]).values + ','+ uclust_data['kinetic_flag'].values+','+uclust_data['syn_flag'].values+'\\n'\n",
    "\n",
    "unique_lines = np.unique(lines)"
   ]
  },
  {
   "cell_type": "code",
   "execution_count": 53,
   "metadata": {},
   "outputs": [],
   "source": [
    "with open('../data/kinetic_sampling_legend.txt','r') as file:\n",
    "    with open('../output/03_branch_length_cluster/kinetic_legend.txt', \"w\") as f1:\n",
    "        for row in file:\n",
    "            f1.write(row)\n",
    "        for line in unique_lines:\n",
    "            f1.write(line)\n",
    "        file.close()\n",
    "        f1.close()"
   ]
  },
  {
   "cell_type": "code",
   "execution_count": 71,
   "metadata": {},
   "outputs": [],
   "source": [
    "type_data = pd.read_csv('../data/jaffe_et_al_2018_rubisco_types.csv')\n",
    "uclust_data = uclust_data.merge(type_data, left_on='Query', right_on='ID',how='left')\n",
    "type_centroids = uclust_data.loc[~pd.isna(uclust_data['type']),['Centroid','type']]\n",
    "uclust_data = uclust_data.merge(type_centroids,left_on='Centroid',right_on='Centroid')"
   ]
  },
  {
   "cell_type": "code",
   "execution_count": 75,
   "metadata": {},
   "outputs": [],
   "source": [
    "color_map = {'I': '#28B463',\n",
    "             'II': '#E74C3C',\n",
    "             'II/III':'#AF7AC5',\n",
    "             'IIIa':'#AED6F1',\n",
    "             'IIIb':'#3498DB',\n",
    "             'IIIc':'#1F618D',\n",
    "             'IIIlike':'#5D6D7E',\n",
    "             'IV':'#F4D03F',\n",
    "             'IVlike':'#F8C471',\n",
    "             'unknown':'#F442D4'}\n",
    "lines = uclust_data['Centroid'].apply(lambda x: x.split(' ')[0]).values +[',label,node,'+color_map[x]+',1,normal\\n' for x in uclust_data['type_y'].values]\n",
    "lines = set(lines)\n",
    "with open('../data/itol_legend_template.txt','r') as file:\n",
    "    with open('../output/03_branch_length_cluster/type_legend.txt', \"w\") as f1:\n",
    "        for row in file:\n",
    "            f1.write(row)\n",
    "        for line in lines:\n",
    "            f1.write(line)\n",
    "        file.close()\n",
    "        f1.close()"
   ]
  }
 ],
 "metadata": {
  "kernelspec": {
   "display_name": "Python 3",
   "language": "python",
   "name": "python3"
  },
  "language_info": {
   "codemirror_mode": {
    "name": "ipython",
    "version": 3
   },
   "file_extension": ".py",
   "mimetype": "text/x-python",
   "name": "python",
   "nbconvert_exporter": "python",
   "pygments_lexer": "ipython3",
   "version": "3.6.7"
  }
 },
 "nbformat": 4,
 "nbformat_minor": 2
}
