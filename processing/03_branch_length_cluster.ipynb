{
 "cells": [
  {
   "cell_type": "code",
   "execution_count": 2,
   "metadata": {},
   "outputs": [],
   "source": [
    "import pandas as pd\n",
    "from Bio import SeqIO, AlignIO, Seq\n",
    "import numpy as np\n",
    "from collections import Counter\n",
    "from helper import *\n",
    "import python_cipres.client as CipresClient\n",
    "from ete3 import Tree, TreeStyle"
   ]
  },
  {
   "cell_type": "code",
   "execution_count": 3,
   "metadata": {},
   "outputs": [],
   "source": [
    "def check_avg_length(node,th=0.4):\n",
    "    desc_length = np.mean([x.tot_dist for x in node.get_leaves()]) - node.tot_dist\n",
    "    if desc_length < th:\n",
    "        return True\n",
    "    else:\n",
    "        return False\n",
    "\n",
    "def collapse_tree(node,th=0.4):\n",
    "    global cluster_id\n",
    "    cluster_list = pd.DataFrame([],columns=['leaf_id','cluster_id'])\n",
    "    if check_avg_length(node,th):\n",
    "        cluster_list = pd.DataFrame([[x.name, cluster_id] for x in node.get_leaves()],columns=['leaf_id','cluster_id'])\n",
    "        cluster_id = cluster_id + 1\n",
    "    else:\n",
    "        for child in node.get_children():\n",
    "            #print(child.name)\n",
    "            desc_list = collapse_tree(child,th)\n",
    "            cluster_list = pd.concat([cluster_list,desc_list])\n",
    "    return cluster_list"
   ]
  },
  {
   "cell_type": "code",
   "execution_count": 10,
   "metadata": {},
   "outputs": [],
   "source": [
    "t = Tree('../output/02_90p_autotrophic_rubisco_tree/RaxML/RAxML_bestTree.result')\n",
    "auto_rub90 = pd.read_csv('../output/02_90p_autotrophic_rubisco_tree/uclust_all_0.9_with_type.csv')\n",
    "t.set_outgroup(t.get_leaves_by_name(auto_rub90.loc[auto_rub90['type'] == 'IV-outgroup','Target_y'].values[0])[0])\n",
    "for leaf in t.traverse():\n",
    "    leaf.add_feature('tot_dist',np.array([x.dist for x in leaf.get_ancestors()]).sum()+leaf.dist)"
   ]
  },
  {
   "cell_type": "code",
   "execution_count": 11,
   "metadata": {},
   "outputs": [],
   "source": [
    "global cluster_id\n",
    "cluster_id = 0\n",
    "collapsed_nodes = collapse_tree(t,0.4)"
   ]
  },
  {
   "cell_type": "code",
   "execution_count": 12,
   "metadata": {},
   "outputs": [
    {
     "data": {
      "text/plain": [
       "[Tree node 'gi|1133712163|ref|WP_076097556.1|' (-0x7ffff8036504ed54),\n",
       " Tree node 'RBC4_62' (0x7fc9afab81d),\n",
       " Tree node 'RBC_81' (0x7fc9afb12b0)]"
      ]
     },
     "execution_count": 12,
     "metadata": {},
     "output_type": "execute_result"
    }
   ],
   "source": [
    "g = t.get_leaves_by_name('gi|1133712163|ref|WP_076097556.1|')[0]\n",
    "g.get_ancestors()[0].get_leaves()"
   ]
  },
  {
   "cell_type": "code",
   "execution_count": 13,
   "metadata": {},
   "outputs": [
    {
     "data": {
      "text/plain": [
       "type\n",
       "I              27\n",
       "II             15\n",
       "II/III          6\n",
       "III-like       12\n",
       "IIIa           23\n",
       "IIIc           17\n",
       "IV-outgroup     1\n",
       "Name: cluster_id, dtype: int64"
      ]
     },
     "execution_count": 13,
     "metadata": {},
     "output_type": "execute_result"
    }
   ],
   "source": [
    "auto_rub90 = pd.read_csv('../output/02_90p_autotrophic_rubisco_tree/uclust_all_0.9_with_type.csv')\n",
    "auto_rub90\n",
    "auto_rub90['cut Target'] = auto_rub90.Target_y.apply(lambda x: x.split(' ')[0])\n",
    "auto_rub90 = auto_rub90.merge(collapsed_nodes,left_on='cut Target',right_on='leaf_id')\n",
    "#collapsed_nodes\n",
    "#auto_rub90.loc[~auto_rub90['cut Target'].isin(collapsed_nodes['leaf_id']),'cut Target']\n",
    "#auto_rub90['cut Target'].nunique()\n",
    "auto_rub90.groupby('type')['cluster_id'].nunique()\n",
    "#auto_rub90.to_csv('../output/03_branch_length_cluster/uclust_0.9_with_bl_0.4.csv')"
   ]
  },
  {
   "cell_type": "code",
   "execution_count": 14,
   "metadata": {},
   "outputs": [],
   "source": [
    "collapsed_nodes['synth'] = collapsed_nodes['leaf_id'].str.startswith('RBC')\n",
    "prune_list = []\n",
    "for x in collapsed_nodes.groupby('cluster_id'):\n",
    "    x2 = x[1]\n",
    "    x3 = x2[x2['synth']==True]\n",
    "    if len(x3)>0:\n",
    "        prune_list.append(x3.iloc[0].leaf_id)\n",
    "        collapsed_nodes.loc[collapsed_nodes.cluster_id==x[0],'Centroid'] = x3.iloc[0].leaf_id\n",
    "    else:\n",
    "        prune_list.append(x2.iloc[0].leaf_id)\n",
    "        collapsed_nodes.loc[collapsed_nodes.cluster_id==x[0],'Centroid'] = x2.iloc[0].leaf_id"
   ]
  },
  {
   "cell_type": "code",
   "execution_count": 15,
   "metadata": {},
   "outputs": [
    {
     "name": "stdout",
     "output_type": "stream",
     "text": [
      "Number of leaf nodes:\t101\n",
      "Total number of nodes:\t201\n",
      "Rooted:\tYes\n",
      "Most distant node:\tRBC_41\n",
      "Max. distance:\t6.208213\n"
     ]
    }
   ],
   "source": [
    "t_pruned = t.copy()\n",
    "t_pruned.prune(prune_list,preserve_branch_length=True)\n",
    "t_pruned.describe()"
   ]
  },
  {
   "cell_type": "code",
   "execution_count": 16,
   "metadata": {},
   "outputs": [],
   "source": [
    "!mkdir -p ../output/03_branch_length_cluster\n",
    "t_pruned.write(features=[],outfile='../output/03_branch_length_cluster/pruned_tree0.4.nwk')"
   ]
  },
  {
   "cell_type": "code",
   "execution_count": 18,
   "metadata": {},
   "outputs": [],
   "source": [
    "kinetic_data = pd.DataFrame([x.description for x in SeqIO.parse('../data/flamholz_et_al_2019_kinetically_characterized.faa', \"fasta\")],columns=['kinetic_ID'])\n",
    "uclust_data = pd.read_csv('../output/02_90p_autotrophic_rubisco_tree/auto_uclust_all_0.9.csv')\n",
    "uclust_data = uclust_data[uclust_data['Type'] !='S']\n",
    "uclust_data.loc[uclust_data['Target'] == '*','Target'] = uclust_data.loc[uclust_data['Target'] == '*','Query']\n",
    "uclust_data['cut Target'] = uclust_data.Target.apply(lambda x: x.split(' ')[0])\n",
    "uclust_data = uclust_data.merge(kinetic_data, left_on='Query', right_on='kinetic_ID',how='left')\n",
    "uclust_data = uclust_data.merge(collapsed_nodes, left_on='cut Target', right_on='leaf_id',how='left')\n",
    "\n",
    "synth_data = pd.DataFrame([x.description for x in SeqIO.parse('../data/milo_synthetized_rubisco.faa', \"fasta\")],columns=['syn_ID'])\n",
    "uclust_data = uclust_data.merge(synth_data, left_on='Query', right_on='syn_ID',how='left')\n",
    "\n",
    "uclust_data['kinetic_flag'] = '-1'\n",
    "uclust_data['syn_flag'] = '-1'\n",
    "\n",
    "kinetic_centroid = uclust_data.loc[~pd.isna(uclust_data['kinetic_ID']),'Centroid'].unique()\n",
    "syn_centroid = uclust_data.loc[~pd.isna(uclust_data['syn_ID']),'Centroid'].unique()\n",
    "uclust_data.loc[uclust_data['Centroid'].isin(kinetic_centroid),'kinetic_flag'] = '1'\n",
    "uclust_data.loc[uclust_data['Centroid'].isin(syn_centroid),'syn_flag'] = '1'\n",
    "\n",
    "lines = uclust_data['Centroid'].apply(lambda x: x.split(' ')[0]).values + ','+ uclust_data['kinetic_flag'].values+','+uclust_data['syn_flag'].values+'\\n'\n",
    "\n",
    "unique_lines = np.unique(lines)"
   ]
  },
  {
   "cell_type": "code",
   "execution_count": 19,
   "metadata": {},
   "outputs": [],
   "source": [
    "with open('../data/kinetic_sampling_legend.txt','r') as file:\n",
    "    with open('../output/03_branch_length_cluster/kinetic_legend.txt', \"w\") as f1:\n",
    "        for row in file:\n",
    "            f1.write(row)\n",
    "        for line in unique_lines:\n",
    "            f1.write(line)\n",
    "        file.close()\n",
    "        f1.close()"
   ]
  },
  {
   "cell_type": "code",
   "execution_count": 20,
   "metadata": {},
   "outputs": [],
   "source": [
    "type_data = pd.read_csv('../data/jaffe_et_al_2018_rubisco_types.csv')\n",
    "uclust_data = uclust_data.merge(type_data, left_on='Query', right_on='ID',how='left')\n",
    "type_centroids = uclust_data.loc[~pd.isna(uclust_data['type']),['Centroid','type']]\n",
    "uclust_data = uclust_data.merge(type_centroids,left_on='Centroid',right_on='Centroid')"
   ]
  },
  {
   "cell_type": "code",
   "execution_count": 21,
   "metadata": {},
   "outputs": [],
   "source": [
    "color_map = {'I': '#28B463',\n",
    "             'II': '#E74C3C',\n",
    "             'II/III':'#AF7AC5',\n",
    "             'IIIa':'#AED6F1',\n",
    "             'IIIb':'#3498DB',\n",
    "             'IIIc':'#1F618D',\n",
    "             'IIIlike':'#5D6D7E',\n",
    "             'IV':'#F4D03F',\n",
    "             'IVlike':'#F8C471',\n",
    "             'unknown':'#F442D4'}\n",
    "lines = uclust_data['Centroid'].apply(lambda x: x.split(' ')[0]).values +[',label,node,'+color_map[x]+',1,normal\\n' for x in uclust_data['type_y'].values]\n",
    "lines = set(lines)\n",
    "with open('../data/itol_legend_template.txt','r') as file:\n",
    "    with open('../output/03_branch_length_cluster/type_legend.txt', \"w\") as f1:\n",
    "        for row in file:\n",
    "            f1.write(row)\n",
    "        for line in lines:\n",
    "            f1.write(line)\n",
    "        file.close()\n",
    "        f1.close()"
   ]
  }
 ],
 "metadata": {
  "kernelspec": {
   "display_name": "Python 3",
   "language": "python",
   "name": "python3"
  },
  "language_info": {
   "codemirror_mode": {
    "name": "ipython",
    "version": 3
   },
   "file_extension": ".py",
   "mimetype": "text/x-python",
   "name": "python",
   "nbconvert_exporter": "python",
   "pygments_lexer": "ipython3",
   "version": "3.5.2"
  }
 },
 "nbformat": 4,
 "nbformat_minor": 2
}
