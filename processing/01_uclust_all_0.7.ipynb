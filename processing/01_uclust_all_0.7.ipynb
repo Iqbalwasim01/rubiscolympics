{
 "cells": [
  {
   "cell_type": "code",
   "execution_count": 10,
   "metadata": {},
   "outputs": [],
   "source": [
    "import os, shutil\n",
    "import pandas as pd\n",
    "from Bio import SeqIO"
   ]
  },
  {
   "cell_type": "code",
   "execution_count": 11,
   "metadata": {},
   "outputs": [],
   "source": [
    "fasta = r\"..\\data\\RuBisCO.300-700.faa\"\n",
    "\n",
    "# Linux - Change bin\n",
    "#uclust = \"../bin/usearch11.0.667_win32.exe -cluster_fast %s -id 0.7 -uc ../output/01_uclust_all_0.7.nc\" %fasta\n",
    "\n",
    "# Windows\n",
    "uclust = r\"..\\bin\\usearch11.0.667_win32.exe -cluster_fast %s -id 0.7 -uc ..\\output\\01_uclust_all_0.7.uc\" %fasta"
   ]
  },
  {
   "cell_type": "code",
   "execution_count": 12,
   "metadata": {},
   "outputs": [
    {
     "data": {
      "text/plain": [
       "0"
      ]
     },
     "execution_count": 12,
     "metadata": {},
     "output_type": "execute_result"
    }
   ],
   "source": [
    "os.system(uclust) "
   ]
  },
  {
   "cell_type": "code",
   "execution_count": 15,
   "metadata": {},
   "outputs": [],
   "source": [
    "header = ['Type','Cluster','Size','%Id','Strand','Qlo','Tlo','Alignment','Query','Target']\n",
    "uclust = pd.read_csv(r\"..\\output\\01_uclust_all_0.7.uc\", sep='\\t', names=header, index_col=False)\n",
    "centroids = uclust[uclust['Type']=='C']\n",
    "c_list = centroids.iloc[:,8].values\n",
    "c_list = [c.split(\" \")[0] for c in c_list]\n",
    "\n",
    "sequences = []\n",
    "for record in SeqIO.parse(fasta, \"fasta\"):\n",
    "    if record.id in c_list:\n",
    "        sequences.append(record)\n",
    "        \n",
    "with open(r\"..\\output\\01_uclust_all_0.7.faa\", \"w\") as output_handle:\n",
    "    SeqIO.write(sequences, output_handle, \"fasta\")\n",
    "\n",
    "uclust.to_csv(r'..\\output\\01_uclust_all_0.7.csv',index=False)"
   ]
  }
 ],
 "metadata": {
  "kernelspec": {
   "display_name": "Python 3",
   "language": "python",
   "name": "python3"
  },
  "language_info": {
   "codemirror_mode": {
    "name": "ipython",
    "version": 3
   },
   "file_extension": ".py",
   "mimetype": "text/x-python",
   "name": "python",
   "nbconvert_exporter": "python",
   "pygments_lexer": "ipython3",
   "version": "3.6.5"
  }
 },
 "nbformat": 4,
 "nbformat_minor": 2
}
