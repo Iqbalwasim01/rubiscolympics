{
 "cells": [
  {
   "cell_type": "code",
   "execution_count": 1,
   "metadata": {},
   "outputs": [],
   "source": [
    "import os, shutil\n",
    "import pandas as pd\n",
    "from Bio import SeqIO"
   ]
  },
  {
   "cell_type": "code",
   "execution_count": 11,
   "metadata": {},
   "outputs": [],
   "source": [
    "!cat ../data/RuBisCO.300-700.faa ../data/flamholz_et_al_2019_kinetically_characterized.faa ../data/erb_et_al_2012_rubisco_superfamilies.faa > ../data/merged_data.faa"
   ]
  },
  {
   "cell_type": "code",
   "execution_count": 12,
   "metadata": {},
   "outputs": [],
   "source": [
    "fasta = r\"../data/merged_data.faa\"\n",
    "\n",
    "# Linux - Change bin\n",
    "uclust = \"../bin/usearch11.0.667_i86linux32 -cluster_fast %s -id 0.7 -uc ../output/01_uclust_all_0.7.uc\" %fasta\n",
    "\n",
    "# Windows\n",
    "#uclust = r\"..\\bin\\usearch11.0.667_win32.exe -cluster_fast %s -id 0.7 -uc ..\\output\\01_uclust_all_0.7.uc\" %fasta"
   ]
  },
  {
   "cell_type": "code",
   "execution_count": 13,
   "metadata": {},
   "outputs": [
    {
     "data": {
      "text/plain": [
       "0"
      ]
     },
     "execution_count": 13,
     "metadata": {},
     "output_type": "execute_result"
    }
   ],
   "source": [
    "os.system(uclust) "
   ]
  },
  {
   "cell_type": "code",
   "execution_count": 14,
   "metadata": {},
   "outputs": [],
   "source": [
    "header = ['Type','Cluster','Size','%Id','Strand','Qlo','Tlo','Alignment','Query','Target']\n",
    "uclust = pd.read_csv(r\"../output/01_uclust_all_0.7.uc\", sep='\\t', names=header, index_col=False)\n",
    "centroids = uclust[uclust['Type']=='C']\n",
    "c_list = centroids.iloc[:,8].values\n",
    "c_list = [c.split(\" \")[0] for c in c_list]\n",
    "\n",
    "sequences = []\n",
    "for record in SeqIO.parse(fasta, \"fasta\"):\n",
    "    if record.id in c_list:\n",
    "        sequences.append(record)\n",
    "        \n",
    "with open(r\"../output/01_uclust_all_0.7.faa\", \"w\") as output_handle:\n",
    "    SeqIO.write(sequences, output_handle, \"fasta\")\n",
    "\n",
    "uclust.to_csv(r'../output/01_uclust_all_0.7.csv',index=False)"
   ]
  },
  {
   "cell_type": "code",
   "execution_count": 16,
   "metadata": {},
   "outputs": [
    {
     "name": "stdout",
     "output_type": "stream",
     "text": [
      "nthread = 0\n",
      "nthreadpair = 0\n",
      "nthreadtb = 0\n",
      "ppenalty_ex = 0\n",
      "stacksize: 8192 kb\n",
      "rescale = 1\n",
      "Gap Penalty = -1.53, +0.00, +0.00\n",
      "\n",
      "\n",
      "\n",
      "Making a distance matrix ..\n",
      "\n",
      "There are 39 ambiguous characters.\n",
      "  401 / 470\n",
      "done.\n",
      "\n",
      "Constructing a UPGMA tree (efffree=0) ... \n",
      "  460 / 470\n",
      "done.\n",
      "\n",
      "Progressive alignment 1/2... \n",
      "STEP   321 / 469 \n",
      "Reallocating..done. *alloclen = 2525\n",
      "STEP   458 / 469 \n",
      "Reallocating..done. *alloclen = 3534\n",
      "STEP   469 / 469  h\n",
      "done.\n",
      "\n",
      "Making a distance matrix from msa.. \n",
      "  400 / 470\n",
      "done.\n",
      "\n",
      "Constructing a UPGMA tree (efffree=1) ... \n",
      "  460 / 470\n",
      "done.\n",
      "\n",
      "Progressive alignment 2/2... \n",
      "STEP   293 / 469 \n",
      "Reallocating..done. *alloclen = 2482\n",
      "STEP   462 / 469  h\n",
      "Reallocating..done. *alloclen = 3519\n",
      "STEP   469 / 469  h\n",
      "done.\n",
      "\n",
      "disttbfast (aa) Version 7.427\n",
      "alg=A, model=BLOSUM62, 1.53, -0.00, -0.00, noshift, amax=0.0\n",
      "0 thread(s)\n",
      "\n",
      "\n",
      "Strategy:\n",
      " FFT-NS-2 (Fast but rough)\n",
      " Progressive method (guide trees were built 2 times.)\n",
      "\n",
      "If unsure which option to use, try 'mafft --auto input > output'.\n",
      "For more information, see 'mafft --help', 'mafft --man' and the mafft page.\n",
      "\n",
      "The default gap scoring scheme has been changed in version 7.110 (2013 Oct).\n",
      "It tends to insert more gaps into gap-rich regions than previous versions.\n",
      "To disable this change, add the --leavegappyregion option.\n",
      "\n"
     ]
    }
   ],
   "source": [
    "!../bin/mafft-linux64/mafft.bat ../output/01_uclust_all_0.7.faa > ../output/02_uclust_all_0.7.aln"
   ]
  },
  {
   "cell_type": "code",
   "execution_count": 19,
   "metadata": {},
   "outputs": [
    {
     "name": "stdout",
     "output_type": "stream",
     "text": [
      "FastTree Version 2.1.10 SSE3\n",
      "Alignment: ../output/02_uclust_all_0.7.aln\n",
      "Amino acid distances: BLOSUM45 Joins: balanced Support: SH-like 1000\n",
      "Search: Normal +NNI +SPR (4 rounds range 10) +ML-NNI opt-each=2\n",
      "TopHits: 1.00*sqrtN close=default refresh=0.80\n",
      "ML Model: Jones-Taylor-Thorton, CAT approximation with 20 rate categories\n",
      "Ignored unknown character B (seen 5 times)\n",
      "Ignored unknown character X (seen 39 times)\n",
      "Ignored unknown character Z (seen 4 times)\n",
      "Initial topology in 0.87 seconds\n",
      "Refining topology: 36 rounds ME-NNIs, 4 rounds ME-SPRs, 18 rounds ML-NNIs\n",
      "Total branch-length 131.107 after 10.56 sec\n",
      "ML-NNI round 1: LogLk = -289885.926 NNIs 89 max delta 26.13 Time 22.35\n",
      "Switched to using 20 rate categories (CAT approximation)\n",
      "Rate categories were divided by 0.916 so that average rate = 1.0\n",
      "CAT-based log-likelihoods may not be comparable across runs\n",
      "Use -gamma for approximate but comparable Gamma(20) log-likelihoods\n",
      "ML-NNI round 2: LogLk = -275463.058 NNIs 57 max delta 19.31 Time 35.20\n",
      "ML-NNI round 3: LogLk = -275411.180 NNIs 25 max delta 5.36 Time 46.18\n",
      "ML-NNI round 4: LogLk = -275402.779 NNIs 4 max delta 2.29 Time 57.04\n",
      "ML-NNI round 5: LogLk = -275400.946 NNIs 1 max delta 1.36 Time 67.67\n",
      "ML-NNI round 6: LogLk = -275400.820 NNIs 0 max delta 0.00 Time 78.58\n",
      "Turning off heuristics for final round of ML NNIs (converged)\n",
      "ML-NNI round 7: LogLk = -275400.819 NNIs 0 max delta 0.00 Time 89.53 (final)\n",
      "Optimize all lengths: LogLk = -275400.819 Time 91.59\n",
      "Total time: 98.99 seconds Unique: 470/470 Bad splits: 0/467\n"
     ]
    }
   ],
   "source": [
    "!../bin/FastTree -spr 4 -mlacc 2 -slownni ../output/02_uclust_all_0.7.aln > ../output/03_uclust_all_0.7.nwk"
   ]
  },
  {
   "cell_type": "code",
   "execution_count": 33,
   "metadata": {},
   "outputs": [
    {
     "data": {
      "text/plain": [
       "array(['gi|37087672|sp|O58677.1|RBL_PYRHO,label,node,#ff0000,1,normal\\n',\n",
       "       'gi|37087672|sp|O58677.1|RBL_PYRHO,label,node,#ff0000,1,normal\\n',\n",
       "       'gi|505096769|ref|WP_015283871.1|,label,node,#ff0000,1,normal\\n',\n",
       "       'gi|523387592|emb|CDF56957.1|,label,node,#a0bc5d,1,normal\\n',\n",
       "       'gi|523387592|emb|CDF56957.1|,label,node,#a0bc5d,1,normal\\n',\n",
       "       'gi|518331021|ref|WP_019501228.1|,label,node,#a0bc5d,1,normal\\n',\n",
       "       'gi|1055947567|ref|WP_067489955.1|,label,node,#a0bc5d,1,normal\\n',\n",
       "       'gi|1055947567|ref|WP_067489955.1|,label,node,#a0bc5d,1,normal\\n',\n",
       "       'gi|703265142|emb|CDI73524.1|,label,node,#a0bc5d,1,normal\\n',\n",
       "       'gi|1055947567|ref|WP_067489955.1|,label,node,#a0bc5d,1,normal\\n',\n",
       "       'gi|1055947567|ref|WP_067489955.1|,label,node,#a0bc5d,1,normal\\n',\n",
       "       'RBG_16_Gammaproteobacteria_62_13__RBG_16_scaffold_11150_2,label,node,#1d69d2,1,normal\\n',\n",
       "       'gi|851308879|ref|WP_048172188.1|,label,node,#ff0000,1,normal\\n',\n",
       "       'gi|851308879|ref|WP_048172188.1|,label,node,#ff0000,1,normal\\n',\n",
       "       'gi|523387592|emb|CDF56957.1|,label,node,#a0bc5d,1,normal\\n',\n",
       "       'gi|523387592|emb|CDF56957.1|,label,node,#a0bc5d,1,normal\\n',\n",
       "       'gi|518331021|ref|WP_019501228.1|,label,node,#a0bc5d,1,normal\\n',\n",
       "       'gi|1055947567|ref|WP_067489955.1|,label,node,#a0bc5d,1,normal\\n',\n",
       "       'gi|703265142|emb|CDI73524.1|,label,node,#a0bc5d,1,normal\\n',\n",
       "       'gi|657350008|ref|WP_029406688.1|,label,node,#1d69d2,1,normal\\n',\n",
       "       'RBG_16_Gammaproteobacteria_62_13__RBG_16_scaffold_11150_2,label,node,#1d69d2,1,normal\\n',\n",
       "       'gi|1214751717|ref|WP_088863023.1|,label,node,#ff0000,1,normal\\n',\n",
       "       'gi|37087672|sp|O58677.1|RBL_PYRHO,label,node,#ff0000,1,normal\\n',\n",
       "       'gi|503328002|ref|WP_013562663.1|,label,node,#ff0000,1,normal\\n',\n",
       "       'gi|523387592|emb|CDF56957.1|,label,node,#a0bc5d,1,normal\\n',\n",
       "       'gi|223541024|gb|EEF42581.1|,label,node,#a0bc5d,1,normal\\n',\n",
       "       'gi|223541024|gb|EEF42581.1|,label,node,#a0bc5d,1,normal\\n',\n",
       "       'gi|388537986|gb|AFK63174.1|,label,node,#a0bc5d,1,normal\\n',\n",
       "       'gi|703265142|emb|CDI73524.1|,label,node,#a0bc5d,1,normal\\n',\n",
       "       'gi|1055947567|ref|WP_067489955.1|,label,node,#a0bc5d,1,normal\\n',\n",
       "       'gi|1208337011|ref|WP_088171943.1|,label,node,#ff0000,1,normal\\n',\n",
       "       'gi|494102711|ref|WP_007043498.1|,label,node,#ff0000,1,normal\\n',\n",
       "       'gi|505404440|ref|WP_015591542.1|,label,node,#ff0000,1,normal\\n',\n",
       "       'gi|503328002|ref|WP_013562663.1|,label,node,#ff0000,1,normal\\n',\n",
       "       'gi|503328002|ref|WP_013562663.1|,label,node,#ff0000,1,normal\\n',\n",
       "       'gi|494102711|ref|WP_007043498.1|,label,node,#ff0000,1,normal\\n',\n",
       "       'gi|503328002|ref|WP_013562663.1|,label,node,#ff0000,1,normal\\n',\n",
       "       'gi|544638237|ref|WP_021072809.1|,label,node,#ff0000,1,normal\\n',\n",
       "       'gi|523387592|emb|CDF56957.1|,label,node,#a0bc5d,1,normal\\n',\n",
       "       'gi|518331021|ref|WP_019501228.1|,label,node,#a0bc5d,1,normal\\n',\n",
       "       'gi|518331021|ref|WP_019501228.1|,label,node,#a0bc5d,1,normal\\n',\n",
       "       'gi|703265142|emb|CDI73524.1|,label,node,#a0bc5d,1,normal\\n',\n",
       "       'gi|494538|pdb|1RBA|A,label,node,#1d69d2,1,normal\\n',\n",
       "       'RBG_16_Gammaproteobacteria_62_13__RBG_16_scaffold_11150_2,label,node,#1d69d2,1,normal\\n',\n",
       "       'gi|494102711|ref|WP_007043498.1|,label,node,#ff0000,1,normal\\n',\n",
       "       'gi|37087672|sp|O58677.1|RBL_PYRHO,label,node,#ff0000,1,normal\\n',\n",
       "       'gi|851308879|ref|WP_048172188.1|,label,node,#ff0000,1,normal\\n',\n",
       "       'gi|851308879|ref|WP_048172188.1|,label,node,#ff0000,1,normal\\n',\n",
       "       'gi|502959403|ref|WP_013194379.1|,label,node,#ff0000,1,normal\\n',\n",
       "       'gi|851308879|ref|WP_048172188.1|,label,node,#ff0000,1,normal\\n',\n",
       "       'gi|851308879|ref|WP_048172188.1|,label,node,#ff0000,1,normal\\n',\n",
       "       'gi|494102711|ref|WP_007043498.1|,label,node,#ff0000,1,normal\\n',\n",
       "       'gi|523387592|emb|CDF56957.1|,label,node,#a0bc5d,1,normal\\n',\n",
       "       'gi|518331021|ref|WP_019501228.1|,label,node,#a0bc5d,1,normal\\n',\n",
       "       'gi|518331021|ref|WP_019501228.1|,label,node,#a0bc5d,1,normal\\n',\n",
       "       'gi|388537986|gb|AFK63174.1|,label,node,#a0bc5d,1,normal\\n',\n",
       "       'gi|703265142|emb|CDI73524.1|,label,node,#a0bc5d,1,normal\\n',\n",
       "       'TARA_072.SAMEA2621151.5.0-0.22_7376_5,label,node,#a0bc5d,1,normal\\n',\n",
       "       'gi|523387592|emb|CDF56957.1|,label,node,#a0bc5d,1,normal\\n',\n",
       "       'gi|518331021|ref|WP_019501228.1|,label,node,#a0bc5d,1,normal\\n',\n",
       "       'gi|518331021|ref|WP_019501228.1|,label,node,#a0bc5d,1,normal\\n',\n",
       "       'gi|347800927|gb|AEP20655.1|,label,node,#a0bc5d,1,normal\\n',\n",
       "       'TARA_025.SAMEA2619782.50.0.22-1.6_16872_5,label,node,#a0bc5d,1,normal\\n',\n",
       "       'gi|494538|pdb|1RBA|A,label,node,#1d69d2,1,normal\\n',\n",
       "       'gi|494102711|ref|WP_007043498.1|,label,node,#ff0000,1,normal\\n',\n",
       "       'gi|503663498|ref|WP_013897574.1|,label,node,#ffbf00,1,normal\\n',\n",
       "       'gi|37087672|sp|O58677.1|RBL_PYRHO,label,node,#ff0000,1,normal\\n',\n",
       "       'gi|503328002|ref|WP_013562663.1|,label,node,#ff0000,1,normal\\n',\n",
       "       'gi|494102711|ref|WP_007043498.1|,label,node,#ff0000,1,normal\\n',\n",
       "       'gi|518331021|ref|WP_019501228.1|,label,node,#a0bc5d,1,normal\\n',\n",
       "       'gi|518331021|ref|WP_019501228.1|,label,node,#a0bc5d,1,normal\\n',\n",
       "       'TARA_072.SAMEA2621151.5.0-0.22_7376_5,label,node,#a0bc5d,1,normal\\n',\n",
       "       'gi|518331021|ref|WP_019501228.1|,label,node,#a0bc5d,1,normal\\n',\n",
       "       'gi|388537986|gb|AFK63174.1|,label,node,#a0bc5d,1,normal\\n',\n",
       "       'gi|388537986|gb|AFK63174.1|,label,node,#a0bc5d,1,normal\\n',\n",
       "       'RBG_16_Gammaproteobacteria_62_13__RBG_16_scaffold_11150_2,label,node,#1d69d2,1,normal\\n',\n",
       "       'gi|494538|pdb|1RBA|A,label,node,#1d69d2,1,normal\\n',\n",
       "       'RBG_16_Gammaproteobacteria_62_13__RBG_16_scaffold_11150_2,label,node,#1d69d2,1,normal\\n',\n",
       "       'gi|494538|pdb|1RBA|A,label,node,#1d69d2,1,normal\\n',\n",
       "       'gi|494538|pdb|1RBA|A,label,node,#1d69d2,1,normal\\n',\n",
       "       'gi|503328002|ref|WP_013562663.1|,label,node,#ff0000,1,normal\\n',\n",
       "       'gi|37087672|sp|O58677.1|RBL_PYRHO,label,node,#ff0000,1,normal\\n',\n",
       "       'gi|505096769|ref|WP_015283871.1|,label,node,#ff0000,1,normal\\n',\n",
       "       'TARA_072.SAMEA2621151.5.0-0.22_7376_5,label,node,#a0bc5d,1,normal\\n',\n",
       "       'gi|358252603|gb|AEU04903.1|,label,node,#a0bc5d,1,normal\\n',\n",
       "       'gi|518331021|ref|WP_019501228.1|,label,node,#a0bc5d,1,normal\\n',\n",
       "       'gi|518331021|ref|WP_019501228.1|,label,node,#a0bc5d,1,normal\\n',\n",
       "       'gi|388537986|gb|AFK63174.1|,label,node,#a0bc5d,1,normal\\n',\n",
       "       'gi|29726049|gb|AAL46534.1|,label,node,#a0bc5d,1,normal\\n',\n",
       "       'gi|703265142|emb|CDI73524.1|,label,node,#a0bc5d,1,normal\\n',\n",
       "       'gi|29726049|gb|AAL46534.1|,label,node,#a0bc5d,1,normal\\n',\n",
       "       'gi|494538|pdb|1RBA|A,label,node,#1d69d2,1,normal\\n',\n",
       "       'gi|494538|pdb|1RBA|A,label,node,#1d69d2,1,normal\\n',\n",
       "       'RBG_16_Gammaproteobacteria_62_13__RBG_16_scaffold_11150_2,label,node,#1d69d2,1,normal\\n',\n",
       "       'gi_119720133_Thermofilum_pendens_Hrk_5,label,node,#ff0000,1,normal\\n',\n",
       "       'gi_76557892_Natronomonas_pharaonis_DSM_2160,label,node,#ff0000,1,normal\\n',\n",
       "       'gi_284162730_Archaeoglobus_profundus_DSM_5631,label,node,#ff0000,1,normal\\n'],\n",
       "      dtype=object)"
      ]
     },
     "execution_count": 33,
     "metadata": {},
     "output_type": "execute_result"
    }
   ],
   "source": [
    "labels = pd.read_csv('../data/verified_rubisco_types.csv')\n",
    "uclust_data = pd.read_csv('../output/01_uclust_all_0.7.csv')\n",
    "uclust_data = uclust_data[uclust_data['Type'] !='S']\n",
    "uclust_data.loc[uclust_data['Target'] == '*','Target'] = uclust_data.loc[uclust_data['Target'] == '*','Query']\n",
    "uclust_data = uclust_data.merge(labels, left_on='Query', right_on='ID',how='left')\n",
    "labeled_leaves = uclust_data[~pd.isna(uclust_data['type'])]\n",
    "#labels[~labels['ID'].isin(uclust_data['ID'])]\n",
    "#labels\n",
    "color_map = {'1': '#a0bc5d', '2': '#1d69d2', '3':'#ff0000','2_3':'#ffbf00'}\n",
    "lines = labeled_leaves['Target'].apply(lambda x: x.split(' ')[0]).values +[',label,node,'+color_map[x]+',1,normal\\n' for x in labeled_leaves['type'].values]\n",
    "lines  "
   ]
  },
  {
   "cell_type": "code",
   "execution_count": 34,
   "metadata": {},
   "outputs": [],
   "source": [
    "with open('../data/itol_legend_template.txt','a+') as file:\n",
    "    for line in lines:\n",
    "        file.write(line)\n",
    "    file.close()"
   ]
  }
 ],
 "metadata": {
  "kernelspec": {
   "display_name": "Python 3",
   "language": "python",
   "name": "python3"
  },
  "language_info": {
   "codemirror_mode": {
    "name": "ipython",
    "version": 3
   },
   "file_extension": ".py",
   "mimetype": "text/x-python",
   "name": "python",
   "nbconvert_exporter": "python",
   "pygments_lexer": "ipython3",
   "version": "3.5.2"
  }
 },
 "nbformat": 4,
 "nbformat_minor": 2
}
