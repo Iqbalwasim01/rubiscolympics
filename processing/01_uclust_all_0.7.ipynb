{
 "cells": [
  {
   "cell_type": "code",
   "execution_count": 10,
   "metadata": {},
   "outputs": [],
   "source": [
    "import os, shutil\n",
    "import pandas as pd\n",
    "from Bio import SeqIO"
   ]
  },
  {
   "cell_type": "code",
   "execution_count": 11,
   "metadata": {},
   "outputs": [],
   "source": [
    "!cat ../data/RuBisCO.300-700.faa ../data/flamholz_et_al_2019_kinetically_characterized.faa ../data/erb_et_al_2012_rubisco_superfamilies.faa > ../data/merged_data.faa"
   ]
  },
  {
   "cell_type": "code",
   "execution_count": 12,
   "metadata": {},
   "outputs": [],
   "source": [
    "fasta = r\"../data/merged_data.faa\"\n",
    "\n",
    "# Linux - Change bin\n",
    "uclust = \"../bin/usearch11.0.667_i86linux32 -cluster_fast %s -id 0.7 -uc ../output/01_uclust_all_0.7.uc\" %fasta\n",
    "\n",
    "# Windows\n",
    "#uclust = r\"..\\bin\\usearch11.0.667_win32.exe -cluster_fast %s -id 0.7 -uc ..\\output\\01_uclust_all_0.7.uc\" %fasta"
   ]
  },
  {
   "cell_type": "code",
   "execution_count": 13,
   "metadata": {},
   "outputs": [
    {
     "data": {
      "text/plain": [
       "0"
      ]
     },
     "execution_count": 13,
     "metadata": {},
     "output_type": "execute_result"
    }
   ],
   "source": [
    "os.system(uclust) "
   ]
  },
  {
   "cell_type": "code",
   "execution_count": 14,
   "metadata": {},
   "outputs": [],
   "source": [
    "header = ['Type','Cluster','Size','%Id','Strand','Qlo','Tlo','Alignment','Query','Target']\n",
    "uclust = pd.read_csv(r\"../output/01_uclust_all_0.7.uc\", sep='\\t', names=header, index_col=False)\n",
    "centroids = uclust[uclust['Type']=='C']\n",
    "c_list = centroids.iloc[:,8].values\n",
    "c_list = [c.split(\" \")[0] for c in c_list]\n",
    "\n",
    "sequences = []\n",
    "for record in SeqIO.parse(fasta, \"fasta\"):\n",
    "    if record.id in c_list:\n",
    "        sequences.append(record)\n",
    "        \n",
    "with open(r\"../output/01_uclust_all_0.7.faa\", \"w\") as output_handle:\n",
    "    SeqIO.write(sequences, output_handle, \"fasta\")\n",
    "\n",
    "uclust.to_csv(r'../output/01_uclust_all_0.7.csv',index=False)"
   ]
  },
  {
   "cell_type": "code",
   "execution_count": 16,
   "metadata": {},
   "outputs": [
    {
     "name": "stdout",
     "output_type": "stream",
     "text": [
      "nthread = 0\n",
      "nthreadpair = 0\n",
      "nthreadtb = 0\n",
      "ppenalty_ex = 0\n",
      "stacksize: 8192 kb\n",
      "rescale = 1\n",
      "Gap Penalty = -1.53, +0.00, +0.00\n",
      "\n",
      "\n",
      "\n",
      "Making a distance matrix ..\n",
      "\n",
      "There are 39 ambiguous characters.\n",
      "  401 / 470\n",
      "done.\n",
      "\n",
      "Constructing a UPGMA tree (efffree=0) ... \n",
      "  460 / 470\n",
      "done.\n",
      "\n",
      "Progressive alignment 1/2... \n",
      "STEP   321 / 469 \n",
      "Reallocating..done. *alloclen = 2525\n",
      "STEP   458 / 469 \n",
      "Reallocating..done. *alloclen = 3534\n",
      "STEP   469 / 469  h\n",
      "done.\n",
      "\n",
      "Making a distance matrix from msa.. \n",
      "  400 / 470\n",
      "done.\n",
      "\n",
      "Constructing a UPGMA tree (efffree=1) ... \n",
      "  460 / 470\n",
      "done.\n",
      "\n",
      "Progressive alignment 2/2... \n",
      "STEP   293 / 469 \n",
      "Reallocating..done. *alloclen = 2482\n",
      "STEP   462 / 469  h\n",
      "Reallocating..done. *alloclen = 3519\n",
      "STEP   469 / 469  h\n",
      "done.\n",
      "\n",
      "disttbfast (aa) Version 7.427\n",
      "alg=A, model=BLOSUM62, 1.53, -0.00, -0.00, noshift, amax=0.0\n",
      "0 thread(s)\n",
      "\n",
      "\n",
      "Strategy:\n",
      " FFT-NS-2 (Fast but rough)\n",
      " Progressive method (guide trees were built 2 times.)\n",
      "\n",
      "If unsure which option to use, try 'mafft --auto input > output'.\n",
      "For more information, see 'mafft --help', 'mafft --man' and the mafft page.\n",
      "\n",
      "The default gap scoring scheme has been changed in version 7.110 (2013 Oct).\n",
      "It tends to insert more gaps into gap-rich regions than previous versions.\n",
      "To disable this change, add the --leavegappyregion option.\n",
      "\n"
     ]
    }
   ],
   "source": [
    "!../bin/mafft-linux64/mafft.bat ../output/01_uclust_all_0.7.faa > ../output/02_uclust_all_0.7.aln"
   ]
  },
  {
   "cell_type": "code",
   "execution_count": 19,
   "metadata": {},
   "outputs": [
    {
     "name": "stdout",
     "output_type": "stream",
     "text": [
      "FastTree Version 2.1.10 SSE3\n",
      "Alignment: ../output/02_uclust_all_0.7.aln\n",
      "Amino acid distances: BLOSUM45 Joins: balanced Support: SH-like 1000\n",
      "Search: Normal +NNI +SPR (4 rounds range 10) +ML-NNI opt-each=2\n",
      "TopHits: 1.00*sqrtN close=default refresh=0.80\n",
      "ML Model: Jones-Taylor-Thorton, CAT approximation with 20 rate categories\n",
      "Ignored unknown character B (seen 5 times)\n",
      "Ignored unknown character X (seen 39 times)\n",
      "Ignored unknown character Z (seen 4 times)\n",
      "Initial topology in 0.87 seconds\n",
      "Refining topology: 36 rounds ME-NNIs, 4 rounds ME-SPRs, 18 rounds ML-NNIs\n",
      "Total branch-length 131.107 after 10.56 sec\n",
      "ML-NNI round 1: LogLk = -289885.926 NNIs 89 max delta 26.13 Time 22.35\n",
      "Switched to using 20 rate categories (CAT approximation)\n",
      "Rate categories were divided by 0.916 so that average rate = 1.0\n",
      "CAT-based log-likelihoods may not be comparable across runs\n",
      "Use -gamma for approximate but comparable Gamma(20) log-likelihoods\n",
      "ML-NNI round 2: LogLk = -275463.058 NNIs 57 max delta 19.31 Time 35.20\n",
      "ML-NNI round 3: LogLk = -275411.180 NNIs 25 max delta 5.36 Time 46.18\n",
      "ML-NNI round 4: LogLk = -275402.779 NNIs 4 max delta 2.29 Time 57.04\n",
      "ML-NNI round 5: LogLk = -275400.946 NNIs 1 max delta 1.36 Time 67.67\n",
      "ML-NNI round 6: LogLk = -275400.820 NNIs 0 max delta 0.00 Time 78.58\n",
      "Turning off heuristics for final round of ML NNIs (converged)\n",
      "ML-NNI round 7: LogLk = -275400.819 NNIs 0 max delta 0.00 Time 89.53 (final)\n",
      "Optimize all lengths: LogLk = -275400.819 Time 91.59\n",
      "Total time: 98.99 seconds Unique: 470/470 Bad splits: 0/467\n"
     ]
    }
   ],
   "source": [
    "!../bin/FastTree -spr 4 -mlacc 2 -slownni ../output/02_uclust_all_0.7.aln > ../output/03_uclust_all_0.7.nwk"
   ]
  },
  {
   "cell_type": "code",
   "execution_count": 47,
   "metadata": {},
   "outputs": [],
   "source": [
    "labels = pd.read_csv('../data/verified_rubisco_types.csv')\n",
    "uclust_data = pd.read_csv('../output/01_uclust_all_0.7.csv')\n",
    "uclust_data = uclust_data[uclust_data['Type'] !='S']\n",
    "uclust_data.loc[uclust_data['Target'] == '*','Target'] = uclust_data.loc[uclust_data['Target'] == '*','Query']\n",
    "uclust_data = uclust_data.merge(labels, left_on='Query', right_on='ID',how='left')\n",
    "labeled_leaves = uclust_data[~pd.isna(uclust_data['type'])]\n",
    "#labels[~labels['ID'].isin(uclust_data['ID'])]\n",
    "#labels\n",
    "with open('../data/itol_legend_template.txt','a+') as file:\n",
    "    for line in labeled_leaves['Target'].values+',label,node,#ffff00\\n':\n",
    "        file.write(line)\n",
    "    file.close()"
   ]
  }
 ],
 "metadata": {
  "kernelspec": {
   "display_name": "Python 3",
   "language": "python",
   "name": "python3"
  },
  "language_info": {
   "codemirror_mode": {
    "name": "ipython",
    "version": 3
   },
   "file_extension": ".py",
   "mimetype": "text/x-python",
   "name": "python",
   "nbconvert_exporter": "python",
   "pygments_lexer": "ipython3",
   "version": "3.6.7"
  }
 },
 "nbformat": 4,
 "nbformat_minor": 2
}
