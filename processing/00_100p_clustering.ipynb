{
 "cells": [
  {
   "cell_type": "code",
   "execution_count": 1,
   "metadata": {},
   "outputs": [],
   "source": [
    "import pandas as pd\n",
    "from Bio import SeqIO, AlignIO, Seq\n",
    "import numpy as np\n",
    "from collections import Counter\n",
    "from helper import *"
   ]
  },
  {
   "cell_type": "markdown",
   "metadata": {},
   "source": [
    "### Preprocessing"
   ]
  },
  {
   "cell_type": "markdown",
   "metadata": {},
   "source": [
    "The first thing we need to do is to remove places with more than one `_` from the ids because after moving to iTOL this will be a problem. We do this for the file  `RuBisCO.300-700.faa` and save it with the suffix 'processed'"
   ]
  },
  {
   "cell_type": "markdown",
   "metadata": {},
   "source": [
    "#### Creating csv file from the data in Jaffe et al. and cleaning sequence ID from \":\""
   ]
  },
  {
   "cell_type": "code",
   "execution_count": 2,
   "metadata": {},
   "outputs": [],
   "source": [
    "sequences = []\n",
    "for record in SeqIO.parse('../data/jaffe_et_al_2018_rubisco_superfamilies.faa', \"fasta\"):\n",
    "    record.description = record.description.split(':')[0]\n",
    "    record.id = record.id.split(':')[0]\n",
    "    record.name = record.name.split(':')[0]\n",
    "    sequences.append(record)\n",
    "!mkdir -p ../output/00_100p_tree\n",
    "with open(r\"../output/00_100p_tree/jaffe_et_al_2018_rubisco_superfamilies_clean.faa\", \"w\") as output_handle:\n",
    "    SeqIO.write(sequences, output_handle, \"fasta\")"
   ]
  },
  {
   "cell_type": "markdown",
   "metadata": {},
   "source": [
    "#### Removing * from the end of the fasta file RuBisCO.300-700"
   ]
  },
  {
   "cell_type": "code",
   "execution_count": 3,
   "metadata": {},
   "outputs": [],
   "source": [
    "sequences = []\n",
    "for record in SeqIO.parse('../data/RuBisCO.300-700_20190429_processed.faa', \"fasta\"):\n",
    "    record.seq = record.seq.rstrip(chars='*')\n",
    "    sequences.append(record)\n",
    "        \n",
    "with open(r\"../output/00_100p_tree/RuBisCO.300-700_clean.faa\", \"w\") as output_handle:\n",
    "    SeqIO.write(sequences, output_handle, \"fasta\")"
   ]
  },
  {
   "cell_type": "markdown",
   "metadata": {},
   "source": [
    "### Merge fasta files and cluster sequences"
   ]
  },
  {
   "cell_type": "code",
   "execution_count": 4,
   "metadata": {},
   "outputs": [],
   "source": [
    "#!cat ../data/milo_synthetized_rubisco.faa ../data/RuBisCO.300-700.faa ../data/flamholz_et_al_2019_kinetically_characterized.faa ../data/erb_et_al_2012_rubisco_superfamilies.faa > ../data/merged_data.faa\n",
    "!cat ../data/milo_synthetized_rubisco.faa ../output/00_100p_tree/RuBisCO.300-700_clean.faa ../data/flamholz_et_al_2019_kinetically_characterized.faa ../output/00_100p_tree/jaffe_et_al_2018_rubisco_superfamilies_clean.faa > ../output/00_100p_tree/merged_data.faa"
   ]
  },
  {
   "cell_type": "markdown",
   "metadata": {},
   "source": [
    "### remove sequences with ambiguous calls "
   ]
  },
  {
   "cell_type": "code",
   "execution_count": 5,
   "metadata": {},
   "outputs": [],
   "source": [
    "aa = ['A','R','N','D','C','G','Q','E','H','I','L','K','M','F','P','S','T','W','Y','V']\n",
    "ambiguous_aa = ['B','Z','X','J']\n",
    "canon = []\n",
    "for record in SeqIO.parse('../output/00_100p_tree/merged_data.faa', \"fasta\"):\n",
    "    no_of_aa = np.array([x in ambiguous_aa for x in record.seq]).sum()\n",
    "    if no_of_aa == 0:\n",
    "        canon.append(record)\n",
    "\n",
    "with open(r\"../output/00_100p_tree/merged_data_clean.faa\", \"w\") as output_handle:\n",
    "    SeqIO.write(canon, output_handle, \"fasta\")"
   ]
  },
  {
   "cell_type": "markdown",
   "metadata": {},
   "source": [
    "### Cluster sequences based on 100 ID"
   ]
  },
  {
   "cell_type": "code",
   "execution_count": null,
   "metadata": {},
   "outputs": [
    {
     "name": "stdout",
     "output_type": "stream",
     "text": [
      "usearch v11.0.667_i86linux32, 4.0Gb RAM (16.1Gb total), 4 cores\n",
      "(C) Copyright 2013-18 Robert C. Edgar, all rights reserved.\n",
      "https://drive5.com/usearch\n",
      "\n",
      "License: yinonmoise.baron@weizmann.ac.il\n",
      "\n",
      "00:00 78Mb    100.0% Reading ../output/00_100p_tree/merged_data_clean.faa\n",
      "00:00 77Mb    100.0% DF\n",
      "00:00 78Mb   57626 seqs, 56166 uniques, 55141 singletons (98.2%)\n",
      "00:00 78Mb   Min size 1, median 1, max 48, avg 1.03\n",
      "00:00 89Mb    100.0% DB\n"
     ]
    }
   ],
   "source": [
    "!../bin/usearch11.0.667_i86linux32 -cluster_fast ../output/00_100p_tree/merged_data_clean.faa -id 1 -uc ../output/00_100p_tree/uclust_all_1.uc"
   ]
  },
  {
   "cell_type": "markdown",
   "metadata": {},
   "source": [
    "### Refine cluster centroids to include synthesized sequences"
   ]
  },
  {
   "cell_type": "code",
   "execution_count": null,
   "metadata": {},
   "outputs": [],
   "source": [
    "header = ['Type','Cluster','Size','%Id','Strand','Qlo','Tlo','Alignment','Query','Target']\n",
    "uclust = pd.read_csv('../output/00_100p_tree/uclust_all_1.uc', sep='\\t', names=header, index_col=False)\n",
    "uclust = uclust[uclust['Type'] !='S']\n",
    "uclust.loc[uclust['Target'] =='*','Target'] = uclust.loc[uclust['Target'] =='*','Query']\n",
    "\n",
    "# Find synthetized sequences that are not centroids and replace them as centroids\n",
    "synth_clusters = uclust[uclust['Query'].str.startswith('RBC') & ~uclust['Target'].str.startswith('RBC')]\n",
    "for i in synth_clusters.iterrows():\n",
    "    uclust.loc[uclust.Target== i[1].Target,'Target'] = i[1].Query\n",
    "\n",
    "centroids = uclust[uclust['Type']=='C']\n",
    "c_list = centroids.Target.values\n",
    "c_list = [c.split(\" \")[0] for c in c_list]\n",
    "\n",
    "sequences = []\n",
    "for record in SeqIO.parse('../output/00_100p_tree/merged_data_clean.faa', \"fasta\"):\n",
    "    if record.id in c_list:\n",
    "        sequences.append(record)\n",
    "\n",
    "seq2 = []\n",
    "seq3 = []\n",
    "for i,record in enumerate(sequences):\n",
    "    if not record.id in seq2: \n",
    "        seq2.append(record.id)\n",
    "        seq3.append(record)\n",
    "with open('../output/00_100p_tree/uclust_all_1.faa', \"w\") as output_handle:\n",
    "    SeqIO.write(seq3, output_handle, \"fasta\")\n",
    "\n",
    "uclust.to_csv('../output/00_100p_tree/uclust_all_1.csv',index=False)"
   ]
  },
  {
   "cell_type": "markdown",
   "metadata": {},
   "source": [
    "### Adapt type legend to the new centroids\n",
    "\n",
    "This will also throw some of the sequences in jaffe_2018 because of ambiguous amino acids"
   ]
  },
  {
   "cell_type": "code",
   "execution_count": 8,
   "metadata": {},
   "outputs": [],
   "source": [
    "type_labels = pd.read_csv('../data/jaffe_et_al_2018_rubisco_types_processed.csv')\n",
    "cluster_labels = uclust.merge(type_labels,left_on='Query',right_on='ID')[['Target','Organism','type']]\n",
    "cluster_labels.columns = ['ID','Organism','type']\n",
    "cluster_labels.to_csv('../output/00_100p_tree/uclust_all_1_rubisco_types.csv',index=False)"
   ]
  },
  {
   "cell_type": "code",
   "execution_count": 8,
   "metadata": {},
   "outputs": [
    {
     "name": "stderr",
     "output_type": "stream",
     "text": [
      "/usr/lib/python3/dist-packages/ipykernel_launcher.py:27: UserWarning: This pattern has match groups. To actually get the groups, use str.extract.\n"
     ]
    }
   ],
   "source": [
    "uclust = pd.read_csv('../output/00_100p_tree/uclust_all_1.csv')\n",
    "# remove type IV rubisco of rubrum to avoid mischaracterization\n",
    "uclust = uclust[~uclust.Query.str.contains('499709017')]\n",
    "\n",
    "kin_data = pd.read_excel('../data/flamholz_et_al_kinetic_data.xlsx','kinetic_data')\n",
    "kin_data = kin_data[~kin_data.vC.isna()]\n",
    "species = kin_data['Unnamed: 0'].apply(lambda x: \" \".join(x.split(' ')[:2]))\n",
    "species = species.unique()\n",
    "species = pd.np.append(species,['Methanococcus jannaschii','Methanosarcina acetivorans'])\n",
    "kin_list = []\n",
    "for i in species:\n",
    "    # Specific species which have both type I/IIIb and type IV\n",
    "    if i == 'Rhodopseudomonas palustris':\n",
    "        kin_list.append(uclust[uclust.Query.str.contains('90104852')].Target.values[0])\n",
    "        continue\n",
    "    if i == 'Allochromatium vinosum':\n",
    "        kin_list.append(uclust[uclust.Query.str.contains('502735590')].Target.values[0])\n",
    "        continue\n",
    "    if i == 'Archaeoglobus fulgidus':\n",
    "        kin_list.append(uclust[uclust.Query.str.contains('973026383')].Target.values[0])\n",
    "        continue\n",
    "    if i == 'Acidithiobacillus ferrooxidans':\n",
    "        kin_list.append(uclust[uclust.Query.str.contains('501530536')].Target.values[0])\n",
    "        kin_list.append(uclust[uclust.Query.str.contains('1427065124')].Target.values[0])\n",
    "        continue        \n",
    "        \n",
    "    if len(uclust[uclust.Query.str.contains(i)].Target.unique()) != 0:\n",
    "        if len(uclust[uclust.Query.str.contains(i)].Target.unique()) > 1:\n",
    "            tmp = uclust[uclust.Query.str.contains(i)].Target.unique()\n",
    "            kin_list.append(tmp[np.argmax([len(x) for x in tmp])])\n",
    "        else:\n",
    "            kin_list.append(uclust[uclust.Query.str.contains(i)].Target.unique()[0])\n",
    "\n",
    "pd.DataFrame(kin_list,columns=['kinetic_ID']).to_csv('../output/00_100p_tree/uclust_all_1_kinetic_data.csv',index=False)"
   ]
  },
  {
   "cell_type": "code",
   "execution_count": 6,
   "metadata": {},
   "outputs": [
    {
     "data": {
      "text/plain": [
       "array(['Methanococcoides burtonii', 'Synechococcus sp.',\n",
       "       'Atriplex glabriuscula', 'Rhodospirillum rubrum',\n",
       "       'Allochromatium vinosum', 'Phaeodactylum tricornutum', 'Zea mays',\n",
       "       'Triticum aestivum', 'Spinacia oleracea',\n",
       "       'Cylindrotheca fusiformis', 'Cyanidium partita',\n",
       "       'Cyanidium caldarium', 'Olisthodiscus luteus',\n",
       "       'Synechococcus 6301', 'Synechococcus elongatus',\n",
       "       'Anacystis nidulans', 'Setaria viridis', 'Limonium magallufianum',\n",
       "       'Limonium retusum', 'Limonium ejulabilis', 'Limonium biflorum',\n",
       "       'Limonium grosii', 'Limonium gymnesicum',\n",
       "       'Limonium antonii-llorensii', 'Limonium leonardi-llorensii',\n",
       "       'Limonium companyonis', 'Limonium gibertii', 'Limonium barceloi',\n",
       "       'Limonium artruchium', 'Limonium balearicum', 'Limonium echioides',\n",
       "       'Pallenis maritima', 'Teucrium heterophyllum', 'Sideritis cretica',\n",
       "       'Eucalyptus neglecta', 'Arabidopsis thaliana',\n",
       "       'Limonium stenophyllum', 'Limonium virgatum', 'Crithmum maritimum',\n",
       "       'Cycas panzhihuaensis', 'Limonium latebracteatum',\n",
       "       'Trachycarpus fortunei', 'Carpobrotus edulis', 'Iris douglasiana',\n",
       "       'Agave victoriae-reginae', 'Eucalyptus moorei', 'Drosera capensis',\n",
       "       'Echeveria elegans', 'Dactylis glomerata', 'Nymphaea alba',\n",
       "       'Drosera venusta', 'Platycerium superbum', 'Sarracenia flava',\n",
       "       'Marchantia polymorpha', 'Ceratophyllum demersum',\n",
       "       'Pteridium aquilinum', 'Metasequoia glyptostroboides',\n",
       "       'Atrichum undulatum', 'Thermosynechococcus elongatus',\n",
       "       'Manihot esculenta', 'Phaseolus vulgaris', 'Glycine max',\n",
       "       'Hordeum vulgare', 'Cucurbita maxima', 'Solanum tuberosum',\n",
       "       'Capsicum annuum', 'Solanum lycopersicum', 'Medicago sativa',\n",
       "       'Avena sativa', 'Beta vulgaris', 'Coffea arabica',\n",
       "       'Lactuca sativa', 'Brassica oleracea', 'Ipomoea batatas',\n",
       "       'Oryza sativa', 'Saccharum officinarum',\n",
       "       'Thiobacillus denitrificans', 'Pavlova lutheri',\n",
       "       'Pleurochrysis carterae', 'Tisochrysis lutea',\n",
       "       'Archaeoglobus fulgidus', 'Thermococcus kodakaraensis',\n",
       "       'Flaveria sonorensis', 'Flaveria anomala', 'Flaveria cronquistii',\n",
       "       'Chenopodium album', 'Flaveria pringlei', 'Flaveria ramosissima',\n",
       "       'Flaveria chlorifolia', 'Flaveria linearis', 'Flaveria brownii',\n",
       "       'Flaveria angustifolia', 'Flaveria floridana', 'Flaveria palmeri',\n",
       "       'Flaveria trinervia', 'Amaranthus caudatus', 'Flaveria bidentis',\n",
       "       'Flaveria vaginata', 'Flaveria australasica', 'Nicotiana tabacum',\n",
       "       'Cyanobium sp.', 'Rhodobacter sphaeroides',\n",
       "       'Acidithiobacillus ferrooxidans', 'Euphorbia helioscopia',\n",
       "       'Tephrosia purpurea', 'Tephrosia rhodesica',\n",
       "       'Oryza barthii/glaberrima', 'Oryza eichingeri',\n",
       "       'Phaseolus carteri', 'Oxybasis rubra', 'Oryza meridionalis',\n",
       "       'Oryza glaberrima', 'Oryza longistaminata',\n",
       "       'Calamagrostis canescens', 'Oryza glumaepatula',\n",
       "       'Agriophyllum squarrosum', 'Phaseolus coccineus',\n",
       "       'Desmodium psilocarpum', 'Lepidium campestre', 'Tephrosia candida',\n",
       "       'Hordeum brachyantherum', 'Bromus anomalus', 'Glycine canescens',\n",
       "       'Phaseolus lunatus', 'Sphenostylis stenocarpa',\n",
       "       'Erythrina flabelliformis', 'Citrullus ecirrhosus',\n",
       "       'Musa velutina', 'Poa palustris', 'Flueggea suffruticosa',\n",
       "       'Citrullus lanatus', 'Elymus farctus', 'Triticum baeoticum',\n",
       "       'Foeniculum vulgare', 'Calamagrostis foliosa', 'Pueraria montana',\n",
       "       'Arctagrostis latifolia', 'Hordeum murinum', 'Puccinellia distans',\n",
       "       'Calamagrostis arundinacea', 'Festuca pratensis',\n",
       "       'Chenopodium murale', 'Lolium rigidum', 'T. elongatus',\n",
       "       'Macrotyloma uniflorum', 'Puccinellia nuttalliana',\n",
       "       'Euphorbia microsphaera', 'Amphicarpaea bracteata',\n",
       "       'Lolium multiflorum', 'Festuca gigantea', 'Eragrostis tef',\n",
       "       'Chaetoceros calcitrans', 'Chlamydomonas reinhardtii',\n",
       "       'Flaveria kochiana', 'Fragilariopsis cylindrus',\n",
       "       'Thalassiosira weissflogii', 'Thalassiosira oceanica',\n",
       "       'Chaetoceros muelleri', 'Aegilops triuncialis',\n",
       "       'Aegilops vavilovii', 'Aegilops comosa', 'Triticum dicoccon',\n",
       "       'Aegilops uniaristata', 'Triticum monococcum',\n",
       "       'Triticale (Rotego)', 'T. aestivum', 'Triticale (Talentro)',\n",
       "       'Triticale (Cando)', 'Triticum timopheevii', 'Aegilops speltoides',\n",
       "       'Triticum timonovum', 'Aegilops biuncialis', 'Secale cereale',\n",
       "       'Aegilops juvenalis', 'Cylindrotheca N1', 'Porphyridium cruentum',\n",
       "       'Cylindrotheca sp.', 'Clavulinopsis fusiformis',\n",
       "       'Rhodopseudomonas palustris', 'RrCt chimera', 'Potulaca oleraca',\n",
       "       'Sorghum bicolor', 'Amaranthus edulis', 'Amaranthus hybridus',\n",
       "       'Chenopodium alba', 'Griffithsia monilis', 'Galdieria sulphuraria',\n",
       "       'Panicum miliaceum', 'Panicum milioides', 'Steinchisma laxa',\n",
       "       'Panicum bisulcatum', 'Panicum coloratum', 'Panicum virgatum',\n",
       "       'Megathyrsus maximus', 'Urochloa mosambicensis', 'Panicum deustum',\n",
       "       'Urochloa panicoides', 'Panicum monticola', 'Cenchrus ciliaris',\n",
       "       'Panicum antidotale', 'Ancestral 1A', 'Ancestral 1B',\n",
       "       'Prochlorococcus marinus', 'Aegilops tauschii',\n",
       "       'Aegilops cylindrica', 'Brachypodium distachyon',\n",
       "       'Porphyridium purpureum', 'Galdieria sulfuraria',\n",
       "       'Galdieria partita', 'Cyanobium PCC7001', 'Desmodium cinereum',\n",
       "       'Desmodium intortum', 'Oryza punctata', 'Oryza nivara',\n",
       "       'Mercurialis annua', 'Calamagrostis inexpansa',\n",
       "       'Calamagrostis nutkaensis', 'Puccinellia maritima',\n",
       "       'Lablab purpureus', 'Agrostis scabra', 'Deschampsia danthonioides',\n",
       "       'Panicum phragmitoides', 'Agrostis stolonifera',\n",
       "       'Chenopodium petiolare', 'Artemisia myriantha',\n",
       "       'Puccinellia lemmonii', 'Chrysanthellum indicum',\n",
       "       'Artemisia vulgaris', 'Panicum amarum', 'Panicum dichotomiflorum',\n",
       "       'Bellerochea cf.', 'Skeletonema marinoi', 'Synechococcus 7515'],\n",
       "      dtype=object)"
      ]
     },
     "execution_count": 6,
     "metadata": {},
     "output_type": "execute_result"
    }
   ],
   "source": []
  },
  {
   "cell_type": "code",
   "execution_count": 10,
   "metadata": {},
   "outputs": [
    {
     "name": "stderr",
     "output_type": "stream",
     "text": [
      "/usr/lib/python3/dist-packages/ipykernel_launcher.py:2: FutureWarning: The signature of `Series.to_csv` was aligned to that of `DataFrame.to_csv`, and argument 'header' will change its default value from False to True: please pass an explicit value to suppress this warning.\n",
      "  \n"
     ]
    }
   ],
   "source": [
    "synth_data = pd.DataFrame([x.description for x in SeqIO.parse('../data/milo_synthetized_rubisco.faa',format='fasta')])\n",
    "uclust.merge(synth_data,left_on='Query',right_on=0).Target.to_csv('../output/00_100p_tree/synth_data.csv',index=False)"
   ]
  }
 ],
 "metadata": {
  "kernelspec": {
   "display_name": "Python 3",
   "language": "python",
   "name": "python3"
  },
  "language_info": {
   "codemirror_mode": {
    "name": "ipython",
    "version": 3
   },
   "file_extension": ".py",
   "mimetype": "text/x-python",
   "name": "python",
   "nbconvert_exporter": "python",
   "pygments_lexer": "ipython3",
   "version": "3.7.5"
  }
 },
 "nbformat": 4,
 "nbformat_minor": 4
}
