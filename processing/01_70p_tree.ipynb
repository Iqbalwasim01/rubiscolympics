{
 "cells": [
  {
   "cell_type": "code",
   "execution_count": 1,
   "metadata": {},
   "outputs": [],
   "source": [
    "import pandas as pd\n",
    "from Bio import SeqIO, AlignIO, Seq\n",
    "import numpy as np\n",
    "from collections import Counter\n",
    "from helper import *\n",
    "import python_cipres.client as CipresClient"
   ]
  },
  {
   "cell_type": "markdown",
   "metadata": {},
   "source": [
    "### Cluster sequences using uclust"
   ]
  },
  {
   "cell_type": "code",
   "execution_count": 2,
   "metadata": {},
   "outputs": [
    {
     "name": "stdout",
     "output_type": "stream",
     "text": [
      "usearch v11.0.667_i86linux32, 4.0Gb RAM (16.3Gb total), 8 cores\n",
      "(C) Copyright 2013-18 Robert C. Edgar, all rights reserved.\n",
      "https://drive5.com/usearch\n",
      "\n",
      "License: yinonmoise.baron@weizmann.ac.il\n",
      "\n",
      "00:00 67Mb    100.0% Reading ../output/00_100p_tree/uclust_all_1.faa\n",
      "00:00 105Mb   100.0% DF\n",
      "00:00 105Mb  40945 seqs, 40945 uniques, 40945 singletons (100.0%)\n",
      "00:00 105Mb  Min size 1, median 1, max 1, avg 1.00\n",
      "00:00 111Mb   100.0% DB\n",
      "00:03 176Mb   100.0% 884 clusters, max size 17546, avg 46.3\n",
      "                                                           \n",
      "      Seqs  40945 (40.9k)\n",
      "  Clusters  884\n",
      "  Max size  17546 (17.5k)\n",
      "  Avg size  46.3\n",
      "  Min size  1\n",
      "Singletons  452, 1.1% of seqs, 51.1% of clusters\n",
      "   Max mem  176Mb\n",
      "      Time  3.00s\n",
      "Throughput  13.6k seqs/sec.\n",
      "\n"
     ]
    }
   ],
   "source": [
    "! mkdir -p ../output/01_70p_tree\n",
    "!../bin/usearch11.0.667_i86linux32 -cluster_fast ../output/00_100p_tree/uclust_all_1.faa -id 0.7 -uc ../output/01_70p_tree/uclust_all_0.7.uc"
   ]
  },
  {
   "cell_type": "markdown",
   "metadata": {},
   "source": [
    "### Take only cluster fasta files and create csv file"
   ]
  },
  {
   "cell_type": "code",
   "execution_count": 3,
   "metadata": {},
   "outputs": [],
   "source": [
    "parse_uclust(infile='../output/01_70p_tree/uclust_all_0.7.uc',\n",
    "             fasta='../output/00_100p_tree/uclust_all_1.faa',\n",
    "             outfasta='../output/01_70p_tree/uclust_all_0.7.faa',\n",
    "             outfile='../output/01_70p_tree/uclust_all_0.7.csv'\n",
    "            )"
   ]
  },
  {
   "cell_type": "markdown",
   "metadata": {},
   "source": [
    "## Create multiple sequence alignment"
   ]
  },
  {
   "cell_type": "code",
   "execution_count": 4,
   "metadata": {},
   "outputs": [
    {
     "name": "stdout",
     "output_type": "stream",
     "text": [
      "nthread = 0\n",
      "nthreadpair = 0\n",
      "nthreadtb = 0\n",
      "ppenalty_ex = 0\n",
      "stacksize: 8192 kb\n",
      "rescale = 1\n",
      "Gap Penalty = -1.53, +0.00, +0.00\n",
      "\n",
      "\n",
      "\n",
      "Making a distance matrix ..\n",
      "  801 / 884\n",
      "done.\n",
      "\n",
      "Constructing a UPGMA tree (efffree=0) ... \n",
      "  880 / 884\n",
      "done.\n",
      "\n",
      "Progressive alignment 1/2... \n",
      "STEP    19 / 883 \n",
      "Reallocating..done. *alloclen = 2637\n",
      "STEP   801 / 883 \n",
      "Reallocating..done. *alloclen = 4617\n",
      "\n",
      "done.\n",
      "\n",
      "Making a distance matrix from msa.. \n",
      "  800 / 884\n",
      "done.\n",
      "\n",
      "Constructing a UPGMA tree (efffree=1) ... \n",
      "  880 / 884\n",
      "done.\n",
      "\n",
      "Progressive alignment 2/2... \n",
      "STEP   168 / 883 \n",
      "Reallocating..done. *alloclen = 2492\n",
      "STEP   801 / 883 \n",
      "Reallocating..done. *alloclen = 3633\n",
      "\n",
      "Reallocating..done. *alloclen = 4732\n",
      "\n",
      "done.\n",
      "\n",
      "disttbfast (aa) Version 7.427\n",
      "alg=A, model=BLOSUM62, 1.53, -0.00, -0.00, noshift, amax=0.0\n",
      "0 thread(s)\n",
      "\n",
      "\n",
      "Strategy:\n",
      " FFT-NS-2 (Fast but rough)\n",
      " Progressive method (guide trees were built 2 times.)\n",
      "\n",
      "If unsure which option to use, try 'mafft --auto input > output'.\n",
      "For more information, see 'mafft --help', 'mafft --man' and the mafft page.\n",
      "\n",
      "The default gap scoring scheme has been changed in version 7.110 (2013 Oct).\n",
      "It tends to insert more gaps into gap-rich regions than previous versions.\n",
      "To disable this change, add the --leavegappyregion option.\n",
      "\n"
     ]
    }
   ],
   "source": [
    "!../bin/mafft-linux64/mafft.bat ../output/01_70p_tree/uclust_all_0.7.faa > ../output/01_70p_tree/uclust_all_0.7.aln"
   ]
  },
  {
   "cell_type": "markdown",
   "metadata": {},
   "source": [
    "## Clean MSA to contain only positions with more than 5% coverage (based on Jaffe et al. 2018)"
   ]
  },
  {
   "cell_type": "code",
   "execution_count": 5,
   "metadata": {},
   "outputs": [],
   "source": [
    "clean_aln(infile='../output/01_70p_tree/uclust_all_0.7.aln',\n",
    "          outfile='../output/01_70p_tree/uclust_all_0.7_trimmed.aln')"
   ]
  },
  {
   "cell_type": "markdown",
   "metadata": {},
   "source": [
    "### Run RaxML on CIPRES"
   ]
  },
  {
   "cell_type": "code",
   "execution_count": 6,
   "metadata": {},
   "outputs": [],
   "source": [
    "cip = CipresClient.Client(appname='RO',\n",
    "                    appID='rubisco_phylogeny-49F87B124F3D429FBE12F95E4254DDEA',\n",
    "                    baseUrl='https://cipresrest.sdsc.edu/cipresrest/v1',\n",
    "                    username='yinonbaron',\n",
    "                    password='Mchcav11~')\n"
   ]
  },
  {
   "cell_type": "code",
   "execution_count": 7,
   "metadata": {},
   "outputs": [],
   "source": [
    "\n",
    "job = cip.submitJob(vParams={'toolId': 'RAXMLHPC8_REST_XSEDE',\n",
    "                       'datatype_': 'protein',\n",
    "                       'runtime_': '160',\n",
    "                       'select_analysis_': 'fa',\n",
    "                       'choose_bootstrap_': 'x',\n",
    "                       'printbrlength_': '1'},\n",
    "              inputParams={'infile_': '../output/01_70p_tree/uclust_all_0.7_trimmed.aln'},\n",
    "              metadata={'statusEmail':'true'})"
   ]
  },
  {
   "cell_type": "code",
   "execution_count": 9,
   "metadata": {},
   "outputs": [],
   "source": [
    "if cip.getJobStatus(jobHandle=job.jobHandle).isDone():\n",
    "    !mkdir -p ../output/01_70p_tree/RaxML/\n",
    "    job.downloadResults('../output/01_70p_tree//RaxML/')\n",
    "else:\n",
    "    print('Job ' + job.jobHandle + ' not finished')"
   ]
  },
  {
   "cell_type": "code",
   "execution_count": 3,
   "metadata": {},
   "outputs": [],
   "source": [
    "#!curl -u yinonbaron:Mchcav11~ -H cipres-appkey:rubisco_phylogeny-49F87B124F3D429FBE12F95E4254DDEA https://cipresrest.sdsc.edu/cipresrest/v1/job/yinonbaron -F tool=RAXMLHPC8_REST_XSEDE  -F input.infile_=@../output/01_70p_tree/uclust_all_0.7_trimmed.aln -F metadata.statusEmail=true -F vparam.datatype_=protein -F vparam.runtime_=160 -F  vparam.select_analysis_=fa -F vparam.choose_bootstrap_=x -F vparam.printbrlength_=1"
   ]
  },
  {
   "cell_type": "code",
   "execution_count": 3,
   "metadata": {},
   "outputs": [],
   "source": [
    "# Optional - create tree using fasttree\n",
    "#!../bin/FastTree -spr 4 -mlacc 2 -slownni ../output/03_uclust_all_0.7_trimmed.aln > ../output/04_uclust_all_0.7.nwk"
   ]
  },
  {
   "cell_type": "code",
   "execution_count": 2,
   "metadata": {},
   "outputs": [],
   "source": [
    "add_type(type_file='../output/00_100p_tree/uclust_all_1_rubisco_types.csv',\n",
    "         seq_file='../output/01_70p_tree/uclust_all_0.7.csv',\n",
    "         outfile='../output/01_70p_tree/type_legend.txt')"
   ]
  },
  {
   "cell_type": "code",
   "execution_count": 1,
   "metadata": {},
   "outputs": [
    {
     "data": {
      "text/plain": [
       "ID\n",
       "RBC3_1                                 1\n",
       "RBCSeed_14                             1\n",
       "RBCSeed_25                             1\n",
       "Tk                                     1\n",
       "gi|1271067907|gb|PHT72509.1|           2\n",
       "gi|1463752065|ref|WP_116707191.1|      1\n",
       "gi|15281545|gb|AAK94305.1|             2\n",
       "gi|29726049|gb|AAL46534.1|             2\n",
       "gi|358252603|gb|AEU04903.1|            8\n",
       "gi|388537986|gb|AFK63174.1|            1\n",
       "gi|494102711|ref|WP_007043498.1|       1\n",
       "gi|503328002|ref|WP_013562663.1|       1\n",
       "gi|518331021|ref|WP_019501228.1|     161\n",
       "gi|523387592|emb|CDF56957.1|           2\n",
       "gi|703265142|emb|CDI73524.1|          12\n",
       "gi|851308879|ref|WP_048172188.1|       1\n",
       "Name: kinetic_ID, dtype: int64"
      ]
     },
     "execution_count": 1,
     "metadata": {},
     "output_type": "execute_result"
    }
   ],
   "source": [
    "uc = pd.read_csv('../output/01_70p_tree/uclust_all_0.7.csv')\n",
    "kin = pd.read_csv('../output/00_100p_tree/uclust_all_1_kinetic_data.csv')\n",
    "m = uc.merge(kin,left_on = 'Query', right_on = 'kinetic_ID')\n",
    "m['ID'] = m.Target.apply(lambda x: x.split(' ')[0])\n",
    "m2 = m.groupby('ID')['kinetic_ID'].count()\n",
    "\n",
    "\n",
    "#lines = m['Target'].apply(lambda x: x.split(' ')[0]).values + ','+ uclust_data['kinetic_flag'].values+','+uclust_data['syn_flag'].values+'\\n'\n",
    "lines = m2.index + ',' + [str(pd.np.log10(x)+0.15) for x in m2.values] + '\\n'\n",
    "unique_lines = np.unique(lines)\n",
    "\n",
    "with open('../data/dataset_simplebar_template.txt','r') as file:\n",
    "    with open('../output/01_70p_tree/kinetic_bar.txt', \"w\") as f1:\n",
    "        for row in file:\n",
    "            f1.write(row)\n",
    "        for line in unique_lines:\n",
    "            f1.write(line)\n",
    "        file.close()\n",
    "        f1.close()\n",
    "\n",
    "m2"
   ]
  },
  {
   "cell_type": "code",
   "execution_count": 29,
   "metadata": {},
   "outputs": [
    {
     "data": {
      "text/plain": [
       "'\\nwith open(\\'../data/itol_legend_template.txt\\',\\'r\\') as file:\\n    with open(outfile, \"w\") as f1:\\n        for row in file:\\n            f1.write(row)\\n        for line in lines:\\n            f1.write(line)\\n        file.close()\\n        f1.close()\\n        '"
      ]
     },
     "execution_count": 29,
     "metadata": {},
     "output_type": "execute_result"
    }
   ],
   "source": [
    "type_file='../output/00_100p_tree/uclust_all_1_rubisco_types.csv'\n",
    "seq_file='../output/01_70p_tree/uclust_all_0.7.csv'\n",
    "outfile='../output/01_70p_tree/type_legend.txt'\n",
    "\n",
    "labels = pd.read_csv(type_file)\n",
    "uclust_data = pd.read_csv(seq_file)\n",
    "uclust_data = uclust_data[uclust_data['Type'] !='S']\n",
    "uclust_data.loc[uclust_data['Target'] == '*','Target'] = uclust_data.loc[uclust_data['Target'] == '*','Query']\n",
    "uclust_data = uclust_data.merge(labels, left_on='Query', right_on='ID',how='left')\n",
    "labeled_leaves = uclust_data[~pd.isna(uclust_data['type'])]\n",
    "color_map = {'I': '#28B463',\n",
    "             'II': '#E74C3C',\n",
    "             'II/III':'#AF7AC5',\n",
    "             'IIIa':'#AED6F1',\n",
    "             'IIIb':'#3498DB',\n",
    "             'IIIc':'#1F618D',\n",
    "             'IIIlike':'#5D6D7E',\n",
    "             'IV':'#F4D03F',\n",
    "             'IVlike':'#F8C471',\n",
    "             'unknown':'#F442D4'}\n",
    "lines = labeled_leaves['Target'].apply(lambda x: x.split(' ')[0]).values +[',label,node,'+color_map[x]+',1,normal\\n' for x in labeled_leaves['type'].values]\n",
    "lines = set(lines)\n",
    "'''\n",
    "with open('../data/itol_legend_template.txt','r') as file:\n",
    "    with open(outfile, \"w\") as f1:\n",
    "        for row in file:\n",
    "            f1.write(row)\n",
    "        for line in lines:\n",
    "            f1.write(line)\n",
    "        file.close()\n",
    "        f1.close()\n",
    "        '''"
   ]
  }
 ],
 "metadata": {
  "kernelspec": {
   "display_name": "Python 3",
   "language": "python",
   "name": "python3"
  },
  "language_info": {
   "codemirror_mode": {
    "name": "ipython",
    "version": 3
   },
   "file_extension": ".py",
   "mimetype": "text/x-python",
   "name": "python",
   "nbconvert_exporter": "python",
   "pygments_lexer": "ipython3",
   "version": "3.7.3"
  }
 },
 "nbformat": 4,
 "nbformat_minor": 2
}
