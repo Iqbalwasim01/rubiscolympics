{
 "cells": [
  {
   "cell_type": "code",
   "execution_count": 1,
   "metadata": {},
   "outputs": [],
   "source": [
    "import pandas as pd\n",
    "from Bio import SeqIO, AlignIO, Seq\n",
    "import numpy as np\n",
    "from collections import Counter\n",
    "from helper import *"
   ]
  },
  {
   "cell_type": "markdown",
   "metadata": {},
   "source": [
    "### Preprocessing\n",
    "\n",
    "#### Creating csv file from the data in Jaffe et al. and cleaning sequence ID from \":\""
   ]
  },
  {
   "cell_type": "code",
   "execution_count": 7,
   "metadata": {},
   "outputs": [],
   "source": [
    "sequences = []\n",
    "for record in SeqIO.parse('../data/jaffe_et_al_2018_rubisco_superfamilies.faa', \"fasta\"):\n",
    "    record.description = record.description.split(':')[0]\n",
    "    record.id = record.id.split(':')[0]\n",
    "    record.name = record.name.split(':')[0]\n",
    "    sequences.append(record)\n",
    "!mkdir -p ../output/01_70p_tree\n",
    "with open(r\"../output/01_70p_tree/jaffe_et_al_2018_rubisco_superfamilies_clean.faa\", \"w\") as output_handle:\n",
    "    SeqIO.write(sequences, output_handle, \"fasta\")"
   ]
  },
  {
   "cell_type": "code",
   "execution_count": 9,
   "metadata": {},
   "outputs": [],
   "source": [
    "sequences = []\n",
    "for record in SeqIO.parse('../data/RuBisCO.300-700.faa', \"fasta\"):\n",
    "    record.seq = record.seq.rstrip(chars='*')\n",
    "    sequences.append(record)\n",
    "        \n",
    "with open(r\"../output/01_70p_tree/RuBisCO.300-700_clean.faa\", \"w\") as output_handle:\n",
    "    SeqIO.write(sequences, output_handle, \"fasta\")"
   ]
  },
  {
   "cell_type": "markdown",
   "metadata": {},
   "source": [
    "### Merge fasta files and cluster sequences"
   ]
  },
  {
   "cell_type": "code",
   "execution_count": 10,
   "metadata": {},
   "outputs": [],
   "source": [
    "#!cat ../data/milo_synthetized_rubisco.faa ../data/RuBisCO.300-700.faa ../data/flamholz_et_al_2019_kinetically_characterized.faa ../data/erb_et_al_2012_rubisco_superfamilies.faa > ../data/merged_data.faa\n",
    "!cat ../data/milo_synthetized_rubisco.faa ../output/01_70p_tree/RuBisCO.300-700_clean.faa ../data/flamholz_et_al_2019_kinetically_characterized.faa ../output/01_70p_tree/jaffe_et_al_2018_rubisco_superfamilies_clean.faa > ../output/01_70p_tree/merged_data.faa"
   ]
  },
  {
   "cell_type": "markdown",
   "metadata": {},
   "source": [
    "### remove sequences with ambiguous calls "
   ]
  },
  {
   "cell_type": "code",
   "execution_count": 11,
   "metadata": {},
   "outputs": [],
   "source": [
    "aa = ['A','R','N','D','C','G','Q','E','H','I','L','K','M','F','P','S','T','W','Y','V']\n",
    "ambiguous_aa = ['B','Z','X','J']\n",
    "canon = []\n",
    "for record in SeqIO.parse('../output/01_70p_tree/merged_data.faa', \"fasta\"):\n",
    "    no_of_aa = np.array([x in ambiguous_aa for x in record.seq]).sum()\n",
    "    if no_of_aa == 0:\n",
    "        canon.append(record)\n",
    "\n",
    "with open(r\"../output/01_70p_tree/merged_data_clean.faa\", \"w\") as output_handle:\n",
    "    SeqIO.write(canon, output_handle, \"fasta\")"
   ]
  },
  {
   "cell_type": "markdown",
   "metadata": {},
   "source": [
    "### Cluster sequences using uclust"
   ]
  },
  {
   "cell_type": "code",
   "execution_count": 14,
   "metadata": {},
   "outputs": [
    {
     "name": "stdout",
     "output_type": "stream",
     "text": [
      "usearch v11.0.667_i86linux32, 4.0Gb RAM (16.3Gb total), 8 cores\n",
      "(C) Copyright 2013-18 Robert C. Edgar, all rights reserved.\n",
      "https://drive5.com/usearch\n",
      "\n",
      "License: yinonmoise.baron@weizmann.ac.il\n",
      "\n",
      "00:01 73Mb    100.0% Reading ../output/01_70p_tree/merged_data_clean.faa\n",
      "00:01 112Mb   100.0% DF\n",
      "00:01 113Mb  49110 seqs, 48052 uniques, 47400 singletons (98.6%)\n",
      "00:01 113Mb  Min size 1, median 1, max 48, avg 1.02\n",
      "00:01 120Mb   100.0% DB\n",
      "00:03 181Mb   100.0% 591 clusters, max size 14732, avg 83.1\n",
      "                                                           \n",
      "      Seqs  48052 (48.1k)\n",
      "  Clusters  591\n",
      "  Max size  14732 (14.7k)\n",
      "  Avg size  83.1\n",
      "  Min size  1\n",
      "Singletons  241, 0.5% of seqs, 40.8% of clusters\n",
      "   Max mem  181Mb\n",
      "      Time  2.00s\n",
      "Throughput  24.0k seqs/sec.\n",
      "\n"
     ]
    }
   ],
   "source": [
    "!../bin/usearch11.0.667_i86linux32 -cluster_fast ../output/01_70p_tree/merged_data_clean.faa -id 0.7 -uc ../output/01_70p_tree/uclust_all_0.7.uc"
   ]
  },
  {
   "cell_type": "markdown",
   "metadata": {},
   "source": [
    "### Take only cluster fasta files and create csv file"
   ]
  },
  {
   "cell_type": "code",
   "execution_count": 2,
   "metadata": {},
   "outputs": [],
   "source": [
    "parse_uclust(infile='../output/01_70p_tree/uclust_all_0.7.uc',\n",
    "             fasta='../output/01_70p_tree/merged_data_clean.faa',\n",
    "             outfasta='../output/01_70p_tree/uclust_all_0.7.faa',\n",
    "             outfile='../output/01_70p_tree/uclust_all_0.7.csv'\n",
    "            )"
   ]
  },
  {
   "cell_type": "markdown",
   "metadata": {},
   "source": [
    "## Create multiple sequence alignment"
   ]
  },
  {
   "cell_type": "code",
   "execution_count": 3,
   "metadata": {},
   "outputs": [
    {
     "name": "stdout",
     "output_type": "stream",
     "text": [
      "nthread = 0\n",
      "nthreadpair = 0\n",
      "nthreadtb = 0\n",
      "ppenalty_ex = 0\n",
      "stacksize: 8192 kb\n",
      "rescale = 1\n",
      "Gap Penalty = -1.53, +0.00, +0.00\n",
      "\n",
      "\n",
      "\n",
      "Making a distance matrix ..\n",
      "  501 / 591\n",
      "done.\n",
      "\n",
      "Constructing a UPGMA tree (efffree=0) ... \n",
      "  580 / 591\n",
      "done.\n",
      "\n",
      "Progressive alignment 1/2... \n",
      "STEP   398 / 590  h\n",
      "Reallocating..done. *alloclen = 2429\n",
      "STEP   501 / 590 \n",
      "Reallocating..done. *alloclen = 3575\n",
      "\n",
      "done.\n",
      "\n",
      "Making a distance matrix from msa.. \n",
      "  500 / 591\n",
      "done.\n",
      "\n",
      "Constructing a UPGMA tree (efffree=1) ... \n",
      "  580 / 591\n",
      "done.\n",
      "\n",
      "Progressive alignment 2/2... \n",
      "STEP   388 / 590  h\n",
      "Reallocating..done. *alloclen = 2432\n",
      "STEP   501 / 590 \n",
      "Reallocating..done. *alloclen = 3436\n",
      "\n",
      "done.\n",
      "\n",
      "disttbfast (aa) Version 7.427\n",
      "alg=A, model=BLOSUM62, 1.53, -0.00, -0.00, noshift, amax=0.0\n",
      "0 thread(s)\n",
      "\n",
      "\n",
      "Strategy:\n",
      " FFT-NS-2 (Fast but rough)\n",
      " Progressive method (guide trees were built 2 times.)\n",
      "\n",
      "If unsure which option to use, try 'mafft --auto input > output'.\n",
      "For more information, see 'mafft --help', 'mafft --man' and the mafft page.\n",
      "\n",
      "The default gap scoring scheme has been changed in version 7.110 (2013 Oct).\n",
      "It tends to insert more gaps into gap-rich regions than previous versions.\n",
      "To disable this change, add the --leavegappyregion option.\n",
      "\n"
     ]
    }
   ],
   "source": [
    "!../bin/mafft-linux64/mafft.bat ../output/01_70p_tree/uclust_all_0.7.faa > ../output/01_70p_tree/uclust_all_0.7.aln"
   ]
  },
  {
   "cell_type": "markdown",
   "metadata": {},
   "source": [
    "## Clean MSA to contain only positions with more than 5% coverage (based on Jaffe et al. 2018)"
   ]
  },
  {
   "cell_type": "code",
   "execution_count": 2,
   "metadata": {},
   "outputs": [],
   "source": [
    "clean_aln(infile='../output/01_70p_tree/uclust_all_0.7.aln',\n",
    "          outfile='../output/01_70p_tree/uclust_all_0.7_trimmed.aln')"
   ]
  },
  {
   "cell_type": "markdown",
   "metadata": {},
   "source": [
    "### Run RaxML on CIPRES"
   ]
  },
  {
   "cell_type": "code",
   "execution_count": null,
   "metadata": {},
   "outputs": [],
   "source": [
    "cip = CipresClient.Client(appname='RO',\n",
    "                    appID='rubisco_phylogeny-49F87B124F3D429FBE12F95E4254DDEA',\n",
    "                    baseUrl='https://cipresrest.sdsc.edu/cipresrest/v1',\n",
    "                    username='yinonbaron',\n",
    "                    password='Mchcav11~')\n",
    "\n",
    "job = cip.submitJob(vParams={'toolId': 'RAXMLHPC8_REST_XSEDE',\n",
    "                       'datatype_': 'protein',\n",
    "                       'runtime_': '160',\n",
    "                       'select_analysis_': 'fa',\n",
    "                       'choose_bootstrap_': 'x',\n",
    "                       'printbrlength_': '1'},\n",
    "              inputParams={'infile_': '../output/01_70p_tree/uclust_all_0.7_trimmed.aln'},\n",
    "              metadata={'statusEmail':'true'})"
   ]
  },
  {
   "cell_type": "code",
   "execution_count": null,
   "metadata": {},
   "outputs": [],
   "source": [
    "if cip.getJobStatus(jobHandle=job.jobHandle).isDone():\n",
    "    !mkdir -p ../output/02_90p_autotrophic_rubisco_tree/RaxML/\n",
    "    job.downloadResults('../output/01_70p_tree//RaxML/')\n",
    "else:\n",
    "    print('Job ' + job.jobHandle + ' not finished')"
   ]
  },
  {
   "cell_type": "code",
   "execution_count": 3,
   "metadata": {},
   "outputs": [],
   "source": [
    "#!curl -u yinonbaron:Mchcav11~ -H cipres-appkey:rubisco_phylogeny-49F87B124F3D429FBE12F95E4254DDEA https://cipresrest.sdsc.edu/cipresrest/v1/job/yinonbaron -F tool=RAXMLHPC8_REST_XSEDE  -F input.infile_=@../output/01_70p_tree/uclust_all_0.7_trimmed.aln -F metadata.statusEmail=true -F vparam.datatype_=protein -F vparam.runtime_=160 -F  vparam.select_analysis_=fa -F vparam.choose_bootstrap_=x -F vparam.printbrlength_=1"
   ]
  },
  {
   "cell_type": "code",
   "execution_count": 3,
   "metadata": {},
   "outputs": [],
   "source": [
    "# Optional - create tree using fasttree\n",
    "#!../bin/FastTree -spr 4 -mlacc 2 -slownni ../output/03_uclust_all_0.7_trimmed.aln > ../output/04_uclust_all_0.7.nwk"
   ]
  },
  {
   "cell_type": "code",
   "execution_count": 2,
   "metadata": {},
   "outputs": [],
   "source": [
    "add_type(type_file='../data/jaffe_et_al_2018_rubisco_types.csv',\n",
    "         seq_file='../output/01_70p_tree/uclust_all_0.7.csv',\n",
    "         outfile='../output/01_70p_tree/type_legend.txt')"
   ]
  },
  {
   "cell_type": "code",
   "execution_count": 2,
   "metadata": {},
   "outputs": [],
   "source": [
    "add_kinetic(kinetic_file='../data/flamholz_et_al_2019_kinetically_characterized.faa',\n",
    "            synth_file='../data/milo_synthetized_rubisco.faa',\n",
    "            seq_file='../output/01_70p_tree/uclust_all_0.7.csv',\n",
    "            outfile='../output/01_70p_tree/kinetic_legend.txt')"
   ]
  },
  {
   "cell_type": "markdown",
   "metadata": {},
   "source": [
    "### Extract fasta sequences for the autotrophic rubiscos"
   ]
  },
  {
   "cell_type": "code",
   "execution_count": 62,
   "metadata": {},
   "outputs": [],
   "source": [
    "uclust_data = pd.read_csv('../output/01_uclust_all_0.7.csv')\n",
    "uclust_data = uclust_data[uclust_data['Type'] !='S']\n",
    "uclust_data.loc[uclust_data['Target'] == '*','Target'] = uclust_data.loc[uclust_data['Target'] == '*','Query']\n",
    "uclust_data['cut Target'] = uclust_data.Target.apply(lambda x: x.split(' ')[0])\n",
    "auto_id = [x.replace('\\n','') for x in open('../output/20190410_run/20190410_autotrophic_rubisco_70p.txt').readlines() if x != '\\n']\n",
    "autotrophic_rubisco  = uclust_data.loc[uclust_data['cut Target'].isin(auto_id),'Query'].values"
   ]
  },
  {
   "cell_type": "code",
   "execution_count": 77,
   "metadata": {},
   "outputs": [],
   "source": [
    "auto_seq = []\n",
    "for record in SeqIO.parse('../data/merged_data_clean.faa', \"fasta\"):\n",
    "    if record.description in autotrophic_rubisco:\n",
    "        auto_seq.append(record)\n",
    "\n",
    "with open(r\"../data/autotrophic_rubisco_seq.faa\", \"w\") as output_handle:\n",
    "    SeqIO.write(auto_seq, output_handle, \"fasta\")"
   ]
  },
  {
   "cell_type": "code",
   "execution_count": 78,
   "metadata": {},
   "outputs": [
    {
     "name": "stdout",
     "output_type": "stream",
     "text": [
      "usearch v11.0.667_i86linux32, 4.0Gb RAM (16.3Gb total), 8 cores\n",
      "(C) Copyright 2013-18 Robert C. Edgar, all rights reserved.\n",
      "https://drive5.com/usearch\n",
      "\n",
      "License: yinonmoise.baron@weizmann.ac.il\n",
      "\n",
      "00:01 71Mb    100.0% Reading ../data/autotrophic_rubisco_seq.faa\n",
      "00:01 109Mb   100.0% DF\n",
      "00:01 111Mb  46200 seqs, 45451 uniques, 45025 singletons (99.1%)\n",
      "00:01 111Mb  Min size 1, median 1, max 48, avg 1.02\n",
      "00:01 117Mb   100.0% DB\n",
      "00:02 175Mb   100.0% 776 clusters, max size 8488, avg 59.5\n",
      "                                                          \n",
      "      Seqs  45451 (45.5k)\n",
      "  Clusters  776\n",
      "  Max size  8488\n",
      "  Avg size  59.5\n",
      "  Min size  1\n",
      "Singletons  245, 0.5% of seqs, 31.6% of clusters\n",
      "   Max mem  175Mb\n",
      "      Time  1.00s\n",
      "Throughput  45.5k seqs/sec.\n",
      "\n"
     ]
    }
   ],
   "source": [
    "!../bin/usearch11.0.667_i86linux32 -cluster_fast ../data/autotrophic_rubisco_seq.faa -id 0.9 -uc ../output/auto_uclust_all_0.9.uc"
   ]
  },
  {
   "cell_type": "code",
   "execution_count": 79,
   "metadata": {},
   "outputs": [],
   "source": [
    "header = ['Type','Cluster','Size','%Id','Strand','Qlo','Tlo','Alignment','Query','Target']\n",
    "uclust = pd.read_csv(r\"../output/auto_uclust_all_0.9.uc\", sep='\\t', names=header, index_col=False)\n",
    "centroids = uclust[uclust['Type']=='C']\n",
    "c_list = centroids.iloc[:,8].values\n",
    "c_list = [c.split(\" \")[0] for c in c_list]\n",
    "\n",
    "sequences = []\n",
    "for record in SeqIO.parse('../data/autotrophic_rubisco_seq.faa', \"fasta\"):\n",
    "    if record.id in c_list:\n",
    "        sequences.append(record)\n",
    "\n",
    "seq2 = []\n",
    "seq3 = []\n",
    "for i,record in enumerate(sequences):\n",
    "    if not record.id in seq2: \n",
    "        seq2.append(record.id)\n",
    "        seq3.append(record)\n",
    "\n",
    "        \n",
    "with open(r\"../output/auto_uclust_all_0.9.faa\", \"w\") as output_handle:\n",
    "    SeqIO.write(seq3, output_handle, \"fasta\")\n",
    "\n",
    "uclust.to_csv(r'../output/auto_uclust_all_0.9.csv',index=False)"
   ]
  },
  {
   "cell_type": "code",
   "execution_count": 80,
   "metadata": {},
   "outputs": [
    {
     "name": "stdout",
     "output_type": "stream",
     "text": [
      "nthread = 0\n",
      "nthreadpair = 0\n",
      "nthreadtb = 0\n",
      "ppenalty_ex = 0\n",
      "stacksize: 8192 kb\n",
      "rescale = 1\n",
      "Gap Penalty = -1.53, +0.00, +0.00\n",
      "\n",
      "\n",
      "\n",
      "Making a distance matrix ..\n",
      "  701 / 776\n",
      "done.\n",
      "\n",
      "Constructing a UPGMA tree (efffree=0) ... \n",
      "  770 / 776\n",
      "done.\n",
      "\n",
      "Progressive alignment 1/2... \n",
      "STEP   501 / 775 \n",
      "Reallocating..done. *alloclen = 2430\n",
      "STEP   701 / 775 \n",
      "Reallocating..done. *alloclen = 4043\n",
      "\n",
      "done.\n",
      "\n",
      "Making a distance matrix from msa.. \n",
      "  700 / 776\n",
      "done.\n",
      "\n",
      "Constructing a UPGMA tree (efffree=1) ... \n",
      "  770 / 776\n",
      "done.\n",
      "\n",
      "Progressive alignment 2/2... \n",
      "STEP   701 / 775 \n",
      "Reallocating..done. *alloclen = 2562\n",
      "\n",
      "Reallocating..done. *alloclen = 3819\n",
      "\n",
      "done.\n",
      "\n",
      "disttbfast (aa) Version 7.427\n",
      "alg=A, model=BLOSUM62, 1.53, -0.00, -0.00, noshift, amax=0.0\n",
      "0 thread(s)\n",
      "\n",
      "\n",
      "Strategy:\n",
      " FFT-NS-2 (Fast but rough)\n",
      " Progressive method (guide trees were built 2 times.)\n",
      "\n",
      "If unsure which option to use, try 'mafft --auto input > output'.\n",
      "For more information, see 'mafft --help', 'mafft --man' and the mafft page.\n",
      "\n",
      "The default gap scoring scheme has been changed in version 7.110 (2013 Oct).\n",
      "It tends to insert more gaps into gap-rich regions than previous versions.\n",
      "To disable this change, add the --leavegappyregion option.\n",
      "\n"
     ]
    }
   ],
   "source": [
    "!../bin/mafft-linux64/mafft.bat ../output/auto_uclust_all_0.9.faa > ../output/auto_uclust_all_0.9.aln"
   ]
  },
  {
   "cell_type": "code",
   "execution_count": 81,
   "metadata": {},
   "outputs": [],
   "source": [
    "aln = AlignIO.read('../output/auto_uclust_all_0.9.aln',format='fasta')\n",
    "mask = []\n",
    "for i in range(0,aln.get_alignment_length()):\n",
    "    mask.append(Counter(aln[:,i])['-']/len(aln[:,i])<0.95)\n",
    "    \n",
    "np_aln = np.array(aln)\n",
    "np_aln = np_aln[:,mask]\n",
    "\n",
    "aln_faa = SeqIO.parse('../output/auto_uclust_all_0.9.aln',format='fasta')\n",
    "sequences = []\n",
    "for record,i in zip(aln_faa,range(0,len(aln))):\n",
    "    record.seq = Seq.Seq(\"\".join(np_aln[i,:]), Seq.Alphabet.SingleLetterAlphabet())\n",
    "    sequences.append(record)\n",
    "        \n",
    "with open(r\"../output/auto_uclust_all_0.9_trimmed.aln\", \"w\") as output_handle:\n",
    "    SeqIO.write(sequences, output_handle, \"fasta\")\n"
   ]
  },
  {
   "cell_type": "code",
   "execution_count": 82,
   "metadata": {},
   "outputs": [
    {
     "name": "stdout",
     "output_type": "stream",
     "text": [
      "<?xml version=\"1.0\" encoding=\"UTF-8\" standalone=\"yes\"?>\n",
      "<jobstatus>\n",
      "    <selfUri>\n",
      "        <url>https://cipresrest.sdsc.edu/cipresrest/v1/job/yinonbaron/NGBW-JOB-RAXMLHPC8_REST_XSEDE-FCB5613CCDD144BEB2464F9FB2A04F31</url>\n",
      "        <rel>jobstatus</rel>\n",
      "        <title>NGBW-JOB-RAXMLHPC8_REST_XSEDE-FCB5613CCDD144BEB2464F9FB2A04F31</title>\n",
      "    </selfUri>\n",
      "    <jobHandle>NGBW-JOB-RAXMLHPC8_REST_XSEDE-FCB5613CCDD144BEB2464F9FB2A04F31</jobHandle>\n",
      "    <jobStage>QUEUE</jobStage>\n",
      "    <terminalStage>false</terminalStage>\n",
      "    <failed>false</failed>\n",
      "    <metadata>\n",
      "        <entry>\n",
      "            <key>statusEmail</key>\n",
      "            <value>true</value>\n",
      "        </entry>\n",
      "    </metadata>\n",
      "    <dateSubmitted>2019-04-10T07:20:09-07:00</dateSubmitted>\n",
      "    <resultsUri>\n",
      "        <url>https://cipresrest.sdsc.edu/cipresrest/v1/job/yinonbaron/NGBW-JOB-RAXMLHPC8_REST_XSEDE-FCB5613CCDD144BEB2464F9FB2A04F31/output</url>\n",
      "        <rel>results</rel>\n",
      "        <title>Job Results</title>\n",
      "    </resultsUri>\n",
      "    <workingDirUri>\n",
      "        <url>https://cipresrest.sdsc.edu/cipresrest/v1/job/yinonbaron/NGBW-JOB-RAXMLHPC8_REST_XSEDE-FCB5613CCDD144BEB2464F9FB2A04F31/workingdir</url>\n",
      "        <rel>workingdir</rel>\n",
      "        <title>Job Working Directory</title>\n",
      "    </workingDirUri>\n",
      "    <messages>\n",
      "        <message>\n",
      "            <timestamp>2019-04-10T07:20:09-07:00</timestamp>\n",
      "            <stage>QUEUE</stage>\n",
      "            <text>Added to run queue.</text>\n",
      "        </message>\n",
      "    </messages>\n",
      "    <minPollIntervalSeconds>60</minPollIntervalSeconds>\n",
      "</jobstatus>\n"
     ]
    }
   ],
   "source": [
    "!curl -u yinonbaron:Mchcav11~ -H cipres-appkey:rubisco_phylogeny-49F87B124F3D429FBE12F95E4254DDEA https://cipresrest.sdsc.edu/cipresrest/v1/job/yinonbaron -F tool=RAXMLHPC8_REST_XSEDE  -F input.infile_=@../output/auto_uclust_all_0.9_trimmed.aln -F metadata.statusEmail=true -F vparam.datatype_=protein -F vparam.runtime_=160 -F  vparam.select_analysis_=fa -F vparam.choose_bootstrap_=x -F vparam.printbrlength_=1"
   ]
  },
  {
   "cell_type": "code",
   "execution_count": 23,
   "metadata": {},
   "outputs": [],
   "source": [
    "f = open('../output/type1_fasttree.txt','r')\n",
    "type1_id = [x.rstrip('\\n').replace(' ','_') for x in f.readlines()]\n",
    "aln = AlignIO.read('../output/03_uclust_all_0.7_trimmed.aln',format='fasta')\n",
    "type1 = []\n",
    "for record in aln:\n",
    "    if record.id in type1_id:\n",
    "        type1.append(record)\n",
    "        \n",
    "with open(r\"../output/05_type1_fasttree.aln\", \"w\") as output_handle:\n",
    "    SeqIO.write(type1, output_handle, \"fasta\")\n"
   ]
  },
  {
   "cell_type": "code",
   "execution_count": 54,
   "metadata": {},
   "outputs": [],
   "source": [
    "f = open('../output/type2_fasttree.txt','r')\n",
    "type2_id = [x.rstrip('\\n').replace(' ','_') for x in f.readlines()]\n",
    "aln = AlignIO.read('../output/03_uclust_all_0.7_trimmed.aln',format='fasta')\n",
    "type2 = []\n",
    "for record in aln:\n",
    "    if record.id in type2_id:\n",
    "        type2.append(record)\n",
    "        \n",
    "with open(r\"../output/05_type2_fasttree.aln\", \"w\") as output_handle:\n",
    "    SeqIO.write(type2, output_handle, \"fasta\")"
   ]
  },
  {
   "cell_type": "code",
   "execution_count": 57,
   "metadata": {},
   "outputs": [],
   "source": [
    "f = open('../output/type2_3_fastree.txt','r')\n",
    "type2_3_id = [x.rstrip('\\n').replace(' ','_') for x in f.readlines()]\n",
    "aln = AlignIO.read('../output/03_uclust_all_0.7_trimmed.aln',format='fasta')\n",
    "type2_3 = []\n",
    "for record in aln:\n",
    "    if record.id in type2_3_id:\n",
    "        type2_3.append(record)\n",
    "        \n",
    "with open(r\"../output/05_type2_3_fasttree.aln\", \"w\") as output_handle:\n",
    "    SeqIO.write(type2_3, output_handle, \"fasta\")"
   ]
  },
  {
   "cell_type": "code",
   "execution_count": 61,
   "metadata": {},
   "outputs": [],
   "source": [
    "f2 = open('../output/type2_fasttree.txt','r')\n",
    "type2_id = [x.rstrip('\\n').replace(' ','_') for x in f2.readlines()]\n",
    "\n",
    "f1 = open('../output/type1_fasttree.txt','r')\n",
    "type1_id = [x.rstrip('\\n').replace(' ','_') for x in f1.readlines()]\n",
    "\n",
    "f = open('../output/type2_3_fastree.txt','r')\n",
    "type2_3_id = [x.rstrip('\\n').replace(' ','_') for x in f.readlines()]\n",
    "\n",
    "f4 = open('../output/type4_fasttree.txt','r')\n",
    "type4_id = [x.rstrip('\\n').replace(' ','_') for x in f4.readlines()]\n",
    "\n",
    "aln = AlignIO.read('../output/03_uclust_all_0.7_trimmed.aln',format='fasta')\n",
    "type3 = []\n",
    "not_type4 = []\n",
    "for record in aln:\n",
    "    if record.id not in type4_id:\n",
    "        not_type4.append(record)\n",
    "    if record.id not in type1_id+type2_id+type2_3_id+type4_id:\n",
    "        type3.append(record)\n",
    "#with open(r\"../output/05_type2_3_fasttree.aln\", \"w\") as output_handle:\n",
    "#    SeqIO.write(type2_3, output_handle, \"fasta\")"
   ]
  },
  {
   "cell_type": "code",
   "execution_count": 77,
   "metadata": {},
   "outputs": [
    {
     "data": {
      "text/plain": [
       "28"
      ]
     },
     "execution_count": 77,
     "metadata": {},
     "output_type": "execute_result"
    }
   ],
   "source": [
    "len(type1)\n"
   ]
  },
  {
   "cell_type": "code",
   "execution_count": 53,
   "metadata": {},
   "outputs": [
    {
     "data": {
      "text/plain": [
       "781.5564408080079"
      ]
     },
     "execution_count": 53,
     "metadata": {},
     "output_type": "execute_result"
    }
   ],
   "source": [
    "from Shannon import shannon_entropy_list_msa,shannon_entropy\n",
    "aln1 = AlignIO.read('../output/05_type1_fasttree.aln',format='fasta')\n",
    "sum(shannon_entropy_list_msa(aln1))\n"
   ]
  },
  {
   "cell_type": "code",
   "execution_count": 172,
   "metadata": {},
   "outputs": [],
   "source": [
    "from ete3 import Tree\n",
    "x = Tree('../output/jaffe_RAxML_BestTree.result')\n",
    "#x.show()\n",
    "#ts = TreeStyle()\n",
    "#ts.mode = \"c\" # circular\n",
    "#ts.show_leaf_name = True\n",
    "#x.show(tree_style=ts)\n",
    "d = x.get_leaves(is_leaf_fn=lambda x: True if x.dist > 0.68 else False)\n",
    "d[0].show()"
   ]
  },
  {
   "cell_type": "code",
   "execution_count": 176,
   "metadata": {},
   "outputs": [],
   "source": [
    "from ete3 import ClusterTree\n",
    "x2 = ClusterTree('../output/jaffe_RAxML_BestTree.result')\n",
    "x2."
   ]
  },
  {
   "cell_type": "code",
   "execution_count": 184,
   "metadata": {},
   "outputs": [
    {
     "name": "stdout",
     "output_type": "stream",
     "text": [
      "0.039893571402007014\n",
      "0.04025541436555166\n",
      "0.032482900708348056\n"
     ]
    }
   ],
   "source": [
    "def processable_node(node):\n",
    "    if node.dist > 0.6:\n",
    "       return True\n",
    "    else:\n",
    "       return False\n",
    "\n",
    "for leaf in x.iter_leaves(is_leaf_fn=lambda x: True if x.dist > 0.01 else False):\n",
    "    print(leaf.dist)\n"
   ]
  },
  {
   "cell_type": "code",
   "execution_count": 141,
   "metadata": {},
   "outputs": [
    {
     "data": {
      "text/plain": [
       "Clade(branch_length=0.039893571402007014, name='Thioalkalimicrobium_cyclicum_YP_00453780_REF')"
      ]
     },
     "execution_count": 141,
     "metadata": {},
     "output_type": "execute_result"
    }
   ],
   "source": [
    "\n",
    "tree = Phylo.read('../output/jaffe_RAxML_BestTree.result', 'newick')\n",
    "#[tree.get_path(x)[-2] for x in tree.find_clades(terminal=True) if x.branch_length>0.15]\n",
    "tree.get_terminals()[0]"
   ]
  },
  {
   "cell_type": "code",
   "execution_count": 2,
   "metadata": {},
   "outputs": [],
   "source": [
    "import itertools\n",
    "from Bio import Phylo\n",
    "t = Phylo.read('../output/jaffe_RAxML_BestTree.result', 'newick')\n",
    "\n",
    "d = {}\n",
    "for x, y in itertools.combinations(t.get_terminals(), 2):\n",
    "    v = t.distance(x, y)\n",
    "    d[x.name] = d.get(x.name, {})\n",
    "    d[x.name][y.name] = v\n",
    "    d[y.name] = d.get(y.name, {})\n",
    "    d[y.name][x.name] = v\n",
    "for x in t.get_terminals():\n",
    "    d[x.name][x.name] = 0\n",
    "\n",
    "m = pd.DataFrame(d)\n"
   ]
  }
 ],
 "metadata": {
  "kernelspec": {
   "display_name": "Python 3",
   "language": "python",
   "name": "python3"
  },
  "language_info": {
   "codemirror_mode": {
    "name": "ipython",
    "version": 3
   },
   "file_extension": ".py",
   "mimetype": "text/x-python",
   "name": "python",
   "nbconvert_exporter": "python",
   "pygments_lexer": "ipython3",
   "version": "3.6.7"
  }
 },
 "nbformat": 4,
 "nbformat_minor": 2
}
