{
 "cells": [
  {
   "cell_type": "code",
   "execution_count": 53,
   "metadata": {},
   "outputs": [],
   "source": [
    "import pandas as pd\n",
    "import re\n",
    "from Bio import SeqIO, AlignIO, Seq\n",
    "import numpy as np\n",
    "from collections import Counter\n",
    "from helper import *\n",
    "import python_cipres.client as CipresClient"
   ]
  },
  {
   "cell_type": "markdown",
   "metadata": {},
   "source": [
    "### Extract fasta sequences for the autotrophic rubiscos\n",
    "Before running this code we need to generate a file called `autotrophic_rubisco_70p.csv` by selecting in ITOL clades that belong to Rubisco types 1,2,2/3,3a,3c,3-like,3b and IV. We replaced sapces in the sequence ID to `_` to match the sequence ID in the fasta files. We take only sequences which are not type IV or type III-b as autotrophic."
   ]
  },
  {
   "cell_type": "code",
   "execution_count": 4,
   "metadata": {},
   "outputs": [],
   "source": [
    "uclust_data = pd.read_csv('../output/01_70p_tree/uclust_all_0.7.csv')\n",
    "uclust_data = uclust_data[uclust_data['Type'] !='S']\n",
    "uclust_data.loc[uclust_data['Target'] == '*','Target'] = uclust_data.loc[uclust_data['Target'] == '*','Query']\n",
    "uclust_data['cut Target'] = uclust_data.Target.apply(lambda x: x.split(' ')[0])\n",
    "#auto_id = [x.replace('\\n','') for x in open('../output/01_70p_tree/autotrophic_rubisco_70p.txt').readlines() if x != '\\n']\n",
    "rubisco_types = pd.read_csv('../output/01_70p_tree/rubisco_types_70p.csv')\n",
    "autotrophic_70p = rubisco_types[~rubisco_types['type'].isin(['IV','IIIb'])]\n",
    "auto_rubisco = uclust_data.merge(autotrophic_70p, left_on='cut Target', right_on='ID')\n",
    "autotrophic_rubisco  = auto_rubisco['Query'].values\n",
    "\n",
    "auto_seq = []\n",
    "for record in SeqIO.parse('../output/00_100p_tree/uclust_all_1.faa', \"fasta\"):\n",
    "    if record.description in autotrophic_rubisco:\n",
    "        auto_seq.append(record)\n",
    "!mkdir -p ../output/02_80p_autotrophic_rubisco_tree\n",
    "with open(r\"../output/02_80p_autotrophic_rubisco_tree/autotrophic_rubisco_seq.faa\", \"w\") as output_handle:\n",
    "    SeqIO.write(auto_seq, output_handle, \"fasta\")"
   ]
  },
  {
   "cell_type": "code",
   "execution_count": 5,
   "metadata": {},
   "outputs": [
    {
     "data": {
      "text/plain": [
       "type\n",
       "I           36258\n",
       "II            326\n",
       "II/III         51\n",
       "III-like       99\n",
       "IIIa           95\n",
       "IIIc           35\n",
       "unknown        23\n",
       "Name: Query, dtype: int64"
      ]
     },
     "execution_count": 5,
     "metadata": {},
     "output_type": "execute_result"
    }
   ],
   "source": [
    "auto_rubisco.to_csv('../output/02_80p_autotrophic_rubisco_tree/uclust_all_0.7_with_type.csv')\n",
    "auto_rubisco.groupby('type')['Query'].nunique()"
   ]
  },
  {
   "cell_type": "markdown",
   "metadata": {},
   "source": [
    "### Cluster sequences using uclust"
   ]
  },
  {
   "cell_type": "code",
   "execution_count": 6,
   "metadata": {},
   "outputs": [
    {
     "name": "stdout",
     "output_type": "stream",
     "text": [
      "usearch v11.0.667_i86linux32, 4.0Gb RAM (16.3Gb total), 8 cores\n",
      "(C) Copyright 2013-18 Robert C. Edgar, all rights reserved.\n",
      "https://drive5.com/usearch\n",
      "\n",
      "License: yinonmoise.baron@weizmann.ac.il\n",
      "\n",
      "00:00 64Mb    100.0% Reading ../output/02_80p_autotrophic_rubisco_tree/autotrophic_rubisco_seq.faa\n",
      "00:00 102Mb   100.0% DF\n",
      "00:00 102Mb  36887 seqs, 36887 uniques, 36887 singletons (100.0%)\n",
      "00:00 102Mb  Min size 1, median 1, max 1, avg 1.00\n",
      "00:00 108Mb   100.0% DB\n",
      "00:02 163Mb   100.0% 325 clusters, max size 7716, avg 113.5\n",
      "                                                           \n",
      "      Seqs  36887 (36.9k)\n",
      "  Clusters  325\n",
      "  Max size  7716\n",
      "  Avg size  113.5\n",
      "  Min size  1\n",
      "Singletons  169, 0.5% of seqs, 52.0% of clusters\n",
      "   Max mem  163Mb\n",
      "      Time  2.00s\n",
      "Throughput  18.4k seqs/sec.\n",
      "\n"
     ]
    }
   ],
   "source": [
    "!../bin/usearch11.0.667_i86linux32 -cluster_fast ../output/02_80p_autotrophic_rubisco_tree/autotrophic_rubisco_seq.faa -id 0.8 -uc ../output/02_80p_autotrophic_rubisco_tree/auto_uclust_all_0.8.uc"
   ]
  },
  {
   "cell_type": "markdown",
   "metadata": {},
   "source": [
    "### Take only cluster fasta files and create csv file"
   ]
  },
  {
   "cell_type": "code",
   "execution_count": 7,
   "metadata": {},
   "outputs": [],
   "source": [
    "parse_uclust(infile='../output/02_80p_autotrophic_rubisco_tree/auto_uclust_all_0.8.uc',\n",
    "             fasta='../output/02_80p_autotrophic_rubisco_tree/autotrophic_rubisco_seq.faa',\n",
    "             outfasta='../output/02_80p_autotrophic_rubisco_tree/auto_uclust_all_0.8.faa',\n",
    "             outfile='../output/02_80p_autotrophic_rubisco_tree/auto_uclust_all_0.8.csv'\n",
    "            )"
   ]
  },
  {
   "cell_type": "code",
   "execution_count": 32,
   "metadata": {},
   "outputs": [
    {
     "data": {
      "text/plain": [
       "<matplotlib.axes._subplots.AxesSubplot at 0x7fb7d8769d68>"
      ]
     },
     "execution_count": 32,
     "metadata": {},
     "output_type": "execute_result"
    },
    {
     "data": {
      "image/png": "[encoded data removed]",
      "text/plain": [
       "<Figure size 432x288 with 1 Axes>"
      ]
     },
     "metadata": {
      "needs_background": "light"
     },
     "output_type": "display_data"
    }
   ],
   "source": [
    "from Bio.Blast.Applications import NcbiblastpCommandline\n",
    "#aln = AlignIO.read('../output/02_90p_autotrophic_rubisco_tree/auto_uclust_all_0.9_trimmed.aln',format='fasta')\n",
    "output = NcbiblastpCommandline(query=\"../output/02_80p_autotrophic_rubisco_tree/auto_uclust_all_0.8.faa\", subject=\"../data/Rr.faa\", outfmt=5)()[0]\n",
    "from Bio.Blast import NCBIXML\n",
    "from io import StringIO\n",
    "\n",
    "res = []\n",
    "for x in NCBIXML.parse(StringIO(output)):\n",
    "    if len(x.alignments) == 0:\n",
    "        res.append(0)\n",
    "    else:\n",
    "        alignment = x.alignments[0]\n",
    "        res.append(pd.DataFrame([[x.align_length,x.expect] for x in alignment.hsps]).sort_values(by=1).loc[0,0]/x.query_length)\n",
    "\n",
    "seq = [x for x in SeqIO.parse('../output/02_80p_autotrophic_rubisco_tree/auto_uclust_all_0.8.faa',format='fasta')]\n",
    "\n",
    "res_df = pd.Series(res,index=[x.id for x in seq])\n",
    "%matplotlib inline\n",
    "res_df.plot.hist(bins=50)\n"
   ]
  },
  {
   "cell_type": "code",
   "execution_count": 33,
   "metadata": {},
   "outputs": [],
   "source": [
    "seqs = [x for x in seq if x.id in res_df[res_df >= 0.5].index]\n",
    "\n",
    "with open(r\"../output/02_80p_autotrophic_rubisco_tree/auto_uclust_all_0.8_no_outliers.faa\", \"w\") as output_handle:\n",
    "    SeqIO.write(seqs, output_handle, \"fasta\")"
   ]
  },
  {
   "cell_type": "code",
   "execution_count": 8,
   "metadata": {},
   "outputs": [
    {
     "data": {
      "text/plain": [
       "type\n",
       "I           149\n",
       "II           24\n",
       "II/III       16\n",
       "III-like     38\n",
       "IIIa         53\n",
       "IIIc         25\n",
       "unknown      20\n",
       "Name: Target_y, dtype: int64"
      ]
     },
     "execution_count": 8,
     "metadata": {},
     "output_type": "execute_result"
    }
   ],
   "source": [
    "auto_rub_80p = pd.read_csv('../output/02_80p_autotrophic_rubisco_tree/auto_uclust_all_0.8.csv')\n",
    "auto_rub_80p = auto_rub_80p[auto_rub_80p['Type'] !='S']\n",
    "auto_rub_80p.loc[auto_rub_80p['Target'] == '*','Target'] = auto_rub_80p.loc[auto_rub_80p['Target'] == '*','Query']\n",
    "\n",
    "auto_rub80 = auto_rubisco.merge(auto_rub_80p,left_on='Query',right_on='Query')\n",
    "auto_rub80.to_csv('../output/02_80p_autotrophic_rubisco_tree/uclust_all_0.8_with_type.csv')\n",
    "auto_rub80.groupby('type')['Target_y'].nunique()"
   ]
  },
  {
   "cell_type": "markdown",
   "metadata": {},
   "source": [
    "## Create multiple sequence alignment"
   ]
  },
  {
   "cell_type": "code",
   "execution_count": 34,
   "metadata": {},
   "outputs": [
    {
     "name": "stdout",
     "output_type": "stream",
     "text": [
      "nthread = 0\n",
      "nthreadpair = 0\n",
      "nthreadtb = 0\n",
      "ppenalty_ex = 0\n",
      "stacksize: 8192 kb\n",
      "rescale = 1\n",
      "Gap Penalty = -1.53, +0.00, +0.00\n",
      "\n",
      "\n",
      "\n",
      "Making a distance matrix ..\n",
      "  301 / 304\n",
      "done.\n",
      "\n",
      "Constructing a UPGMA tree (efffree=0) ... \n",
      "  300 / 304\n",
      "done.\n",
      "\n",
      "Progressive alignment 1/2... \n",
      "STEP   207 / 303 \n",
      "Reallocating..done. *alloclen = 2471\n",
      "STEP   299 / 303  h\n",
      "Reallocating..done. *alloclen = 3525\n",
      "STEP   303 / 303  h\n",
      "done.\n",
      "\n",
      "Making a distance matrix from msa.. \n",
      "  300 / 304\n",
      "done.\n",
      "\n",
      "Constructing a UPGMA tree (efffree=1) ... \n",
      "  300 / 304\n",
      "done.\n",
      "\n",
      "Progressive alignment 2/2... \n",
      "STEP   218 / 303 \n",
      "Reallocating..done. *alloclen = 2394\n",
      "STEP   299 / 303  h\n",
      "Reallocating..done. *alloclen = 3469\n",
      "STEP   303 / 303  h\n",
      "done.\n",
      "\n",
      "disttbfast (aa) Version 7.427\n",
      "alg=A, model=BLOSUM62, 1.53, -0.00, -0.00, noshift, amax=0.0\n",
      "0 thread(s)\n",
      "\n",
      "\n",
      "Strategy:\n",
      " FFT-NS-2 (Fast but rough)\n",
      " Progressive method (guide trees were built 2 times.)\n",
      "\n",
      "If unsure which option to use, try 'mafft --auto input > output'.\n",
      "For more information, see 'mafft --help', 'mafft --man' and the mafft page.\n",
      "\n",
      "The default gap scoring scheme has been changed in version 7.110 (2013 Oct).\n",
      "It tends to insert more gaps into gap-rich regions than previous versions.\n",
      "To disable this change, add the --leavegappyregion option.\n",
      "\n"
     ]
    }
   ],
   "source": [
    "#!../bin/mafft-linux64/mafft.bat ../output/02_80p_autotrophic_rubisco_tree/auto_uclust_all_0.8.faa > ../output/02_80p_autotrophic_rubisco_tree/auto_uclust_all_0.8.aln\n",
    "!../bin/mafft-linux64/mafft.bat ../output/02_80p_autotrophic_rubisco_tree/auto_uclust_all_0.8_no_outliers.faa > ../output/02_80p_autotrophic_rubisco_tree/auto_uclust_all_0.8.aln"
   ]
  },
  {
   "cell_type": "markdown",
   "metadata": {},
   "source": [
    "## Clean MSA to contain only positions with more than 5% coverage (based on Jaffe et al. 2018)"
   ]
  },
  {
   "cell_type": "code",
   "execution_count": 35,
   "metadata": {},
   "outputs": [],
   "source": [
    "clean_aln(infile='../output/02_80p_autotrophic_rubisco_tree/auto_uclust_all_0.8.aln',\n",
    "          outfile='../output/02_80p_autotrophic_rubisco_tree/auto_uclust_all_0.8_trimmed.aln')"
   ]
  },
  {
   "cell_type": "code",
   "execution_count": 36,
   "metadata": {},
   "outputs": [],
   "source": [
    "cip = CipresClient.Client(appname='RO',\n",
    "                    appID='rubisco_phylogeny-49F87B124F3D429FBE12F95E4254DDEA',\n",
    "                    baseUrl='https://cipresrest.sdsc.edu/cipresrest/v1',\n",
    "                    username='yinonbaron',\n",
    "                    password='Mchcav11~')\n"
   ]
  },
  {
   "cell_type": "code",
   "execution_count": 46,
   "metadata": {},
   "outputs": [
    {
     "name": "stderr",
     "output_type": "stream",
     "text": [
      "/usr/lib/python3/dist-packages/urllib3/connectionpool.py:794: InsecureRequestWarning: Unverified HTTPS request is being made. Adding certificate verification is strongly advised. See: https://urllib3.readthedocs.org/en/latest/security.html\n",
      "  InsecureRequestWarning)\n"
     ]
    }
   ],
   "source": [
    "job = cip.submitJob(vParams={'toolId': 'RAXMLHPC8_REST_XSEDE',\n",
    "                       'datatype_': 'protein',\n",
    "                       'runtime_': '160',\n",
    "                       'select_analysis_': 'fa',\n",
    "                       'choose_bootstrap_': 'x',\n",
    "                       'printbrlength_': '1'},\n",
    "              inputParams={'infile_': '../output/02_80p_autotrophic_rubisco_tree/auto_uclust_all_0.8_trimmed.aln'},\n",
    "              metadata={'statusEmail':'true'})"
   ]
  },
  {
   "cell_type": "code",
   "execution_count": 356,
   "metadata": {},
   "outputs": [],
   "source": [
    "job = cip.listJobs()[-1]"
   ]
  },
  {
   "cell_type": "code",
   "execution_count": 357,
   "metadata": {},
   "outputs": [],
   "source": [
    "if cip.getJobStatus(jobHandle=job.jobHandle).isDone():\n",
    "    !mkdir -p ../output/02_80p_autotrophic_rubisco_tree/RaxML/\n",
    "    job.downloadResults('../output/02_80p_autotrophic_rubisco_tree/RaxML/')\n",
    "else:\n",
    "    print('Job ' + job.jobHandle + ' not finished')"
   ]
  },
  {
   "cell_type": "code",
   "execution_count": 40,
   "metadata": {},
   "outputs": [],
   "source": [
    "uclust1 = pd.read_csv('../output/00_100p_tree/uclust_all_1.csv')\n",
    "uclust_data = pd.read_csv('../output/02_80p_autotrophic_rubisco_tree/auto_uclust_all_0.8.csv')\n",
    "uclust_data = uclust_data[uclust_data['Type'] !='S']\n",
    "uclust_data.loc[uclust_data['Target'] == '*','Target'] = uclust_data.loc[uclust_data['Target'] == '*','Query']\n",
    "uclust_data = uclust1.merge(uclust_data,left_on='Target',right_on='Query',suffixes=('_100', ''))\n",
    "uclust_data.rename(columns={'Query':'Query_80','Query_100':'Query'},inplace=True)"
   ]
  },
  {
   "cell_type": "code",
   "execution_count": 41,
   "metadata": {},
   "outputs": [],
   "source": [
    "add_type(type_file='../data/jaffe_et_al_2018_rubisco_types.csv',\n",
    "         seq_file=uclust_data,\n",
    "         outfile='../output/02_80p_autotrophic_rubisco_tree/type_legend.txt')"
   ]
  },
  {
   "cell_type": "code",
   "execution_count": 42,
   "metadata": {},
   "outputs": [],
   "source": [
    "add_kinetic(kinetic_file='../data/flamholz_et_al_2019_kinetically_characterized.faa',\n",
    "            synth_file='../data/milo_synthetized_rubisco.faa',\n",
    "            seq_file='../output/02_80p_autotrophic_rubisco_tree/auto_uclust_all_0.8.csv',\n",
    "            outfile='../output/02_80p_autotrophic_rubisco_tree/kinetic_legend.txt')"
   ]
  },
  {
   "cell_type": "code",
   "execution_count": 29,
   "metadata": {},
   "outputs": [
    {
     "data": {
      "text/plain": [
       "325"
      ]
     },
     "execution_count": 29,
     "metadata": {},
     "output_type": "execute_result"
    }
   ],
   "source": [
    "uclust_data = pd.read_csv('../output/02_80p_autotrophic_rubisco_tree/auto_uclust_all_0.8.csv')\n",
    "uclust_data.loc[uclust_data['Target'] == '*','Target'] = uclust_data.loc[uclust_data['Target'] == '*','Query']\n",
    "uclust_data.Target.nunique()\n"
   ]
  },
  {
   "cell_type": "code",
   "execution_count": 16,
   "metadata": {},
   "outputs": [],
   "source": [
    "add_type(type_file='../data/jaffe_et_al_2018_rubisco_types.csv',\n",
    "         seq_file='../output/02_80p_autotrophic_rubisco_tree/auto_uclust_all_0.8.csv',\n",
    "         outfile='../output/02_80p_autotrophic_rubisco_tree/type_legend.txt')"
   ]
  },
  {
   "cell_type": "code",
   "execution_count": 17,
   "metadata": {},
   "outputs": [],
   "source": [
    "add_kinetic(kinetic_file='../data/flamholz_et_al_2019_kinetically_characterized.faa',\n",
    "            synth_file='../data/milo_synthetized_rubisco.faa',\n",
    "            seq_file='../output/02_80p_autotrophic_rubisco_tree/auto_uclust_all_0.8.csv',\n",
    "            outfile='../output/02_80p_autotrophic_rubisco_tree/kinetic_legend.txt')"
   ]
  },
  {
   "cell_type": "code",
   "execution_count": 18,
   "metadata": {},
   "outputs": [
    {
     "data": {
      "text/plain": [
       "pandas.core.frame.DataFrame"
      ]
     },
     "execution_count": 18,
     "metadata": {},
     "output_type": "execute_result"
    }
   ],
   "source": [
    "type(uclust_data)"
   ]
  },
  {
   "cell_type": "code",
   "execution_count": 5,
   "metadata": {},
   "outputs": [
    {
     "ename": "KeyError",
     "evalue": "'III-like'",
     "output_type": "error",
     "traceback": [
      "\u001b[0;31m---------------------------------------------------------------------------\u001b[0m",
      "\u001b[0;31mKeyError\u001b[0m                                  Traceback (most recent call last)",
      "\u001b[0;32m<ipython-input-5-4d5b85ae595a>\u001b[0m in \u001b[0;36m<module>\u001b[0;34m()\u001b[0m\n\u001b[1;32m     20\u001b[0m              \u001b[0;34m'IVlike'\u001b[0m\u001b[0;34m:\u001b[0m\u001b[0;34m'#F8C471'\u001b[0m\u001b[0;34m,\u001b[0m\u001b[0;34m\u001b[0m\u001b[0;34m\u001b[0m\u001b[0m\n\u001b[1;32m     21\u001b[0m              'unknown':'#F442D4'}\n\u001b[0;32m---> 22\u001b[0;31m \u001b[0mlines\u001b[0m \u001b[0;34m=\u001b[0m \u001b[0mlabeled_leaves\u001b[0m\u001b[0;34m[\u001b[0m\u001b[0;34m'Target'\u001b[0m\u001b[0;34m]\u001b[0m\u001b[0;34m.\u001b[0m\u001b[0mapply\u001b[0m\u001b[0;34m(\u001b[0m\u001b[0;32mlambda\u001b[0m \u001b[0mx\u001b[0m\u001b[0;34m:\u001b[0m \u001b[0mx\u001b[0m\u001b[0;34m.\u001b[0m\u001b[0msplit\u001b[0m\u001b[0;34m(\u001b[0m\u001b[0;34m' '\u001b[0m\u001b[0;34m)\u001b[0m\u001b[0;34m[\u001b[0m\u001b[0;36m0\u001b[0m\u001b[0;34m]\u001b[0m\u001b[0;34m)\u001b[0m\u001b[0;34m.\u001b[0m\u001b[0mvalues\u001b[0m \u001b[0;34m+\u001b[0m\u001b[0;34m[\u001b[0m\u001b[0;34m',label,node,'\u001b[0m\u001b[0;34m+\u001b[0m\u001b[0mcolor_map\u001b[0m\u001b[0;34m[\u001b[0m\u001b[0mx\u001b[0m\u001b[0;34m]\u001b[0m\u001b[0;34m+\u001b[0m\u001b[0;34m',1,normal\\n'\u001b[0m \u001b[0;32mfor\u001b[0m \u001b[0mx\u001b[0m \u001b[0;32min\u001b[0m \u001b[0mlabeled_leaves\u001b[0m\u001b[0;34m[\u001b[0m\u001b[0;34m'type'\u001b[0m\u001b[0;34m]\u001b[0m\u001b[0;34m.\u001b[0m\u001b[0mvalues\u001b[0m\u001b[0;34m]\u001b[0m\u001b[0;34m\u001b[0m\u001b[0;34m\u001b[0m\u001b[0m\n\u001b[0m\u001b[1;32m     23\u001b[0m \u001b[0mlines\u001b[0m \u001b[0;34m=\u001b[0m \u001b[0mset\u001b[0m\u001b[0;34m(\u001b[0m\u001b[0mlines\u001b[0m\u001b[0;34m)\u001b[0m\u001b[0;34m\u001b[0m\u001b[0;34m\u001b[0m\u001b[0m\n\u001b[1;32m     24\u001b[0m '''\n",
      "\u001b[0;32m<ipython-input-5-4d5b85ae595a>\u001b[0m in \u001b[0;36m<listcomp>\u001b[0;34m(.0)\u001b[0m\n\u001b[1;32m     20\u001b[0m              \u001b[0;34m'IVlike'\u001b[0m\u001b[0;34m:\u001b[0m\u001b[0;34m'#F8C471'\u001b[0m\u001b[0;34m,\u001b[0m\u001b[0;34m\u001b[0m\u001b[0;34m\u001b[0m\u001b[0m\n\u001b[1;32m     21\u001b[0m              'unknown':'#F442D4'}\n\u001b[0;32m---> 22\u001b[0;31m \u001b[0mlines\u001b[0m \u001b[0;34m=\u001b[0m \u001b[0mlabeled_leaves\u001b[0m\u001b[0;34m[\u001b[0m\u001b[0;34m'Target'\u001b[0m\u001b[0;34m]\u001b[0m\u001b[0;34m.\u001b[0m\u001b[0mapply\u001b[0m\u001b[0;34m(\u001b[0m\u001b[0;32mlambda\u001b[0m \u001b[0mx\u001b[0m\u001b[0;34m:\u001b[0m \u001b[0mx\u001b[0m\u001b[0;34m.\u001b[0m\u001b[0msplit\u001b[0m\u001b[0;34m(\u001b[0m\u001b[0;34m' '\u001b[0m\u001b[0;34m)\u001b[0m\u001b[0;34m[\u001b[0m\u001b[0;36m0\u001b[0m\u001b[0;34m]\u001b[0m\u001b[0;34m)\u001b[0m\u001b[0;34m.\u001b[0m\u001b[0mvalues\u001b[0m \u001b[0;34m+\u001b[0m\u001b[0;34m[\u001b[0m\u001b[0;34m',label,node,'\u001b[0m\u001b[0;34m+\u001b[0m\u001b[0mcolor_map\u001b[0m\u001b[0;34m[\u001b[0m\u001b[0mx\u001b[0m\u001b[0;34m]\u001b[0m\u001b[0;34m+\u001b[0m\u001b[0;34m',1,normal\\n'\u001b[0m \u001b[0;32mfor\u001b[0m \u001b[0mx\u001b[0m \u001b[0;32min\u001b[0m \u001b[0mlabeled_leaves\u001b[0m\u001b[0;34m[\u001b[0m\u001b[0;34m'type'\u001b[0m\u001b[0;34m]\u001b[0m\u001b[0;34m.\u001b[0m\u001b[0mvalues\u001b[0m\u001b[0;34m]\u001b[0m\u001b[0;34m\u001b[0m\u001b[0;34m\u001b[0m\u001b[0m\n\u001b[0m\u001b[1;32m     23\u001b[0m \u001b[0mlines\u001b[0m \u001b[0;34m=\u001b[0m \u001b[0mset\u001b[0m\u001b[0;34m(\u001b[0m\u001b[0mlines\u001b[0m\u001b[0;34m)\u001b[0m\u001b[0;34m\u001b[0m\u001b[0;34m\u001b[0m\u001b[0m\n\u001b[1;32m     24\u001b[0m '''\n",
      "\u001b[0;31mKeyError\u001b[0m: 'III-like'"
     ]
    }
   ],
   "source": [
    "type_file='../output/01_70p_tree/rubisco_types_70p.csv'\n",
    "seq_file='../output/02_80p_autotrophic_rubisco_tree/auto_uclust_all_0.8.csv'\n",
    "outfile='../output/02_80p_autotrophic_rubisco_tree/type_legend.txt'\n",
    "\n",
    "labels = pd.read_csv(type_file)\n",
    "uclust_data = pd.read_csv(seq_file)\n",
    "uclust_data = uclust_data[uclust_data['Type'] !='S']\n",
    "uclust_data.loc[uclust_data['Target'] == '*','Target'] = uclust_data.loc[uclust_data['Target'] == '*','Query']\n",
    "uclust_data['cut Query'] = uclust_data.Query.apply(lambda x: x.split(' ')[0])\n",
    "uclust_data = uclust_data.merge(labels, left_on='cut Query', right_on='ID',how='left')\n",
    "labeled_leaves = uclust_data[~pd.isna(uclust_data['type'])]\n",
    "color_map = {'I': '#28B463',\n",
    "             'II': '#E74C3C',\n",
    "             'II/III':'#AF7AC5',\n",
    "             'IIIa':'#AED6F1',\n",
    "             'IIIb':'#3498DB',\n",
    "             'IIIc':'#1F618D',\n",
    "             'IIIlike':'#5D6D7E',\n",
    "             'IV':'#F4D03F',\n",
    "             'IVlike':'#F8C471',\n",
    "             'unknown':'#F442D4'}\n",
    "lines = labeled_leaves['Target'].apply(lambda x: x.split(' ')[0]).values +[',label,node,'+color_map[x]+',1,normal\\n' for x in labeled_leaves['type'].values]\n",
    "lines = set(lines)\n",
    "'''\n",
    "with open('../data/itol_legend_template.txt','r') as file:\n",
    "    with open(outfile, \"w\") as f1:\n",
    "        for row in file:\n",
    "            f1.write(row)\n",
    "        for line in lines:\n",
    "            f1.write(line)\n",
    "        file.close()\n",
    "        f1.close()\n",
    "        '''"
   ]
  },
  {
   "cell_type": "code",
   "execution_count": null,
   "metadata": {},
   "outputs": [],
   "source": [
    "\n"
   ]
  }
 ],
 "metadata": {
  "kernelspec": {
   "display_name": "Python 3",
   "language": "python",
   "name": "python3"
  },
  "language_info": {
   "codemirror_mode": {
    "name": "ipython",
    "version": 3
   },
   "file_extension": ".py",
   "mimetype": "text/x-python",
   "name": "python",
   "nbconvert_exporter": "python",
   "pygments_lexer": "ipython3",
   "version": "3.7.3"
  }
 },
 "nbformat": 4,
 "nbformat_minor": 2
}
