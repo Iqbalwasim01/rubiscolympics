{
 "cells": [
  {
   "cell_type": "code",
   "execution_count": 2,
   "metadata": {},
   "outputs": [],
   "source": [
    "import pandas as pd\n",
    "from Bio import SeqIO, AlignIO, Seq\n",
    "import numpy as np\n",
    "from collections import Counter\n",
    "from helper import *\n",
    "import python_cipres.client as CipresClient"
   ]
  },
  {
   "cell_type": "code",
   "execution_count": 3,
   "metadata": {},
   "outputs": [],
   "source": [
    "kinetic_file='../output/00_100p_tree/uclust_all_1_kinetic_data.csv'\n",
    "synth_file='../output/00_100p_tree/synth_data_modified.csv'\n",
    "seq_file='../output/02_90p_autotrophic_rubisco_tree/auto_uclust_all_0.9_no_outliers.csv'"
   ]
  },
  {
   "cell_type": "code",
   "execution_count": 4,
   "metadata": {},
   "outputs": [],
   "source": [
    "kinetic_data = pd.read_csv(kinetic_file,names=['kinetic_ID'])\n",
    "synth_data = pd.read_csv(synth_file,names=['syn_ID'])\n",
    "\n",
    "if type(seq_file) == str:\n",
    "    uclust_data = pd.read_csv(seq_file)\n",
    "elif type(seq_file) == pd.core.frame.DataFrame:\n",
    "    uclust_data = seq_file.copy()\n",
    "else:\n",
    "     raise ValueError('Wrong seq_file format')\n",
    "\n",
    "uclust_data = uclust_data.merge(kinetic_data, left_on='Query', right_on='kinetic_ID',how='left')\n",
    "uclust_data = uclust_data.merge(synth_data, left_on='Query', right_on='syn_ID',how='left')\n",
    "\n",
    "uclust_data['kinetic_flag'] = '-1'\n",
    "uclust_data['syn_flag'] = '-1'\n",
    "\n",
    "kinetic_centroid = uclust_data.loc[~pd.isna(uclust_data['kinetic_ID']),'Target'].unique()\n",
    "syn_centroid = uclust_data.loc[~pd.isna(uclust_data['syn_ID']),'Target'].unique()\n",
    "\n",
    "uclust_data.loc[uclust_data['Target'].isin(kinetic_centroid),'kinetic_flag'] = '1'\n",
    "uclust_data.loc[uclust_data['Target'].isin(syn_centroid),'syn_flag'] = '1'\n"
   ]
  },
  {
   "cell_type": "code",
   "execution_count": 9,
   "metadata": {},
   "outputs": [
    {
     "data": {
      "text/plain": [
       "array(['RBC2_44,1.0\\n', 'RBC2_44,1.0\\n', 'RBC2_44,1.0\\n', ...,\n",
       "       'gi|357471525|ref|XP_003606047.1|,1.0\\n',\n",
       "       'gi|387767798|gb|AFJ96478.1|,1.0\\n', 'RBC2_50,1.0\\n'], dtype=object)"
      ]
     },
     "execution_count": 9,
     "metadata": {},
     "output_type": "execute_result"
    }
   ],
   "source": [
    "kin = uclust_data[uclust_data.kinetic_flag=='1']\n",
    "lines = kin['Target'].apply(lambda x: x.split(' ')[0]).values + ',1.0\\n'\n",
    "lines"
   ]
  },
  {
   "cell_type": "code",
   "execution_count": null,
   "metadata": {},
   "outputs": [],
   "source": [
    "\n",
    "lines = uclust_data['Target'].apply(lambda x: x.split(' ')[0]).values + ','+ uclust_data['kinetic_flag'].values+','+uclust_data['syn_flag'].values+'\\n'\n",
    "unique_lines = np.unique(lines)\n",
    "\n",
    "with open('../data/kinetic_sampling_legend.txt','r') as file:\n",
    "    with open(outfile, \"w\") as f1:\n",
    "        for row in file:\n",
    "            f1.write(row)\n",
    "        for line in unique_lines:\n",
    "            f1.write(line)\n",
    "        file.close()\n",
    "        f1.close()\n"
   ]
  }
 ],
 "metadata": {
  "kernelspec": {
   "display_name": "Python 3",
   "language": "python",
   "name": "python3"
  },
  "language_info": {
   "codemirror_mode": {
    "name": "ipython",
    "version": 3
   },
   "file_extension": ".py",
   "mimetype": "text/x-python",
   "name": "python",
   "nbconvert_exporter": "python",
   "pygments_lexer": "ipython3",
   "version": "3.7.3"
  }
 },
 "nbformat": 4,
 "nbformat_minor": 2
}
