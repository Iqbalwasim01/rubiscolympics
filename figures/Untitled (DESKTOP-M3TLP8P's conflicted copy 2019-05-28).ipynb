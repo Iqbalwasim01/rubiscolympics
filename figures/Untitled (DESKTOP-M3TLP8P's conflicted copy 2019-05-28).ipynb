{
 "cells": [
  {
   "cell_type": "code",
   "execution_count": 4,
   "metadata": {},
   "outputs": [],
   "source": [
    "from ete3 import Tree, TreeStyle, NodeStyle\n",
    "t = Tree('../output_itai/01_70p_tree/RaxML/RAxML_bipartitions.result',format=2)\n",
    "t.set_outgroup(t.get_leaves_by_name('RBG_13_scaffold_9498_7')[0])\n",
    "\n",
    "ts = TreeStyle()\n",
    "ts.show_leaf_name = True\n",
    "ts.mode = \"c\"\n",
    "ts.arc_start = -120 # 0 degrees = 3 o'clock\n",
    "ts.arc_span = 360\n",
    "ts.branch_vertical_margin = 1\n",
    "#t.show(tree_style=ts)"
   ]
  },
  {
   "cell_type": "code",
   "execution_count": 185,
   "metadata": {},
   "outputs": [
    {
     "name": "stderr",
     "output_type": "stream",
     "text": [
      "The syntax of the command is incorrect.\n",
      "'..' is not recognized as an internal or external command,\n",
      "operable program or batch file.\n"
     ]
    }
   ],
   "source": [
    "! mkdir -p ../output_itai/02_90p_tree\n",
    "!../bin/usearch11.0.667_i86linux32 -cluster_fast ../output_itai/00_100p_tree/uclust_all_1.faa -id 0.9 -uc ../output_itai/02_90p_tree/uclust_all_0.9.uc"
   ]
  },
  {
   "cell_type": "code",
   "execution_count": null,
   "metadata": {},
   "outputs": [],
   "source": [
    "parse_uclust(infile='../output_itai/02_90p_tree/uclust_all_0.9.uc',\n",
    "             fasta='../output_itai/00_100p_tree/uclust_all_1.faa',\n",
    "             outfasta='../output_itai/02_90p_tree/uclust_all_0.9.faa',\n",
    "             outfile='../output_itai/02_90p_tree/uclust_all_0.9.csv'\n",
    "            )"
   ]
  },
  {
   "cell_type": "code",
   "execution_count": 32,
   "metadata": {},
   "outputs": [
    {
     "data": {
      "text/plain": [
       "Text(0.5, 0, 'y')"
      ]
     },
     "execution_count": 32,
     "metadata": {},
     "output_type": "execute_result"
    },
    {
     "data": {
      "image/png": "[encoded data removed]",
      "text/plain": [
       "<Figure size 432x288 with 1 Axes>"
      ]
     },
     "metadata": {
      "needs_background": "light"
     },
     "output_type": "display_data"
    }
   ],
   "source": [
    "import hvplot.pandas\n",
    "%matplotlib inline\n",
    "l = pd.read_csv('../../../../RO/3PG Coupled Assay/EPPS_Assays/agg_variant_data_42_83_20190529.csv')\n",
    "l['mean kcat'].hvplot.hist(bins=20)\n",
    "#hvplot.save(o,filename='../../../../RO/3PG Coupled Assay/EPPS_Assays/mean_kcat_hist.svg',fig='svg')\n",
    "#import matplotlib.pyplot as plt\n",
    "#l.hvplot.\n",
    "#bar(x='Variant',y='mean kcat',yerr=l['kcat std'])\n",
    "\n",
    "ax = l['mean relative to Rr'].plot.hist()\n"
   ]
  },
  {
   "cell_type": "code",
   "execution_count": 89,
   "metadata": {},
   "outputs": [],
   "source": [
    "import pandas as pd\n",
    "\n",
    "kinetic_data = pd.read_csv('../output_itai/00_100p_tree/uclust_all_1_kinetic_data.csv',names=['kinetic_ID'])\n",
    "uc = pd.read_csv('../output_itai/01_70p_tree/uclust_all_0.7.csv')\n",
    "uc = pd.read_csv('../output_itai/01_70p_tree/uclust_all_0.7.csv')\n",
    "uc2 = uc.merge(kinetic_data,left_on='Query', right_on='kinetic_ID')\n",
    "uc2['kinetic_flag'] = '-1'\n",
    "uc2.loc[~uc2.kinetic_ID.isna(),'kinetic_flag'] = '1'\n",
    "#lines = uc2['Target'].apply(lambda x: x.split(' ')[0]).values + ','+ uc2['kinetic_flag'].values+',-1\\n'\n",
    "#unique_lines = np.unique(lines)\n",
    "uc2['ID'] = uc2['Target'].apply(lambda x: x.split(' ')[0])\n",
    "uc['ID'] = uc['Target'].apply(lambda x: x.split(' ')[0])\n",
    "all_leaves = uc.groupby('ID')['Type'].count()"
   ]
  },
  {
   "cell_type": "code",
   "execution_count": 184,
   "metadata": {},
   "outputs": [
    {
     "data": {
      "text/plain": [
       "162"
      ]
     },
     "execution_count": 184,
     "metadata": {},
     "output_type": "execute_result"
    }
   ],
   "source": [
    "uc_all = uc.merge(uc90,left_on='Query',right_on='Query',suffixes=('_70','_90'))\n",
    "uc_all['ID'] = uc_all['Target_70'].apply(lambda x: x.split(' ')[0])\n",
    "all_leaves = uc_all.groupby('ID')['Target_90'].nunique()"
   ]
  },
  {
   "cell_type": "code",
   "execution_count": 6,
   "metadata": {},
   "outputs": [],
   "source": [
    "import matplotlib as mp\n",
    "from matplotlib import cm\n",
    "ncol = 256\n",
    "mg = cm.get_cmap('magma',lut=ncol)\n"
   ]
  },
  {
   "cell_type": "code",
   "execution_count": 7,
   "metadata": {},
   "outputs": [
    {
     "data": {
      "text/plain": [
       "'#010108'"
      ]
     },
     "execution_count": 7,
     "metadata": {},
     "output_type": "execute_result"
    }
   ],
   "source": [
    "x = 0\n",
    "for leaf in t.traverse():\n",
    "    if leaf.name == '':\n",
    "        leaf.name = 'Int'+str(x)\n",
    "        x = x+1\n",
    "f = pd.DataFrame(pd.np.arange(0,257))\n",
    "f['c'] = [mp.colors.to_hex(mg(x)) for x in f[0]]\n",
    "#f.columns = ['x','c']\n",
    "f.plot.scatter(x=0,y=0,c=f['c'])\n",
    "\n",
    "mp.colors.to_hex(mg(3))"
   ]
  },
  {
   "cell_type": "code",
   "execution_count": 86,
   "metadata": {},
   "outputs": [
    {
     "name": "stderr",
     "output_type": "stream",
     "text": [
      "/usr/lib/python3/dist-packages/ipykernel_launcher.py:15: RuntimeWarning: divide by zero encountered in log10\n",
      "  from ipykernel import kernelapp as app\n"
     ]
    }
   ],
   "source": [
    "measurements = uc2.groupby('ID')['kinetic_flag'].count()\n",
    "lines = []\n",
    "max_frac = 0.0077191602340331384\n",
    "m = 2.19\n",
    "for leaf in t.traverse():\n",
    "    leaf.add_feature('num_measured',sum([measurements.loc[x.name] for x in leaf.get_leaves() if x.name in measurements.index]))\n",
    "    leaf.add_feature('all_leaves',sum([all_leaves.loc[x.name] for x in leaf.get_leaves() if x.name in all_leaves.index]))\n",
    "\n",
    "for leaf in t.traverse():    \n",
    "    #mean_measured = pd.Series([measurements.loc[x.name] for x in leaf.get_leaves() if x.name in measurements.index]).mean()\n",
    "    #leaf.add_feature('mean_measured',pd.np.nanmax([mean_measured,0]))\n",
    "    leaf.add_feature('mean_measured',pd.Series([x.num_measured for x in leaf.get_leaves() ]).mean())\n",
    "    #leaf.add_feature('frac_measured',leaf.num_measured/leaf.all_leaves)\n",
    "    #leaf.line_width = 1+leaf.frac_measured/max_frac*4\n",
    "    leaf.add_feature('col_scale',pd.np.max([(pd.np.log10(leaf.mean_measured)/m*154+100),0]))\n",
    "    leaf.line_width = 1+leaf.col_scale/256*4\n",
    "    #leaf.line_width = 1 + pd.np.log10(leaf.num_measured+1)/m*4\n",
    "    \n",
    "    #line = leaf.name + ' ' + 'branch ' + mp.colors.to_hex(mg(int(leaf.frac_measured/max_frac*ncol)), keep_alpha=False) + ' normal '+str(int(leaf.line_width))+'\\n'\n",
    "    #line = leaf.name + ' ' + 'branch ' + mp.colors.to_hex(mg(int(pd.np.log10(leaf.num_measured+1)/m*256)), keep_alpha=False) + ' normal '+str(int(leaf.line_width))+'\\n'\n",
    "    #line = leaf.name + ' ' + 'branch ' + mp.colors.to_hex(mg(int(pd.np.log10(leaf.mean_measured+1)/m*256)), keep_alpha=False) + ' normal '+str(int(leaf.line_width))+'\\n'\n",
    "    line = leaf.name + ' ' + 'branch ' + mp.colors.to_hex(mg(int(leaf.col_scale)), keep_alpha=False) + ' normal '+str(int(leaf.line_width))+'\\n'\n",
    "    #line = leaf.name + ' ' + 'branch ' + mp.colors.to_hex(mg(int(leaf.mean_measured)), keep_alpha=False) + ' normal '+str(int(leaf.line_width))+'\\n'\n",
    "    lines.append(line)\n",
    "    #ns = NodeStyle()\n",
    "    #ns[\"fgcolor\"] = mp.colors.to_hex(mg(leaf.frac_measured*256), keep_alpha=False) \n",
    "    #print(ns['fgcolor'])\n",
    "    #leaf.img_style = ns"
   ]
  },
  {
   "cell_type": "code",
   "execution_count": 60,
   "metadata": {},
   "outputs": [
    {
     "data": {
      "text/plain": [
       "255.6842519232627"
      ]
     },
     "execution_count": 60,
     "metadata": {},
     "output_type": "execute_result"
    }
   ],
   "source": [
    "pd.np.max([x.col_scale for x in t.traverse()])"
   ]
  },
  {
   "cell_type": "code",
   "execution_count": 33,
   "metadata": {},
   "outputs": [],
   "source": [
    "#lines"
   ]
  },
  {
   "cell_type": "code",
   "execution_count": 70,
   "metadata": {},
   "outputs": [
    {
     "data": {
      "text/plain": [
       "'#892881'"
      ]
     },
     "execution_count": 70,
     "metadata": {},
     "output_type": "execute_result"
    }
   ],
   "source": [
    "[x for x in lines if 'gi|518331021|ref|WP_019501228.1| ' in x]\n",
    "[x for x in t.traverse() if x.name == 'RBCSeed_14'][0].col_scale\n",
    "mp.colors.to_hex(mg(int(100)), keep_alpha=False)"
   ]
  },
  {
   "cell_type": "code",
   "execution_count": 87,
   "metadata": {},
   "outputs": [
    {
     "data": {
      "text/plain": [
       "0.3333333333333333"
      ]
     },
     "execution_count": 87,
     "metadata": {},
     "output_type": "execute_result"
    }
   ],
   "source": [
    "n = [x for x in t.traverse() if x.name == 'Int492'][0]\n",
    "pd.Series([measurements.loc[x.name] for x in n.get_leaves() if x.name in measurements.index])\n",
    "n.mean_measured\n",
    "#[x.mean_measured for x in [x for x in t.traverse() if x.name == 'Int492'][0].get_leaves()]"
   ]
  },
  {
   "cell_type": "code",
   "execution_count": 53,
   "metadata": {},
   "outputs": [
    {
     "data": {
      "text/plain": [
       "2.1958996524092336"
      ]
     },
     "execution_count": 53,
     "metadata": {},
     "output_type": "execute_result"
    }
   ],
   "source": [
    "pd.np.log10([x for x in t.traverse() if x.name == 'gi|518331021|ref|WP_019501228.1|'][0].mean_measured)\n"
   ]
  },
  {
   "cell_type": "code",
   "execution_count": 257,
   "metadata": {},
   "outputs": [
    {
     "data": {
      "text/plain": [
       "[['PH2015_07_scaffold_0_448_PHAGE', 0],\n",
       " ['TARA_039.SAMEA2620106.270.0.1-0.22_4721_4', 0],\n",
       " ['TARA_042.SAMEA2620230.5.0.22-1.6_957446_9', 0],\n",
       " ['TARA_052.SAMEA2620542.5.0.22-1.6_2455572_5', 0],\n",
       " ['imgVR_3300012953_Ga0163179_10002555_5_PHAGE', 0],\n",
       " ['TARA_042.SAMEA2620230.5.0.22-1.6_61010_2', 0],\n",
       " ['TARA_009.SAMEA2619548.55.0.22-1.6_578978_3', 0],\n",
       " ['imgVR_3300000117_DelMOWin2010_c10001624_5_PHAGE', 0],\n",
       " ['TARA_048.SAMEA2620404.5.0.22-1.6_2468987_1', 0],\n",
       " ['TARA_039.SAMEA2620081.25.0.22-1.6_1488684_5', 0],\n",
       " ['imgVR_3300006484_Ga0070744_10000432_2_PHAGE', 0],\n",
       " ['imgVR_3300009164_Ga0114975_10000049_44_PHAGE', 0],\n",
       " ['imgVR_3300002835_B570J40625_100002082_7_PHAGE', 0],\n",
       " ['TARA_152.SAMEA2623919.25.0.22-3_2692249_4', 0],\n",
       " ['rifcsphigho2_12_scaffold_162_94_PHAGE', 0],\n",
       " ['imgVR_3300013093_Ga0164296_1006299_14_PHAGE', 0],\n",
       " ['imgVR_3300006129_Ga0007834_1000020_33_PHAGE', 0],\n",
       " ['imgVR_3300000439_TBL_comb48_EPIDRAFT_1000912_4_PHAGE', 0],\n",
       " ['imgVR_3300000553_TBL_comb47_HYPODRAFT_10006500_13_PHAGE', 0]]"
      ]
     },
     "execution_count": 257,
     "metadata": {},
     "output_type": "execute_result"
    }
   ],
   "source": [
    "#measurements.loc[[x.name for x in [x for x in t.traverse() if x.name == 'I85'][0].get_leaves()]]\n",
    "#mp.colors.to_hex(mg([x for x in t.traverse() if x.name == 'Int29'][0].frac_measured*256))\n",
    "mp.colors.to_hex(mg(pd.np.floor([x for x in t.traverse() if x.name == 'Int29'][0].frac_measured*256)))\n",
    "#mp.colors.to_hex(mg(3.65))\n",
    "#[x for x in t.traverse() if x.name == 'Int29'][0].frac_measured*256\n",
    "#mg(3.65)\n",
    "#mp.colors.to_hex(mg(int([x for x in t.traverse() if x.name == 'Int29'][0].frac_measured*256)))\n",
    "int([x for x in t.traverse() if x.name == 'gi|518331021|ref|WP_019501228.1|'][0].frac_measured/max_frac*256)\n",
    "l = [x for x in t.traverse() if x.name == 'Int11'][0]\n",
    "[[x.name,x.num_measured] for x in l.get_leaves()]\n"
   ]
  },
  {
   "cell_type": "code",
   "execution_count": null,
   "metadata": {},
   "outputs": [],
   "source": [
    "for leaf in t.traverse():\n",
    "    leaf.add_feature('frac_measured',sum([measurements.loc[x.name] for x in leaf.get_leaves() if x.name in measurements.index]))\n",
    "    line = leaf.name + ' ' + 'branch ' + mp.colors.to_hex(mg(leaf.frac_measured*256), keep_alpha=False) + ' normal ' + 5 +'\\n'\n",
    "    lines.append(line)\n",
    "#pd.Series([x.name for x in t.get_leaves()]).isin(uc2.ID)"
   ]
  },
  {
   "cell_type": "code",
   "execution_count": 88,
   "metadata": {},
   "outputs": [],
   "source": [
    "with open('../data/colors_styles_template.txt','r') as file:\n",
    "    with open('../output_itai/01_70p_tree/kinetic_branch_colors.txt', \"w\") as f1:\n",
    "        for row in file:\n",
    "            f1.write(row)\n",
    "        for line in lines:\n",
    "            f1.write(line)\n",
    "        file.close()\n",
    "        f1.close()"
   ]
  },
  {
   "cell_type": "code",
   "execution_count": null,
   "metadata": {},
   "outputs": [],
   "source": [
    "\n",
    "ts = TreeStyle()\n",
    "ts.mode = \"c\"\n",
    "ts.arc_start = -120 # 0 degrees = 3 o'clock\n",
    "ts.arc_span = 360\n",
    "t.show(tree_style=ts)\n"
   ]
  },
  {
   "cell_type": "code",
   "execution_count": 68,
   "metadata": {},
   "outputs": [
    {
     "data": {
      "text/plain": [
       "Tree node 'I0' (-0x7fffffe0654290af)"
      ]
     },
     "execution_count": 68,
     "metadata": {},
     "output_type": "execute_result"
    }
   ],
   "source": [
    "\n",
    "t"
   ]
  },
  {
   "cell_type": "code",
   "execution_count": 263,
   "metadata": {},
   "outputs": [],
   "source": [
    "t.write(format=1, outfile=\"../output_itai/01_70p_tree/new_tree.nw\")"
   ]
  },
  {
   "cell_type": "code",
   "execution_count": 34,
   "metadata": {},
   "outputs": [
    {
     "data": {
      "text/plain": [
       "[0.578048, 0.33152, 4.692736, 256.0]"
      ]
     },
     "execution_count": 34,
     "metadata": {},
     "output_type": "execute_result"
    }
   ],
   "source": [
    "mg = cm.get_cmap('magma',lut=1)\n",
    "#mg = cm.get_cmap('magma')\n",
    "[256*x for x in mg(1)]\n",
    "\n",
    "\n",
    "ns = NodeStyle()\n",
    "    ns[\"fgcolor\"] = colors[l.name]\n",
    "    l.img_style = ns"
   ]
  },
  {
   "cell_type": "code",
   "execution_count": 43,
   "metadata": {},
   "outputs": [
    {
     "ename": "NewickError",
     "evalue": "Unexpected newick format ':0.01204999099537009018[28]' \nYou may want to check other newick loading flags like 'format' or 'quoted_node_names'.",
     "output_type": "error",
     "traceback": [
      "\u001b[0;31m---------------------------------------------------------------------------\u001b[0m",
      "\u001b[0;31mNewickError\u001b[0m                               Traceback (most recent call last)",
      "\u001b[0;32m<ipython-input-43-b2e666462f1d>\u001b[0m in \u001b[0;36m<module>\u001b[0;34m\u001b[0m\n\u001b[0;32m----> 1\u001b[0;31m \u001b[0mt\u001b[0m \u001b[0;34m=\u001b[0m \u001b[0mTree\u001b[0m\u001b[0;34m(\u001b[0m\u001b[0;34m'/home/yinonbaron/Downloads/40nFYGu0DZaYY90hWZr4mA_newick.txt'\u001b[0m\u001b[0;34m,\u001b[0m\u001b[0mformat\u001b[0m\u001b[0;34m=\u001b[0m\u001b[0;36m2\u001b[0m\u001b[0;34m)\u001b[0m\u001b[0;34m\u001b[0m\u001b[0;34m\u001b[0m\u001b[0m\n\u001b[0m",
      "\u001b[0;32m/usr/local/lib/python3.7/dist-packages/ete3/coretype/tree.py\u001b[0m in \u001b[0;36m__init__\u001b[0;34m(self, newick, format, dist, support, name, quoted_node_names)\u001b[0m\n\u001b[1;32m    209\u001b[0m             \u001b[0mself\u001b[0m\u001b[0;34m.\u001b[0m\u001b[0m_dist\u001b[0m \u001b[0;34m=\u001b[0m \u001b[0;36m0.0\u001b[0m\u001b[0;34m\u001b[0m\u001b[0;34m\u001b[0m\u001b[0m\n\u001b[1;32m    210\u001b[0m             read_newick(newick, root_node = self, format=format,\n\u001b[0;32m--> 211\u001b[0;31m                         quoted_names=quoted_node_names)\n\u001b[0m\u001b[1;32m    212\u001b[0m \u001b[0;34m\u001b[0m\u001b[0m\n\u001b[1;32m    213\u001b[0m \u001b[0;34m\u001b[0m\u001b[0m\n",
      "\u001b[0;32m/usr/local/lib/python3.7/dist-packages/ete3/parser/newick.py\u001b[0m in \u001b[0;36mread_newick\u001b[0;34m(newick, root_node, format, quoted_names)\u001b[0m\n\u001b[1;32m    249\u001b[0m             \u001b[0;32mraise\u001b[0m \u001b[0mNewickError\u001b[0m\u001b[0;34m(\u001b[0m\u001b[0;34m'Unexisting tree file or Malformed newick tree structure.'\u001b[0m\u001b[0;34m)\u001b[0m\u001b[0;34m\u001b[0m\u001b[0;34m\u001b[0m\u001b[0m\n\u001b[1;32m    250\u001b[0m         \u001b[0;32melse\u001b[0m\u001b[0;34m:\u001b[0m\u001b[0;34m\u001b[0m\u001b[0;34m\u001b[0m\u001b[0m\n\u001b[0;32m--> 251\u001b[0;31m             \u001b[0;32mreturn\u001b[0m \u001b[0m_read_newick_from_string\u001b[0m\u001b[0;34m(\u001b[0m\u001b[0mnw\u001b[0m\u001b[0;34m,\u001b[0m \u001b[0mroot_node\u001b[0m\u001b[0;34m,\u001b[0m \u001b[0mmatcher\u001b[0m\u001b[0;34m,\u001b[0m \u001b[0mformat\u001b[0m\u001b[0;34m,\u001b[0m \u001b[0mquoted_names\u001b[0m\u001b[0;34m)\u001b[0m\u001b[0;34m\u001b[0m\u001b[0;34m\u001b[0m\u001b[0m\n\u001b[0m\u001b[1;32m    252\u001b[0m \u001b[0;34m\u001b[0m\u001b[0m\n\u001b[1;32m    253\u001b[0m     \u001b[0;32melse\u001b[0m\u001b[0;34m:\u001b[0m\u001b[0;34m\u001b[0m\u001b[0;34m\u001b[0m\u001b[0m\n",
      "\u001b[0;32m/usr/local/lib/python3.7/dist-packages/ete3/parser/newick.py\u001b[0m in \u001b[0;36m_read_newick_from_string\u001b[0;34m(nw, root_node, matcher, formatcode, quoted_names)\u001b[0m\n\u001b[1;32m    324\u001b[0m                     \u001b[0mclosing_internal\u001b[0m \u001b[0;34m=\u001b[0m  \u001b[0mclosing_internal\u001b[0m\u001b[0;34m.\u001b[0m\u001b[0mrstrip\u001b[0m\u001b[0;34m(\u001b[0m\u001b[0;34m\";\"\u001b[0m\u001b[0;34m)\u001b[0m\u001b[0;34m\u001b[0m\u001b[0;34m\u001b[0m\u001b[0m\n\u001b[1;32m    325\u001b[0m                     \u001b[0;31m# read internal node data and go up one level\u001b[0m\u001b[0;34m\u001b[0m\u001b[0;34m\u001b[0m\u001b[0;34m\u001b[0m\u001b[0m\n\u001b[0;32m--> 326\u001b[0;31m                     \u001b[0m_read_node_data\u001b[0m\u001b[0;34m(\u001b[0m\u001b[0mclosing_internal\u001b[0m\u001b[0;34m,\u001b[0m \u001b[0mcurrent_parent\u001b[0m\u001b[0;34m,\u001b[0m \u001b[0;34m\"internal\"\u001b[0m\u001b[0;34m,\u001b[0m \u001b[0mmatcher\u001b[0m\u001b[0;34m,\u001b[0m \u001b[0mformatcode\u001b[0m\u001b[0;34m)\u001b[0m\u001b[0;34m\u001b[0m\u001b[0;34m\u001b[0m\u001b[0m\n\u001b[0m\u001b[1;32m    327\u001b[0m                     \u001b[0mcurrent_parent\u001b[0m \u001b[0;34m=\u001b[0m \u001b[0mcurrent_parent\u001b[0m\u001b[0;34m.\u001b[0m\u001b[0mup\u001b[0m\u001b[0;34m\u001b[0m\u001b[0;34m\u001b[0m\u001b[0m\n\u001b[1;32m    328\u001b[0m \u001b[0;34m\u001b[0m\u001b[0m\n",
      "\u001b[0;32m/usr/local/lib/python3.7/dist-packages/ete3/parser/newick.py\u001b[0m in \u001b[0;36m_read_node_data\u001b[0;34m(subnw, current_node, node_type, matcher, formatcode)\u001b[0m\n\u001b[1;32m    428\u001b[0m             \u001b[0m_parse_extra_features\u001b[0m\u001b[0;34m(\u001b[0m\u001b[0mnode\u001b[0m\u001b[0;34m,\u001b[0m \u001b[0mdata\u001b[0m\u001b[0;34m[\u001b[0m\u001b[0;36m2\u001b[0m\u001b[0;34m]\u001b[0m\u001b[0;34m)\u001b[0m\u001b[0;34m\u001b[0m\u001b[0;34m\u001b[0m\u001b[0m\n\u001b[1;32m    429\u001b[0m     \u001b[0;32melse\u001b[0m\u001b[0;34m:\u001b[0m\u001b[0;34m\u001b[0m\u001b[0;34m\u001b[0m\u001b[0m\n\u001b[0;32m--> 430\u001b[0;31m         \u001b[0;32mraise\u001b[0m \u001b[0mNewickError\u001b[0m\u001b[0;34m(\u001b[0m\u001b[0;34m\"Unexpected newick format '%s' \"\u001b[0m \u001b[0;34m%\u001b[0m\u001b[0msubnw\u001b[0m\u001b[0;34m[\u001b[0m\u001b[0;36m0\u001b[0m\u001b[0;34m:\u001b[0m\u001b[0;36m50\u001b[0m\u001b[0;34m]\u001b[0m\u001b[0;34m)\u001b[0m\u001b[0;34m\u001b[0m\u001b[0;34m\u001b[0m\u001b[0m\n\u001b[0m\u001b[1;32m    431\u001b[0m     \u001b[0;32mreturn\u001b[0m\u001b[0;34m\u001b[0m\u001b[0;34m\u001b[0m\u001b[0m\n\u001b[1;32m    432\u001b[0m \u001b[0;34m\u001b[0m\u001b[0m\n",
      "\u001b[0;31mNewickError\u001b[0m: Unexpected newick format ':0.01204999099537009018[28]' \nYou may want to check other newick loading flags like 'format' or 'quoted_node_names'."
     ]
    }
   ],
   "source": [
    "t = Tree('/home/yinonbaron/Downloads/40nFYGu0DZaYY90hWZr4mA_newick.txt',format=2)"
   ]
  }
 ],
 "metadata": {
  "kernelspec": {
   "display_name": "Python 3",
   "language": "python",
   "name": "python3"
  },
  "language_info": {
   "codemirror_mode": {
    "name": "ipython",
    "version": 3
   },
   "file_extension": ".py",
   "mimetype": "text/x-python",
   "name": "python",
   "nbconvert_exporter": "python",
   "pygments_lexer": "ipython3",
   "version": "3.7.3"
  }
 },
 "nbformat": 4,
 "nbformat_minor": 2
}
