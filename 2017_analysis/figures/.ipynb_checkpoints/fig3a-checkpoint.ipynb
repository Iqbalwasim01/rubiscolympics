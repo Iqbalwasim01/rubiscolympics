{
 "cells": [
  {
   "cell_type": "code",
   "execution_count": 1,
   "metadata": {},
   "outputs": [],
   "source": [
    "import pandas as pd"
   ]
  },
  {
   "cell_type": "code",
   "execution_count": 2,
   "metadata": {},
   "outputs": [
    {
     "ename": "FileNotFoundError",
     "evalue": "[Errno 2] File b'../../../../../RO/3PG Coupled Assay/EPPS_Assays/agg_variant_data_42_83_20190609.csv' does not exist: b'../../../../../RO/3PG Coupled Assay/EPPS_Assays/agg_variant_data_42_83_20190609.csv'",
     "output_type": "error",
     "traceback": [
      "\u001b[0;31m---------------------------------------------------------------------------\u001b[0m",
      "\u001b[0;31mFileNotFoundError\u001b[0m                         Traceback (most recent call last)",
      "\u001b[0;32m<ipython-input-2-efe5533f0803>\u001b[0m in \u001b[0;36m<module>\u001b[0;34m\u001b[0m\n\u001b[0;32m----> 1\u001b[0;31m \u001b[0magg_d\u001b[0m \u001b[0;34m=\u001b[0m \u001b[0mpd\u001b[0m\u001b[0;34m.\u001b[0m\u001b[0mread_csv\u001b[0m\u001b[0;34m(\u001b[0m\u001b[0;34m'../../../../../RO/3PG Coupled Assay/EPPS_Assays/agg_variant_data_42_83_20190609.csv'\u001b[0m\u001b[0;34m)\u001b[0m\u001b[0;34m\u001b[0m\u001b[0;34m\u001b[0m\u001b[0m\n\u001b[0m\u001b[1;32m      2\u001b[0m \u001b[0muclust\u001b[0m \u001b[0;34m=\u001b[0m \u001b[0mpd\u001b[0m\u001b[0;34m.\u001b[0m\u001b[0mread_csv\u001b[0m\u001b[0;34m(\u001b[0m\u001b[0;34m'../output/00_100p_tree/uclust_all_1.csv'\u001b[0m\u001b[0;34m)\u001b[0m\u001b[0;34m\u001b[0m\u001b[0;34m\u001b[0m\u001b[0m\n\u001b[1;32m      3\u001b[0m \u001b[0muclust\u001b[0m\u001b[0;34m[\u001b[0m\u001b[0;34m'ID'\u001b[0m\u001b[0;34m]\u001b[0m \u001b[0;34m=\u001b[0m \u001b[0muclust\u001b[0m\u001b[0;34m[\u001b[0m\u001b[0;34m'Target'\u001b[0m\u001b[0;34m]\u001b[0m\u001b[0;34m.\u001b[0m\u001b[0mapply\u001b[0m\u001b[0;34m(\u001b[0m\u001b[0;32mlambda\u001b[0m \u001b[0mx\u001b[0m\u001b[0;34m:\u001b[0m \u001b[0mx\u001b[0m\u001b[0;34m.\u001b[0m\u001b[0msplit\u001b[0m\u001b[0;34m(\u001b[0m\u001b[0;34m' '\u001b[0m\u001b[0;34m)\u001b[0m\u001b[0;34m[\u001b[0m\u001b[0;36m0\u001b[0m\u001b[0;34m]\u001b[0m\u001b[0;34m)\u001b[0m\u001b[0;34m\u001b[0m\u001b[0;34m\u001b[0m\u001b[0m\n\u001b[1;32m      4\u001b[0m \u001b[0muclust\u001b[0m\u001b[0;34m[\u001b[0m\u001b[0;34m'QID'\u001b[0m\u001b[0;34m]\u001b[0m \u001b[0;34m=\u001b[0m \u001b[0muclust\u001b[0m\u001b[0;34m[\u001b[0m\u001b[0;34m'Query'\u001b[0m\u001b[0;34m]\u001b[0m\u001b[0;34m.\u001b[0m\u001b[0mapply\u001b[0m\u001b[0;34m(\u001b[0m\u001b[0;32mlambda\u001b[0m \u001b[0mx\u001b[0m\u001b[0;34m:\u001b[0m \u001b[0mx\u001b[0m\u001b[0;34m.\u001b[0m\u001b[0msplit\u001b[0m\u001b[0;34m(\u001b[0m\u001b[0;34m' '\u001b[0m\u001b[0;34m)\u001b[0m\u001b[0;34m[\u001b[0m\u001b[0;36m0\u001b[0m\u001b[0;34m]\u001b[0m\u001b[0;34m)\u001b[0m\u001b[0;34m\u001b[0m\u001b[0;34m\u001b[0m\u001b[0m\n\u001b[1;32m      5\u001b[0m \u001b[0mf\u001b[0m \u001b[0;34m=\u001b[0m \u001b[0muclust\u001b[0m\u001b[0;34m[\u001b[0m\u001b[0muclust\u001b[0m\u001b[0;34m.\u001b[0m\u001b[0mID\u001b[0m\u001b[0;34m.\u001b[0m\u001b[0misin\u001b[0m\u001b[0;34m(\u001b[0m\u001b[0magg_d\u001b[0m\u001b[0;34m.\u001b[0m\u001b[0mVariant\u001b[0m\u001b[0;34m)\u001b[0m\u001b[0;34m]\u001b[0m\u001b[0;34m\u001b[0m\u001b[0;34m\u001b[0m\u001b[0m\n",
      "\u001b[0;32m/usr/local/lib/python3.7/dist-packages/pandas/io/parsers.py\u001b[0m in \u001b[0;36mparser_f\u001b[0;34m(filepath_or_buffer, sep, delimiter, header, names, index_col, usecols, squeeze, prefix, mangle_dupe_cols, dtype, engine, converters, true_values, false_values, skipinitialspace, skiprows, skipfooter, nrows, na_values, keep_default_na, na_filter, verbose, skip_blank_lines, parse_dates, infer_datetime_format, keep_date_col, date_parser, dayfirst, iterator, chunksize, compression, thousands, decimal, lineterminator, quotechar, quoting, doublequote, escapechar, comment, encoding, dialect, tupleize_cols, error_bad_lines, warn_bad_lines, delim_whitespace, low_memory, memory_map, float_precision)\u001b[0m\n\u001b[1;32m    700\u001b[0m                     skip_blank_lines=skip_blank_lines)\n\u001b[1;32m    701\u001b[0m \u001b[0;34m\u001b[0m\u001b[0m\n\u001b[0;32m--> 702\u001b[0;31m         \u001b[0;32mreturn\u001b[0m \u001b[0m_read\u001b[0m\u001b[0;34m(\u001b[0m\u001b[0mfilepath_or_buffer\u001b[0m\u001b[0;34m,\u001b[0m \u001b[0mkwds\u001b[0m\u001b[0;34m)\u001b[0m\u001b[0;34m\u001b[0m\u001b[0;34m\u001b[0m\u001b[0m\n\u001b[0m\u001b[1;32m    703\u001b[0m \u001b[0;34m\u001b[0m\u001b[0m\n\u001b[1;32m    704\u001b[0m     \u001b[0mparser_f\u001b[0m\u001b[0;34m.\u001b[0m\u001b[0m__name__\u001b[0m \u001b[0;34m=\u001b[0m \u001b[0mname\u001b[0m\u001b[0;34m\u001b[0m\u001b[0;34m\u001b[0m\u001b[0m\n",
      "\u001b[0;32m/usr/local/lib/python3.7/dist-packages/pandas/io/parsers.py\u001b[0m in \u001b[0;36m_read\u001b[0;34m(filepath_or_buffer, kwds)\u001b[0m\n\u001b[1;32m    427\u001b[0m \u001b[0;34m\u001b[0m\u001b[0m\n\u001b[1;32m    428\u001b[0m     \u001b[0;31m# Create the parser.\u001b[0m\u001b[0;34m\u001b[0m\u001b[0;34m\u001b[0m\u001b[0;34m\u001b[0m\u001b[0m\n\u001b[0;32m--> 429\u001b[0;31m     \u001b[0mparser\u001b[0m \u001b[0;34m=\u001b[0m \u001b[0mTextFileReader\u001b[0m\u001b[0;34m(\u001b[0m\u001b[0mfilepath_or_buffer\u001b[0m\u001b[0;34m,\u001b[0m \u001b[0;34m**\u001b[0m\u001b[0mkwds\u001b[0m\u001b[0;34m)\u001b[0m\u001b[0;34m\u001b[0m\u001b[0;34m\u001b[0m\u001b[0m\n\u001b[0m\u001b[1;32m    430\u001b[0m \u001b[0;34m\u001b[0m\u001b[0m\n\u001b[1;32m    431\u001b[0m     \u001b[0;32mif\u001b[0m \u001b[0mchunksize\u001b[0m \u001b[0;32mor\u001b[0m \u001b[0miterator\u001b[0m\u001b[0;34m:\u001b[0m\u001b[0;34m\u001b[0m\u001b[0;34m\u001b[0m\u001b[0m\n",
      "\u001b[0;32m/usr/local/lib/python3.7/dist-packages/pandas/io/parsers.py\u001b[0m in \u001b[0;36m__init__\u001b[0;34m(self, f, engine, **kwds)\u001b[0m\n\u001b[1;32m    893\u001b[0m             \u001b[0mself\u001b[0m\u001b[0;34m.\u001b[0m\u001b[0moptions\u001b[0m\u001b[0;34m[\u001b[0m\u001b[0;34m'has_index_names'\u001b[0m\u001b[0;34m]\u001b[0m \u001b[0;34m=\u001b[0m \u001b[0mkwds\u001b[0m\u001b[0;34m[\u001b[0m\u001b[0;34m'has_index_names'\u001b[0m\u001b[0;34m]\u001b[0m\u001b[0;34m\u001b[0m\u001b[0;34m\u001b[0m\u001b[0m\n\u001b[1;32m    894\u001b[0m \u001b[0;34m\u001b[0m\u001b[0m\n\u001b[0;32m--> 895\u001b[0;31m         \u001b[0mself\u001b[0m\u001b[0;34m.\u001b[0m\u001b[0m_make_engine\u001b[0m\u001b[0;34m(\u001b[0m\u001b[0mself\u001b[0m\u001b[0;34m.\u001b[0m\u001b[0mengine\u001b[0m\u001b[0;34m)\u001b[0m\u001b[0;34m\u001b[0m\u001b[0;34m\u001b[0m\u001b[0m\n\u001b[0m\u001b[1;32m    896\u001b[0m \u001b[0;34m\u001b[0m\u001b[0m\n\u001b[1;32m    897\u001b[0m     \u001b[0;32mdef\u001b[0m \u001b[0mclose\u001b[0m\u001b[0;34m(\u001b[0m\u001b[0mself\u001b[0m\u001b[0;34m)\u001b[0m\u001b[0;34m:\u001b[0m\u001b[0;34m\u001b[0m\u001b[0;34m\u001b[0m\u001b[0m\n",
      "\u001b[0;32m/usr/local/lib/python3.7/dist-packages/pandas/io/parsers.py\u001b[0m in \u001b[0;36m_make_engine\u001b[0;34m(self, engine)\u001b[0m\n\u001b[1;32m   1120\u001b[0m     \u001b[0;32mdef\u001b[0m \u001b[0m_make_engine\u001b[0m\u001b[0;34m(\u001b[0m\u001b[0mself\u001b[0m\u001b[0;34m,\u001b[0m \u001b[0mengine\u001b[0m\u001b[0;34m=\u001b[0m\u001b[0;34m'c'\u001b[0m\u001b[0;34m)\u001b[0m\u001b[0;34m:\u001b[0m\u001b[0;34m\u001b[0m\u001b[0;34m\u001b[0m\u001b[0m\n\u001b[1;32m   1121\u001b[0m         \u001b[0;32mif\u001b[0m \u001b[0mengine\u001b[0m \u001b[0;34m==\u001b[0m \u001b[0;34m'c'\u001b[0m\u001b[0;34m:\u001b[0m\u001b[0;34m\u001b[0m\u001b[0;34m\u001b[0m\u001b[0m\n\u001b[0;32m-> 1122\u001b[0;31m             \u001b[0mself\u001b[0m\u001b[0;34m.\u001b[0m\u001b[0m_engine\u001b[0m \u001b[0;34m=\u001b[0m \u001b[0mCParserWrapper\u001b[0m\u001b[0;34m(\u001b[0m\u001b[0mself\u001b[0m\u001b[0;34m.\u001b[0m\u001b[0mf\u001b[0m\u001b[0;34m,\u001b[0m \u001b[0;34m**\u001b[0m\u001b[0mself\u001b[0m\u001b[0;34m.\u001b[0m\u001b[0moptions\u001b[0m\u001b[0;34m)\u001b[0m\u001b[0;34m\u001b[0m\u001b[0;34m\u001b[0m\u001b[0m\n\u001b[0m\u001b[1;32m   1123\u001b[0m         \u001b[0;32melse\u001b[0m\u001b[0;34m:\u001b[0m\u001b[0;34m\u001b[0m\u001b[0;34m\u001b[0m\u001b[0m\n\u001b[1;32m   1124\u001b[0m             \u001b[0;32mif\u001b[0m \u001b[0mengine\u001b[0m \u001b[0;34m==\u001b[0m \u001b[0;34m'python'\u001b[0m\u001b[0;34m:\u001b[0m\u001b[0;34m\u001b[0m\u001b[0;34m\u001b[0m\u001b[0m\n",
      "\u001b[0;32m/usr/local/lib/python3.7/dist-packages/pandas/io/parsers.py\u001b[0m in \u001b[0;36m__init__\u001b[0;34m(self, src, **kwds)\u001b[0m\n\u001b[1;32m   1851\u001b[0m         \u001b[0mkwds\u001b[0m\u001b[0;34m[\u001b[0m\u001b[0;34m'usecols'\u001b[0m\u001b[0;34m]\u001b[0m \u001b[0;34m=\u001b[0m \u001b[0mself\u001b[0m\u001b[0;34m.\u001b[0m\u001b[0musecols\u001b[0m\u001b[0;34m\u001b[0m\u001b[0;34m\u001b[0m\u001b[0m\n\u001b[1;32m   1852\u001b[0m \u001b[0;34m\u001b[0m\u001b[0m\n\u001b[0;32m-> 1853\u001b[0;31m         \u001b[0mself\u001b[0m\u001b[0;34m.\u001b[0m\u001b[0m_reader\u001b[0m \u001b[0;34m=\u001b[0m \u001b[0mparsers\u001b[0m\u001b[0;34m.\u001b[0m\u001b[0mTextReader\u001b[0m\u001b[0;34m(\u001b[0m\u001b[0msrc\u001b[0m\u001b[0;34m,\u001b[0m \u001b[0;34m**\u001b[0m\u001b[0mkwds\u001b[0m\u001b[0;34m)\u001b[0m\u001b[0;34m\u001b[0m\u001b[0;34m\u001b[0m\u001b[0m\n\u001b[0m\u001b[1;32m   1854\u001b[0m         \u001b[0mself\u001b[0m\u001b[0;34m.\u001b[0m\u001b[0munnamed_cols\u001b[0m \u001b[0;34m=\u001b[0m \u001b[0mself\u001b[0m\u001b[0;34m.\u001b[0m\u001b[0m_reader\u001b[0m\u001b[0;34m.\u001b[0m\u001b[0munnamed_cols\u001b[0m\u001b[0;34m\u001b[0m\u001b[0;34m\u001b[0m\u001b[0m\n\u001b[1;32m   1855\u001b[0m \u001b[0;34m\u001b[0m\u001b[0m\n",
      "\u001b[0;32mpandas/_libs/parsers.pyx\u001b[0m in \u001b[0;36mpandas._libs.parsers.TextReader.__cinit__\u001b[0;34m()\u001b[0m\n",
      "\u001b[0;32mpandas/_libs/parsers.pyx\u001b[0m in \u001b[0;36mpandas._libs.parsers.TextReader._setup_parser_source\u001b[0;34m()\u001b[0m\n",
      "\u001b[0;31mFileNotFoundError\u001b[0m: [Errno 2] File b'../../../../../RO/3PG Coupled Assay/EPPS_Assays/agg_variant_data_42_83_20190609.csv' does not exist: b'../../../../../RO/3PG Coupled Assay/EPPS_Assays/agg_variant_data_42_83_20190609.csv'"
     ]
    }
   ],
   "source": [
    "agg_d = pd.read_csv('../../../../../RO/3PG Coupled Assay/EPPS_Assays/agg_variant_data_42_83_20190609.csv')\n",
    "uclust = pd.read_csv('../output/00_100p_tree/uclust_all_1.csv')\n",
    "uclust['ID'] = uclust['Target'].apply(lambda x: x.split(' ')[0])\n",
    "uclust['QID'] = uclust['Query'].apply(lambda x: x.split(' ')[0])\n",
    "f = uclust[uclust.ID.isin(agg_d.Variant)]\n",
    "f.set_index('ID',inplace=True)\n",
    "k =f[f.Query.str.contains(\"\\[\")].Query.apply(lambda x: x.split(\"[\")[1])\n",
    "k[~k.str.contains('EC:')] = k[~k.str.contains('EC:')].apply(lambda x: x.split(']')[0])\n",
    "k[k.str.contains('EC:')] = k[k.str.contains('EC:')].apply(lambda x: x.split('species=')[1]).apply(lambda x: x.split(' genus=')[0])\n",
    "k2 = k.reset_index().drop_duplicates()\n",
    "k3 = k2[k2.Query.str.contains(' ')]\n",
    "\n",
    "fu = pd.DataFrame(f.reset_index()['ID'].drop_duplicates())\n",
    "c2 = agg_d.merge(fu,left_on='Variant',right_on='ID',how='left')\n",
    "missing = c2[c2.ID.isna()].Variant\n",
    "f2 =uclust[uclust.QID.isin(missing)]\n",
    "f2['V'] = f2.QID\n",
    "f3 = uclust.merge(f2,left_on='Target',right_on='Target',suffixes=['','_y'])\n",
    "f3.set_index('V',inplace=True)\n",
    "km = f3[f3.Query.str.contains('\\[')].Query.apply(lambda x: x.split(\"[\")[1]).apply(lambda x: x.split(']')[0])\n",
    "km2 = km[~km.str.contains('sp.')].reset_index().groupby('V').first().reset_index()\n",
    "km2.columns = ['ID','Query']\n",
    "k_merge = pd.concat([k3,km2])\n",
    "\n",
    "\n",
    "agg_d = agg_d.merge(k_merge,left_on = 'Variant', right_on='ID',how='left')\n",
    "agg_d.loc[agg_d.Query.str.len() > 32,'Query'] = agg_d[agg_d.Query.str.len() > 32].Query.apply(lambda x: ' '.join(x.split(' ')[:2]))\n",
    "g = uclust.set_index('QID')\n",
    "w = g.loc[agg_d[agg_d.Query.isna()].Variant]\n",
    "w.dropna(inplace=True)\n",
    "agg_d.loc[agg_d.Variant.isin(w[w.Query.str.contains('TARA')].ID),'Query'] = 'Tara metagenome'\n",
    "agg_d.loc[agg_d.Variant.isin(w[~w.Query.str.contains('TARA')].ID),'Query'] = 'Unknown organism'\n",
    "agg_d.loc[agg_d.Variant == 'Rr','Query'] = 'Rhodospirillum rubrum'\n",
    "agg_d.loc[agg_d.Variant == 'RBC_20','Query'] = agg_d[agg_d.Variant == 'Rr'].Query.values\n",
    "agg_d.loc[agg_d.Variant == 'Rr[D117V]','Query'] = agg_d[agg_d.Variant == 'Rr'].Query.values + 'Rr[D117V] mutant'\n",
    "agg_d.loc[agg_d.Variant == 'AfM_O','Query'] = agg_d[agg_d.Variant == 'AfM'].Query.values\n",
    "#f[f.Query.str.contains(\"\\[\")].Query.values\n",
    "#fig = plt.figure(figsize=(5,20))\n",
    "\n",
    "data = pd.read_csv('../../../git/milo_lab/rubiscolympics/output/01_70p_tree/uclust_all_0.7.csv')\n",
    "type_data = pd.read_csv('../../../git/milo_lab/rubiscolympics/output/01_70p_tree/rubisco_types_70p.csv')\n",
    "data['ID'] = data.Target.apply(lambda x: x.split(' ')[0])\n",
    "uc2 = data.merge(type_data,left_on='ID',right_on='ID')\n",
    "\n",
    "t0= uclust[uclust.QID.isin(agg_d.Variant)][['Target','QID']].drop_duplicates()\n",
    "t = t0.merge(uc2, left_on='Target', right_on='Query')\n",
    "agg_d = agg_d.merge(t[['QID','type']],left_on='Variant',right_on='QID',how='left')\n",
    "agg_d.loc[agg_d.Variant == 'RBC_20','type'] = agg_d[agg_d.Variant == 'Rr'].type.values\n",
    "agg_d.loc[agg_d.Variant == 'Rr[D117V]','type'] = agg_d[agg_d.Variant == 'Rr'].type.values\n",
    "agg_d.loc[agg_d.Variant == 'AfM_O','type'] = agg_d[agg_d.Variant == 'AfM'].type.values\n",
    "\n",
    "colors = {'I': '#55a362','II': '#E74C3C', 'II/III': '#AF7AC5','unknown':'#3498DB','IIIb':'#3498DB'}\n",
    "#agg_d['color'] = [colors[x] for x in agg_d.type.values]\n",
    "\n",
    "agg_d.loc[~agg_d['mean relative to Rr'].isna(),'index'] = pd.np.arange(len(agg_d[~agg_d['mean relative to Rr'].isna()]))\n",
    "ax = agg_d.plot.scatter(x='index',y='mean relative to Rr',yerr='relative to Rr sem',color='k',rot=90,figsize=[20,4])\n",
    "#agg_d.plot.scatter(x='index',y='mean relative to Rr',color=agg_d['color'],rot=90,figsize=[20,4],ax=ax)\n",
    "plt.hlines(y=3.3*(2**0.5),xmin=-1,xmax=103,linestyles='--',color='#8c8c8c')\n",
    "plt.hlines(y=10,xmin=-1,xmax=103,linestyles='--',color='#8c8c8c')\n",
    "plt.text(80,3.3*(2**0.5)+0.5,'plant rubisco')\n",
    "plt.text(80,10.5,'10 s$^{-1}$')\n",
    "ax.set_ylabel('catalytic rate [s$^{-1}$]')\n",
    "ax.set_xlabel('rubisco variants')\n",
    "ax.set_xticks(pd.np.arange(len(agg_d[~agg_d['mean relative to Rr'].isna()])))\n",
    "ax.set_xlim([-0.5,90.5])\n",
    "ax.set_xticklabels(agg_d.Query)\n",
    "#plt.savefig('error_bar_relRr_20190609.pdf')\n",
    "#plt.savefig('error_bar_relRr_20190609_org.svg')\n",
    "#plt.savefig('error_bar_relRr_20190609_org.png',dpi=300)\n"
   ]
  }
 ],
 "metadata": {
  "kernelspec": {
   "display_name": "Python 3",
   "language": "python",
   "name": "python3"
  },
  "language_info": {
   "codemirror_mode": {
    "name": "ipython",
    "version": 3
   },
   "file_extension": ".py",
   "mimetype": "text/x-python",
   "name": "python",
   "nbconvert_exporter": "python",
   "pygments_lexer": "ipython3",
   "version": "3.7.3"
  }
 },
 "nbformat": 4,
 "nbformat_minor": 2
}
