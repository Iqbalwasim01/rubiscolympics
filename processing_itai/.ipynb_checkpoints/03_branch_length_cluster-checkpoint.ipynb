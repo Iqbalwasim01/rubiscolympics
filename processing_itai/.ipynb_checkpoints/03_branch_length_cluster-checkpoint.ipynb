{
 "cells": [
  {
   "cell_type": "code",
   "execution_count": 1,
   "metadata": {},
   "outputs": [],
   "source": [
    "import pandas as pd\n",
    "from Bio import SeqIO, AlignIO, Seq\n",
    "import numpy as np\n",
    "from collections import Counter\n",
    "from helper import *\n",
    "import python_cipres.client as CipresClient\n",
    "from ete3 import Tree, TreeStyle"
   ]
  },
  {
   "cell_type": "code",
   "execution_count": 2,
   "metadata": {},
   "outputs": [],
   "source": [
    "def check_avg_length(node,th=0.4):\n",
    "    desc_length = np.mean([x.tot_dist for x in node.get_leaves()]) - node.tot_dist\n",
    "    if desc_length < th:\n",
    "        return True\n",
    "    else:\n",
    "        return False\n",
    "\n",
    "def collapse_tree(node,th=0.4):\n",
    "    global cluster_id\n",
    "    cluster_list = pd.DataFrame([],columns=['leaf_id','cluster_id'])\n",
    "    if check_avg_length(node,th):\n",
    "        cluster_list = pd.DataFrame([[x.name, cluster_id] for x in node.get_leaves()],columns=['leaf_id','cluster_id'])\n",
    "        cluster_id = cluster_id + 1\n",
    "    else:\n",
    "        for child in node.get_children():\n",
    "            #print(child.name)\n",
    "            desc_list = collapse_tree(child,th)\n",
    "            cluster_list = pd.concat([cluster_list,desc_list])\n",
    "    return cluster_list"
   ]
  },
  {
   "cell_type": "code",
   "execution_count": 7,
   "metadata": {},
   "outputs": [
    {
     "data": {
      "text/plain": [
       "type\n",
       "1-Prok          97\n",
       "1A-Prok        103\n",
       "1B-Euk         136\n",
       "1B-Prok         19\n",
       "1C-Prok        124\n",
       "1D-Euk          77\n",
       "II             174\n",
       "II/III          52\n",
       "III-like        66\n",
       "IIIa            66\n",
       "IIIc            36\n",
       "IV-outgroup      1\n",
       "unknown         58\n",
       "Name: Target_90, dtype: int64"
      ]
     },
     "execution_count": 7,
     "metadata": {},
     "output_type": "execute_result"
    }
   ],
   "source": [
    "type1_sub = pd.read_csv('../output/02_90p_autotrophic_rubisco_tree/rubisco_type1_subtypes.csv')\n",
    "auto_90p = pd.read_csv('../output/02_90p_autotrophic_rubisco_tree/auto_uclust_all_0.9_no_outliers_with_type.csv')\n",
    "auto_90p['ID_90'] = auto_90p.Target_90.apply(lambda x: x.split(' ')[0])\n",
    "auto_90p_with_type = auto_90p.merge(type1_sub,left_on='ID_90',right_on='Label',how='outer')\n",
    "auto_90p_with_type.loc[auto_90p_with_type.type =='I','type'] = auto_90p_with_type.loc[auto_90p_with_type.type =='I','subtype'] + '-' + auto_90p_with_type.loc[auto_90p_with_type.type =='I','domain']\n",
    "auto_90p_with_type.loc[auto_90p_with_type.type.isna(),'type'] = 'unknown'\n",
    "auto_90p_with_type.groupby(['type'])['Target_90'].nunique()"
   ]
  },
  {
   "cell_type": "code",
   "execution_count": 8,
   "metadata": {},
   "outputs": [],
   "source": [
    "t = Tree('../output/02_90p_autotrophic_rubisco_tree/RaxML/RAxML_bipartitions.result',format=2)\n",
    "#t.set_outgroup(t.get_leaves_by_name(auto_90p_with_type.loc[auto_90p_with_type['type'] == 'IV-outgroup','Target_y'].values[0])[0])\n",
    "t.set_outgroup(t.get_leaves_by_name('gi|1129860231|gb|OLS27808.1|')[0])\n",
    "\n",
    "for leaf in t.traverse():\n",
    "    leaf.add_feature('tot_dist',np.array([x.dist for x in leaf.get_ancestors()]).sum()+leaf.dist)"
   ]
  },
  {
   "cell_type": "code",
   "execution_count": 60,
   "metadata": {},
   "outputs": [
    {
     "data": {
      "text/plain": [
       "type\n",
       "1-Prok         20\n",
       "1A-Prok         9\n",
       "1B-Euk          1\n",
       "1B-Prok         5\n",
       "1C-Prok         8\n",
       "1D-Euk          1\n",
       "II             23\n",
       "II/III          6\n",
       "III-like       11\n",
       "IIIa           31\n",
       "IIIc           19\n",
       "IV-outgroup     1\n",
       "unknown        39\n",
       "Name: cluster_id, dtype: int64"
      ]
     },
     "execution_count": 60,
     "metadata": {},
     "output_type": "execute_result"
    }
   ],
   "source": [
    "global cluster_id\n",
    "cluster_id = 0\n",
    "collapsed_nodes = collapse_tree(t,0.4)\n",
    "collapsed_auto_90p = auto_90p_with_type.merge(collapsed_nodes,left_on='ID_90',right_on='leaf_id')\n",
    "collapsed_auto_90p.groupby('type')['cluster_id'].nunique()\n",
    "#collapsed_auto_90p.groupby('cluster_id')['type'].nunique().sort_values(ascending=False)\n",
    "#collapsed_auto_90p[collapsed_auto_90p.cluster_id==7][['subtype','domain']].drop_duplicates()\n",
    "collapsed_auto_90p.groupby('type')['cluster_id'].nunique()"
   ]
  },
  {
   "cell_type": "code",
   "execution_count": 49,
   "metadata": {},
   "outputs": [
    {
     "data": {
      "text/plain": [
       "cluster_id\n",
       "0      1\n",
       "111    1\n",
       "112    1\n",
       "113    1\n",
       "114    1\n",
       "115    1\n",
       "116    1\n",
       "117    1\n",
       "118    1\n",
       "119    1\n",
       "120    1\n",
       "121    1\n",
       "122    1\n",
       "123    1\n",
       "124    1\n",
       "125    1\n",
       "126    1\n",
       "127    1\n",
       "110    1\n",
       "109    1\n",
       "108    1\n",
       "107    1\n",
       "89     1\n",
       "90     1\n",
       "91     1\n",
       "92     1\n",
       "93     1\n",
       "94     1\n",
       "95     1\n",
       "96     1\n",
       "      ..\n",
       "79     1\n",
       "80     1\n",
       "81     1\n",
       "82     1\n",
       "83     1\n",
       "84     1\n",
       "76     1\n",
       "43     1\n",
       "65     1\n",
       "63     1\n",
       "45     1\n",
       "46     1\n",
       "47     1\n",
       "48     1\n",
       "49     1\n",
       "50     1\n",
       "51     1\n",
       "52     1\n",
       "64     1\n",
       "53     1\n",
       "55     1\n",
       "56     1\n",
       "57     1\n",
       "58     1\n",
       "59     1\n",
       "60     1\n",
       "61     1\n",
       "62     1\n",
       "54     1\n",
       "173    1\n",
       "Name: type, Length: 174, dtype: int64"
      ]
     },
     "execution_count": 49,
     "metadata": {},
     "output_type": "execute_result"
    }
   ],
   "source": [
    "collapsed_auto_90p.groupby('cluster_id')['type'].nunique().sort_values()\n",
    "#sum(collapsed_auto_90p['ID_90'].str.startswith('RBC'))\n",
    "#collapsed_auto_90p.groupby('cluster_id')['type'].unique().loc[35]"
   ]
  },
  {
   "cell_type": "code",
   "execution_count": 61,
   "metadata": {},
   "outputs": [],
   "source": [
    "collapsed_nodes['synth'] = collapsed_nodes['leaf_id'].str.startswith('RBC')\n",
    "prune_list = []\n",
    "for x in collapsed_nodes.groupby('cluster_id'):\n",
    "    x2 = x[1]\n",
    "    x3 = x2[x2['synth']==True]\n",
    "    if len(x3)>0:\n",
    "        prune_list.append(x3.iloc[0].leaf_id)\n",
    "        collapsed_nodes.loc[collapsed_nodes.cluster_id==x[0],'Centroid'] = x3.iloc[0].leaf_id\n",
    "        collapsed_auto_90p.loc[collapsed_auto_90p.cluster_id==x[0],'Centroid'] = x3.iloc[0].leaf_id\n",
    "    else:\n",
    "        prune_list.append(x2.iloc[0].leaf_id)\n",
    "        collapsed_nodes.loc[collapsed_nodes.cluster_id==x[0],'Centroid'] = x2.iloc[0].leaf_id\n",
    "        collapsed_auto_90p.loc[collapsed_auto_90p.cluster_id==x[0],'Centroid'] = x2.iloc[0].leaf_id"
   ]
  },
  {
   "cell_type": "code",
   "execution_count": 31,
   "metadata": {},
   "outputs": [
    {
     "name": "stdout",
     "output_type": "stream",
     "text": [
      "Number of leaf nodes:\t174\n",
      "Total number of nodes:\t347\n",
      "Rooted:\tYes\n",
      "Most distant node:\tRBC_41\n",
      "Max. distance:\t4.900135\n"
     ]
    }
   ],
   "source": [
    "t_pruned = t.copy()\n",
    "t_pruned.prune(prune_list,preserve_branch_length=True)\n",
    "t_pruned.describe()"
   ]
  },
  {
   "cell_type": "code",
   "execution_count": 32,
   "metadata": {},
   "outputs": [],
   "source": [
    "!mkdir -p ../output/03_branch_length_cluster\n",
    "t_pruned.write(features=[],outfile='../output/03_branch_length_cluster/pruned_tree0.4.nwk')"
   ]
  },
  {
   "cell_type": "code",
   "execution_count": 62,
   "metadata": {},
   "outputs": [],
   "source": [
    "type_labels = pd.read_csv('../output/00_100p_tree/uclust_all_1_rubisco_types.csv')\n",
    "collapsed_auto_90p = collapsed_auto_90p.merge(type_labels,left_on='Query',right_on='ID')\n",
    "\n",
    "\n",
    "labeled_leaves = collapsed_auto_90p[~pd.isna(collapsed_auto_90p['type_y'])]\n",
    "color_map = {'I': '#28B463',\n",
    "             'II': '#E74C3C',\n",
    "             'II/III':'#AF7AC5',\n",
    "             'IIIa':'#AED6F1',\n",
    "             'IIIb':'#3498DB',\n",
    "             'IIIc':'#1F618D',\n",
    "             'IIIlike':'#5D6D7E',\n",
    "             'IV':'#F4D03F',\n",
    "             'IVlike':'#F8C471',\n",
    "             'IV-outgroup':'#F8C471',\n",
    "             'unknown':'#F442D4'}\n",
    "lines = labeled_leaves['Centroid'].apply(lambda x: x.split(' ')[0]).values +[',label,node,'+color_map[x]+',1,normal\\n' for x in labeled_leaves['type_y'].values]\n",
    "lines = set(lines)\n",
    "with open('../data/itol_legend_template.txt','r') as file:\n",
    "    with open('../output/03_branch_length_cluster/type_legend.txt', \"w\") as f1:\n",
    "        for row in file:\n",
    "            f1.write(row)\n",
    "        for line in lines:\n",
    "            f1.write(line)\n",
    "        file.close()\n",
    "        f1.close()\n"
   ]
  },
  {
   "cell_type": "code",
   "execution_count": 63,
   "metadata": {},
   "outputs": [],
   "source": [
    "kinetic_data = pd.read_csv('../output/00_100p_tree/uclust_all_1_kinetic_data.csv',names=['kinetic_ID'])\n",
    "synth_data = pd.read_csv('../output/00_100p_tree/synth_data.csv',names=['syn_ID'])\n",
    "\n",
    "collapsed_auto_90p = collapsed_auto_90p.merge(kinetic_data, left_on='Query', right_on='kinetic_ID',how='left')\n",
    "collapsed_auto_90p = collapsed_auto_90p.merge(synth_data, left_on='Query', right_on='syn_ID',how='left')\n",
    "\n",
    "collapsed_auto_90p['kinetic_flag'] = '-1'\n",
    "collapsed_auto_90p['syn_flag'] = '-1'\n",
    "\n",
    "kinetic_centroid = collapsed_auto_90p.loc[~pd.isna(collapsed_auto_90p['kinetic_ID']),'Centroid'].unique()\n",
    "syn_centroid = collapsed_auto_90p.loc[~pd.isna(collapsed_auto_90p['syn_ID']),'Centroid'].unique()\n",
    "collapsed_auto_90p.loc[collapsed_auto_90p['Centroid'].isin(kinetic_centroid),'kinetic_flag'] = '1'\n",
    "collapsed_auto_90p.loc[collapsed_auto_90p['Centroid'].isin(syn_centroid),'syn_flag'] = '1'\n",
    "\n",
    "lines = collapsed_auto_90p['Centroid'].apply(lambda x: x.split(' ')[0]).values + ','+ collapsed_auto_90p['kinetic_flag'].values+','+collapsed_auto_90p['syn_flag'].values+'\\n'\n",
    "\n",
    "unique_lines = np.unique(lines)\n",
    "with open('../data/kinetic_sampling_legend.txt','r') as file:\n",
    "    with open('../output/03_branch_length_cluster/kinetic_legend.txt', \"w\") as f1:\n",
    "        for row in file:\n",
    "            f1.write(row)\n",
    "        for line in lines:\n",
    "            f1.write(line)\n",
    "        file.close()\n",
    "        f1.close()\n"
   ]
  },
  {
   "cell_type": "code",
   "execution_count": 59,
   "metadata": {},
   "outputs": [
    {
     "data": {
      "text/plain": [
       "array(['CG08_land_8_20_14_0.20_scaffold_141789_1,-1,-1\\n',\n",
       "       'RBC4_13,-1,1\\n', 'RBC4_21,-1,-1\\n', 'RBC4_44,-1,1\\n',\n",
       "       'RBC4_64,-1,1\\n', 'RBC4_73,-1,1\\n', 'RBC4_78,-1,1\\n',\n",
       "       'RBC4_80,-1,-1\\n', 'RBCSeed_15,-1,1\\n', 'RBCSeed_26,-1,1\\n',\n",
       "       'RBCSeed_6,1,-1\\n', 'RBC_37,-1,1\\n', 'RBC_40,-1,-1\\n',\n",
       "       'RBC_50,-1,1\\n',\n",
       "       'RIFCSPHIGHO2_12_FULL_OD1_42_14_rifcsphigho2_12_scaffold_6219_7,-1,-1\\n',\n",
       "       'TARA_039.SAMEA2620106.270.0.1-0.22_774_36,-1,-1\\n',\n",
       "       'UBA1441contig_19953_11,-1,-1\\n', 'UBA4787contig_1245_80,-1,-1\\n',\n",
       "       'UBA93contig_1572_78,-1,-1\\n', 'UBA96contig_21807_17,-1,-1\\n',\n",
       "       'gi|1055384797|ref|WP_067047979.1|,-1,-1\\n',\n",
       "       'gi|1064178053|gb|ODU74715.1|,-1,-1\\n',\n",
       "       'gi|1123468913|ref|WP_074200547.1|,-1,-1\\n',\n",
       "       'gi|1166655052|gb|OPY25448.1|,-1,-1\\n',\n",
       "       'gi|1227051083|gb|ASQ40399.1|,-1,-1\\n',\n",
       "       'gi|1247297171|gb|PCH62093.1|,-1,-1\\n',\n",
       "       'gi|1277101442|gb|PIR05832.1|,-1,-1\\n',\n",
       "       'gi|1278357258|gb|PIY97215.1|,-1,-1\\n',\n",
       "       'gi|1278699910|gb|PJC01515.1|,-1,-1\\n',\n",
       "       'gi|1286999358|dbj|GBD45030.1|,-1,-1\\n',\n",
       "       'gi|1308750508|gb|PKN02430.1|,-1,-1\\n',\n",
       "       'gi|1393879121|ref|WP_109969713.1|,-1,-1\\n',\n",
       "       'gi|1427935047|ref|WP_113703782.1|,-1,-1\\n',\n",
       "       'gi|1572539336|emb|VDD88659.1|,-1,-1\\n',\n",
       "       'gi|1572539448|emb|VDD88765.1|,-1,-1\\n',\n",
       "       'gi|1572539540|emb|VDD88835.1|,-1,-1\\n',\n",
       "       'gi|1572539678|emb|VDD88941.1|,-1,-1\\n',\n",
       "       'gi|1572539694|emb|VDD88949.1|,-1,-1\\n',\n",
       "       'gi|1572539965|emb|VDD88994.1|,-1,-1\\n',\n",
       "       'gi|1572540049|emb|VDD89062.1|,-1,-1\\n',\n",
       "       'gi|1572540081|emb|VDD89089.1|,-1,-1\\n',\n",
       "       'gi|1572540265|emb|VDD89220.1|,-1,-1\\n',\n",
       "       'gi|1572540269|emb|VDD89222.1|,-1,-1\\n',\n",
       "       'gi|1572540283|emb|VDD89235.1|,-1,-1\\n',\n",
       "       'gi|1572540309|emb|VDD89255.1|,-1,-1\\n',\n",
       "       'gi|1572541005|emb|VDS11129.1|,-1,-1\\n',\n",
       "       'gi|1580464864|gb|TAK72457.1|,-1,-1\\n',\n",
       "       'gi|335335195|gb|AEH40973.1|,-1,-1\\n',\n",
       "       'gi|494101929|ref|WP_007042721.1|,-1,-1\\n',\n",
       "       'gi|500302457|ref|WP_011925328.1|,-1,-1\\n',\n",
       "       'gi|666689788|gb|AIG21866.1|,-1,-1\\n',\n",
       "       'gi|737551854|ref|WP_035524651.1|,-1,-1\\n',\n",
       "       'gi|75427925|sp|Q02518.1|RBL_SYNSP,-1,-1\\n',\n",
       "       'gi|764526242|ref|WP_044406641.1|,-1,-1\\n',\n",
       "       'gwa2_scaffold_913_23,-1,-1\\n', 'gwc2_scaffold_9210_4,-1,-1\\n',\n",
       "       'gwe1_scaffold_5288_7,-1,-1\\n', 'gwf2_scaffold_10625_13,-1,-1\\n',\n",
       "       'img_2698597071_3,-1,-1\\n',\n",
       "       'mol321605030446_1_Gottesmanbacteria,-1,-1\\n',\n",
       "       'ncbi_AWOG01000022.1_5,-1,-1\\n',\n",
       "       'rifcsphigho2_01_scaffold_387592_2,-1,-1\\n',\n",
       "       'rifoxyb1_full_scaffold_633_14,-1,-1\\n'], dtype=object)"
      ]
     },
     "execution_count": 59,
     "metadata": {},
     "output_type": "execute_result"
    }
   ],
   "source": [
    "unique_lines"
   ]
  },
  {
   "cell_type": "code",
   "execution_count": 117,
   "metadata": {},
   "outputs": [
    {
     "ename": "AttributeError",
     "evalue": "'float' object has no attribute 'split'",
     "output_type": "error",
     "traceback": [
      "\u001b[0;31m---------------------------------------------------------------------------\u001b[0m",
      "\u001b[0;31mAttributeError\u001b[0m                            Traceback (most recent call last)",
      "\u001b[0;32m<ipython-input-117-4960c2cdccdc>\u001b[0m in \u001b[0;36m<module>\u001b[0;34m()\u001b[0m\n\u001b[1;32m     18\u001b[0m \u001b[0muclust_data\u001b[0m\u001b[0;34m.\u001b[0m\u001b[0mloc\u001b[0m\u001b[0;34m[\u001b[0m\u001b[0muclust_data\u001b[0m\u001b[0;34m[\u001b[0m\u001b[0;34m'Centroid'\u001b[0m\u001b[0;34m]\u001b[0m\u001b[0;34m.\u001b[0m\u001b[0misin\u001b[0m\u001b[0;34m(\u001b[0m\u001b[0msyn_centroid\u001b[0m\u001b[0;34m)\u001b[0m\u001b[0;34m,\u001b[0m\u001b[0;34m'syn_flag'\u001b[0m\u001b[0;34m]\u001b[0m \u001b[0;34m=\u001b[0m \u001b[0;34m'1'\u001b[0m\u001b[0;34m\u001b[0m\u001b[0;34m\u001b[0m\u001b[0m\n\u001b[1;32m     19\u001b[0m \u001b[0;34m\u001b[0m\u001b[0m\n\u001b[0;32m---> 20\u001b[0;31m \u001b[0mlines\u001b[0m \u001b[0;34m=\u001b[0m \u001b[0muclust_data\u001b[0m\u001b[0;34m[\u001b[0m\u001b[0;34m'Centroid'\u001b[0m\u001b[0;34m]\u001b[0m\u001b[0;34m.\u001b[0m\u001b[0mapply\u001b[0m\u001b[0;34m(\u001b[0m\u001b[0;32mlambda\u001b[0m \u001b[0mx\u001b[0m\u001b[0;34m:\u001b[0m \u001b[0mx\u001b[0m\u001b[0;34m.\u001b[0m\u001b[0msplit\u001b[0m\u001b[0;34m(\u001b[0m\u001b[0;34m' '\u001b[0m\u001b[0;34m)\u001b[0m\u001b[0;34m[\u001b[0m\u001b[0;36m0\u001b[0m\u001b[0;34m]\u001b[0m\u001b[0;34m)\u001b[0m\u001b[0;34m.\u001b[0m\u001b[0mvalues\u001b[0m \u001b[0;34m+\u001b[0m \u001b[0;34m','\u001b[0m\u001b[0;34m+\u001b[0m \u001b[0muclust_data\u001b[0m\u001b[0;34m[\u001b[0m\u001b[0;34m'kinetic_flag'\u001b[0m\u001b[0;34m]\u001b[0m\u001b[0;34m.\u001b[0m\u001b[0mvalues\u001b[0m\u001b[0;34m+\u001b[0m\u001b[0;34m','\u001b[0m\u001b[0;34m+\u001b[0m\u001b[0muclust_data\u001b[0m\u001b[0;34m[\u001b[0m\u001b[0;34m'syn_flag'\u001b[0m\u001b[0;34m]\u001b[0m\u001b[0;34m.\u001b[0m\u001b[0mvalues\u001b[0m\u001b[0;34m+\u001b[0m\u001b[0;34m'\\n'\u001b[0m\u001b[0;34m\u001b[0m\u001b[0;34m\u001b[0m\u001b[0m\n\u001b[0m\u001b[1;32m     21\u001b[0m \u001b[0;34m\u001b[0m\u001b[0m\n\u001b[1;32m     22\u001b[0m \u001b[0munique_lines\u001b[0m \u001b[0;34m=\u001b[0m \u001b[0mnp\u001b[0m\u001b[0;34m.\u001b[0m\u001b[0munique\u001b[0m\u001b[0;34m(\u001b[0m\u001b[0mlines\u001b[0m\u001b[0;34m)\u001b[0m\u001b[0;34m\u001b[0m\u001b[0;34m\u001b[0m\u001b[0m\n",
      "\u001b[0;32m/usr/local/lib/python3.7/dist-packages/pandas/core/series.py\u001b[0m in \u001b[0;36mapply\u001b[0;34m(self, func, convert_dtype, args, **kwds)\u001b[0m\n\u001b[1;32m   3589\u001b[0m             \u001b[0;32melse\u001b[0m\u001b[0;34m:\u001b[0m\u001b[0;34m\u001b[0m\u001b[0;34m\u001b[0m\u001b[0m\n\u001b[1;32m   3590\u001b[0m                 \u001b[0mvalues\u001b[0m \u001b[0;34m=\u001b[0m \u001b[0mself\u001b[0m\u001b[0;34m.\u001b[0m\u001b[0mastype\u001b[0m\u001b[0;34m(\u001b[0m\u001b[0mobject\u001b[0m\u001b[0;34m)\u001b[0m\u001b[0;34m.\u001b[0m\u001b[0mvalues\u001b[0m\u001b[0;34m\u001b[0m\u001b[0;34m\u001b[0m\u001b[0m\n\u001b[0;32m-> 3591\u001b[0;31m                 \u001b[0mmapped\u001b[0m \u001b[0;34m=\u001b[0m \u001b[0mlib\u001b[0m\u001b[0;34m.\u001b[0m\u001b[0mmap_infer\u001b[0m\u001b[0;34m(\u001b[0m\u001b[0mvalues\u001b[0m\u001b[0;34m,\u001b[0m \u001b[0mf\u001b[0m\u001b[0;34m,\u001b[0m \u001b[0mconvert\u001b[0m\u001b[0;34m=\u001b[0m\u001b[0mconvert_dtype\u001b[0m\u001b[0;34m)\u001b[0m\u001b[0;34m\u001b[0m\u001b[0;34m\u001b[0m\u001b[0m\n\u001b[0m\u001b[1;32m   3592\u001b[0m \u001b[0;34m\u001b[0m\u001b[0m\n\u001b[1;32m   3593\u001b[0m         \u001b[0;32mif\u001b[0m \u001b[0mlen\u001b[0m\u001b[0;34m(\u001b[0m\u001b[0mmapped\u001b[0m\u001b[0;34m)\u001b[0m \u001b[0;32mand\u001b[0m \u001b[0misinstance\u001b[0m\u001b[0;34m(\u001b[0m\u001b[0mmapped\u001b[0m\u001b[0;34m[\u001b[0m\u001b[0;36m0\u001b[0m\u001b[0;34m]\u001b[0m\u001b[0;34m,\u001b[0m \u001b[0mSeries\u001b[0m\u001b[0;34m)\u001b[0m\u001b[0;34m:\u001b[0m\u001b[0;34m\u001b[0m\u001b[0;34m\u001b[0m\u001b[0m\n",
      "\u001b[0;32mpandas/_libs/lib.pyx\u001b[0m in \u001b[0;36mpandas._libs.lib.map_infer\u001b[0;34m()\u001b[0m\n",
      "\u001b[0;32m<ipython-input-117-4960c2cdccdc>\u001b[0m in \u001b[0;36m<lambda>\u001b[0;34m(x)\u001b[0m\n\u001b[1;32m     18\u001b[0m \u001b[0muclust_data\u001b[0m\u001b[0;34m.\u001b[0m\u001b[0mloc\u001b[0m\u001b[0;34m[\u001b[0m\u001b[0muclust_data\u001b[0m\u001b[0;34m[\u001b[0m\u001b[0;34m'Centroid'\u001b[0m\u001b[0;34m]\u001b[0m\u001b[0;34m.\u001b[0m\u001b[0misin\u001b[0m\u001b[0;34m(\u001b[0m\u001b[0msyn_centroid\u001b[0m\u001b[0;34m)\u001b[0m\u001b[0;34m,\u001b[0m\u001b[0;34m'syn_flag'\u001b[0m\u001b[0;34m]\u001b[0m \u001b[0;34m=\u001b[0m \u001b[0;34m'1'\u001b[0m\u001b[0;34m\u001b[0m\u001b[0;34m\u001b[0m\u001b[0m\n\u001b[1;32m     19\u001b[0m \u001b[0;34m\u001b[0m\u001b[0m\n\u001b[0;32m---> 20\u001b[0;31m \u001b[0mlines\u001b[0m \u001b[0;34m=\u001b[0m \u001b[0muclust_data\u001b[0m\u001b[0;34m[\u001b[0m\u001b[0;34m'Centroid'\u001b[0m\u001b[0;34m]\u001b[0m\u001b[0;34m.\u001b[0m\u001b[0mapply\u001b[0m\u001b[0;34m(\u001b[0m\u001b[0;32mlambda\u001b[0m \u001b[0mx\u001b[0m\u001b[0;34m:\u001b[0m \u001b[0mx\u001b[0m\u001b[0;34m.\u001b[0m\u001b[0msplit\u001b[0m\u001b[0;34m(\u001b[0m\u001b[0;34m' '\u001b[0m\u001b[0;34m)\u001b[0m\u001b[0;34m[\u001b[0m\u001b[0;36m0\u001b[0m\u001b[0;34m]\u001b[0m\u001b[0;34m)\u001b[0m\u001b[0;34m.\u001b[0m\u001b[0mvalues\u001b[0m \u001b[0;34m+\u001b[0m \u001b[0;34m','\u001b[0m\u001b[0;34m+\u001b[0m \u001b[0muclust_data\u001b[0m\u001b[0;34m[\u001b[0m\u001b[0;34m'kinetic_flag'\u001b[0m\u001b[0;34m]\u001b[0m\u001b[0;34m.\u001b[0m\u001b[0mvalues\u001b[0m\u001b[0;34m+\u001b[0m\u001b[0;34m','\u001b[0m\u001b[0;34m+\u001b[0m\u001b[0muclust_data\u001b[0m\u001b[0;34m[\u001b[0m\u001b[0;34m'syn_flag'\u001b[0m\u001b[0;34m]\u001b[0m\u001b[0;34m.\u001b[0m\u001b[0mvalues\u001b[0m\u001b[0;34m+\u001b[0m\u001b[0;34m'\\n'\u001b[0m\u001b[0;34m\u001b[0m\u001b[0;34m\u001b[0m\u001b[0m\n\u001b[0m\u001b[1;32m     21\u001b[0m \u001b[0;34m\u001b[0m\u001b[0m\n\u001b[1;32m     22\u001b[0m \u001b[0munique_lines\u001b[0m \u001b[0;34m=\u001b[0m \u001b[0mnp\u001b[0m\u001b[0;34m.\u001b[0m\u001b[0munique\u001b[0m\u001b[0;34m(\u001b[0m\u001b[0mlines\u001b[0m\u001b[0;34m)\u001b[0m\u001b[0;34m\u001b[0m\u001b[0;34m\u001b[0m\u001b[0m\n",
      "\u001b[0;31mAttributeError\u001b[0m: 'float' object has no attribute 'split'"
     ]
    }
   ],
   "source": [
    "kinetic_data = pd.DataFrame([x.description for x in SeqIO.parse('../data/flamholz_et_al_2019_kinetically_characterized.faa', \"fasta\")],columns=['kinetic_ID'])\n",
    "uclust_data = pd.read_csv('../output/02_90p_autotrophic_rubisco_tree/auto_uclust_all_0.9.csv')\n",
    "uclust_data = uclust_data[uclust_data['Type'] !='S']\n",
    "uclust_data.loc[uclust_data['Target'] == '*','Target'] = uclust_data.loc[uclust_data['Target'] == '*','Query']\n",
    "uclust_data['cut Target'] = uclust_data.Target.apply(lambda x: x.split(' ')[0])\n",
    "uclust_data = uclust_data.merge(kinetic_data, left_on='Query', right_on='kinetic_ID',how='left')\n",
    "uclust_data = uclust_data.merge(collapsed_nodes, left_on='cut Target', right_on='leaf_id',how='left')\n",
    "\n",
    "synth_data = pd.DataFrame([x.description for x in SeqIO.parse('../data/milo_synthetized_rubisco.faa', \"fasta\")],columns=['syn_ID'])\n",
    "uclust_data = uclust_data.merge(synth_data, left_on='Query', right_on='syn_ID',how='left')\n",
    "\n",
    "uclust_data['kinetic_flag'] = '-1'\n",
    "uclust_data['syn_flag'] = '-1'\n",
    "\n",
    "kinetic_centroid = uclust_data.loc[~pd.isna(uclust_data['kinetic_ID']),'Centroid'].unique()\n",
    "syn_centroid = uclust_data.loc[~pd.isna(uclust_data['syn_ID']),'Centroid'].unique()\n",
    "uclust_data.loc[uclust_data['Centroid'].isin(kinetic_centroid),'kinetic_flag'] = '1'\n",
    "uclust_data.loc[uclust_data['Centroid'].isin(syn_centroid),'syn_flag'] = '1'\n",
    "\n",
    "lines = uclust_data['Centroid'].apply(lambda x: x.split(' ')[0]).values + ','+ uclust_data['kinetic_flag'].values+','+uclust_data['syn_flag'].values+'\\n'\n",
    "\n",
    "unique_lines = np.unique(lines)"
   ]
  },
  {
   "cell_type": "code",
   "execution_count": 98,
   "metadata": {},
   "outputs": [],
   "source": [
    "with open('../data/kinetic_sampling_legend.txt','r') as file:\n",
    "    with open('../output/03_branch_length_cluster/kinetic_legend.txt', \"w\") as f1:\n",
    "        for row in file:\n",
    "            f1.write(row)\n",
    "        for line in unique_lines:\n",
    "            f1.write(line)\n",
    "        file.close()\n",
    "        f1.close()"
   ]
  },
  {
   "cell_type": "code",
   "execution_count": 20,
   "metadata": {},
   "outputs": [],
   "source": [
    "type_data = pd.read_csv('../data/jaffe_et_al_2018_rubisco_types.csv')\n",
    "uclust_data = uclust_data.merge(type_data, left_on='Query', right_on='ID',how='left')\n",
    "type_centroids = uclust_data.loc[~pd.isna(uclust_data['type']),['Centroid','type']]\n",
    "uclust_data = uclust_data.merge(type_centroids,left_on='Centroid',right_on='Centroid')"
   ]
  },
  {
   "cell_type": "code",
   "execution_count": 21,
   "metadata": {},
   "outputs": [],
   "source": [
    "color_map = {'I': '#28B463',\n",
    "             'II': '#E74C3C',\n",
    "             'II/III':'#AF7AC5',\n",
    "             'IIIa':'#AED6F1',\n",
    "             'IIIb':'#3498DB',\n",
    "             'IIIc':'#1F618D',\n",
    "             'IIIlike':'#5D6D7E',\n",
    "             'IV':'#F4D03F',\n",
    "             'IVlike':'#F8C471',\n",
    "             'unknown':'#F442D4'}\n",
    "lines = uclust_data['Centroid'].apply(lambda x: x.split(' ')[0]).values +[',label,node,'+color_map[x]+',1,normal\\n' for x in uclust_data['type_y'].values]\n",
    "lines = set(lines)\n",
    "with open('../data/itol_legend_template.txt','r') as file:\n",
    "    with open('../output/03_branch_length_cluster/type_legend.txt', \"w\") as f1:\n",
    "        for row in file:\n",
    "            f1.write(row)\n",
    "        for line in lines:\n",
    "            f1.write(line)\n",
    "        file.close()\n",
    "        f1.close()"
   ]
  },
  {
   "cell_type": "code",
   "execution_count": 99,
   "metadata": {},
   "outputs": [
    {
     "data": {
      "text/plain": [
       "array(['II/III', 'II', 'I-prok', 'III-like', 'I-euk', 'IIIa', 'IIIc',\n",
       "       'IV-outgroup'], dtype=object)"
      ]
     },
     "execution_count": 99,
     "metadata": {},
     "output_type": "execute_result"
    }
   ],
   "source": [
    "pruned_type = auto_rub90.loc[auto_rub90['cut Target90'].isin(prune_list),['Centroid','type']]\n",
    "pruned_type.loc[pruned_type['type'].isin(['1b','1d']),'type'] = 'I-euk'\n",
    "pruned_type.loc[(pruned_type['type']!='I-euk') & (pruned_type['type'].str.startswith('1')),'type'] = 'I-prok'\n",
    "pruned_type.type.unique()"
   ]
  },
  {
   "cell_type": "code",
   "execution_count": 100,
   "metadata": {},
   "outputs": [],
   "source": [
    "\n",
    "\n",
    "color_map = {'I-prok': '#bdff5b',\n",
    "             'I-euk': '#28B463',\n",
    "             'II': '#E74C3C',\n",
    "             'II/III':'#AF7AC5',\n",
    "             'IIIa':'#AED6F1',\n",
    "             'IIIb':'#3498DB',\n",
    "             'IIIc':'#1F618D',\n",
    "             'III-like':'#5D6D7E',\n",
    "             'IV-outgroup':'#F4D03F',\n",
    "             'IVlike':'#F8C471',\n",
    "             'unknown':'#F442D4'}\n",
    "lines = pruned_type['Centroid'].apply(lambda x: x.split(' ')[0]).values +[',label,node,'+color_map[x]+',1,normal\\n' for x in pruned_type['type'].values]\n",
    "lines = set(lines)\n",
    "with open('../data/itol_legend_template.txt','r') as file:\n",
    "    with open('../output/03_branch_length_cluster/type_legend.txt', \"w\") as f1:\n",
    "        for row in file:\n",
    "            f1.write(row)\n",
    "        for line in lines:\n",
    "            f1.write(line)\n",
    "        file.close()\n",
    "        f1.close()"
   ]
  }
 ],
 "metadata": {
  "kernelspec": {
   "display_name": "Python 3",
   "language": "python",
   "name": "python3"
  },
  "language_info": {
   "codemirror_mode": {
    "name": "ipython",
    "version": 3
   },
   "file_extension": ".py",
   "mimetype": "text/x-python",
   "name": "python",
   "nbconvert_exporter": "python",
   "pygments_lexer": "ipython3",
   "version": "3.7.3"
  }
 },
 "nbformat": 4,
 "nbformat_minor": 2
}
