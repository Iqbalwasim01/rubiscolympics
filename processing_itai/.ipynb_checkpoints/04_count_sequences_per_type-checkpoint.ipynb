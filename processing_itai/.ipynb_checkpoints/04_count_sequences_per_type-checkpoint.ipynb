{
 "cells": [
  {
   "cell_type": "code",
   "execution_count": 1,
   "metadata": {},
   "outputs": [],
   "source": [
    "import pandas as pd\n",
    "from Bio import SeqIO, AlignIO, Seq\n",
    "import numpy as np\n",
    "from collections import Counter\n",
    "from helper import *"
   ]
  },
  {
   "cell_type": "code",
   "execution_count": 10,
   "metadata": {},
   "outputs": [
    {
     "name": "stdout",
     "output_type": "stream",
     "text": [
      "usearch v11.0.667_i86linux32, 4.0Gb RAM (16.3Gb total), 8 cores\n",
      "(C) Copyright 2013-18 Robert C. Edgar, all rights reserved.\n",
      "https://drive5.com/usearch\n",
      "\n",
      "License: yinonmoise.baron@weizmann.ac.il\n",
      "\n",
      "00:00 71Mb    100.0% Reading ../output/02_90p_autotrophic_rubisco_tree/autotrophic_rubisco_seq.faa\n",
      "00:00 110Mb   100.0% DF\n",
      "00:00 111Mb  46286 seqs, 45446 uniques, 44938 singletons (98.9%)\n",
      "00:00 111Mb  Min size 1, median 1, max 48, avg 1.02\n",
      "00:00 118Mb   100.0% DB\n",
      "01:49 271Mb   100.0% 33027 clusters, max size 71, avg 1.4\n",
      "                                                         \n",
      "      Seqs  45446 (45.4k)\n",
      "  Clusters  33027 (33.0k)\n",
      "  Max size  71\n",
      "  Avg size  1.4\n",
      "  Min size  1\n",
      "Singletons  26197 (26.2k), 57.6% of seqs, 79.3% of clusters\n",
      "   Max mem  271Mb\n",
      "      Time  01:50\n",
      "Throughput  413.1 seqs/sec.\n",
      "\n"
     ]
    }
   ],
   "source": [
    "! mkdir -p ../output/04_count_sequences_per_type\n",
    "!../bin/usearch11.0.667_i86linux32 -cluster_fast ../output/02_90p_autotrophic_rubisco_tree/autotrophic_rubisco_seq.faa -id 1 -uc ../output/../output/04_count_sequences_per_type/auto_uclust_all_1.uc"
   ]
  },
  {
   "cell_type": "code",
   "execution_count": 11,
   "metadata": {},
   "outputs": [],
   "source": [
    "parse_uclust(infile='../output/04_count_sequences_per_type/auto_uclust_all_1.uc',\n",
    "             fasta='../output/02_90p_autotrophic_rubisco_tree/autotrophic_rubisco_seq.faa',\n",
    "             outfasta='../output/04_count_sequences_per_type/auto_uclust_all_1.faa',\n",
    "             outfile='../output/04_count_sequences_per_type/auto_uclust_all_1.csv'\n",
    "            )"
   ]
  },
  {
   "cell_type": "code",
   "execution_count": 22,
   "metadata": {},
   "outputs": [
    {
     "data": {
      "text/plain": [
       "type\n",
       "I           32405\n",
       "II            336\n",
       "II/III         77\n",
       "III-like      112\n",
       "IIIa           56\n",
       "IIIc           41\n",
       "Name: Target, dtype: int64"
      ]
     },
     "execution_count": 22,
     "metadata": {},
     "output_type": "execute_result"
    }
   ],
   "source": [
    "auto_70p = pd.read_csv('../output/02_90p_autotrophic_rubisco_tree/uclust_all_0.7_with_type.csv')\n",
    "auto_70p\n",
    "auto_nr = pd.read_csv('../output/04_count_sequences_per_type/auto_uclust_all_1.csv')\n",
    "auto_nr = auto_nr[auto_nr['Type'] !='S']\n",
    "auto_nr.loc[auto_nr['Target'] == '*','Target'] = auto_nr.loc[auto_nr['Target'] == '*','Query']\n",
    "e = auto_nr.merge(auto_70p[['Query','type']])\n",
    "#auto_70p\n",
    "e.groupby('type')['Target'].nunique()"
   ]
  }
 ],
 "metadata": {
  "kernelspec": {
   "display_name": "Python 3",
   "language": "python",
   "name": "python3"
  },
  "language_info": {
   "codemirror_mode": {
    "name": "ipython",
    "version": 3
   },
   "file_extension": ".py",
   "mimetype": "text/x-python",
   "name": "python",
   "nbconvert_exporter": "python",
   "pygments_lexer": "ipython3",
   "version": "3.6.7"
  }
 },
 "nbformat": 4,
 "nbformat_minor": 2
}
