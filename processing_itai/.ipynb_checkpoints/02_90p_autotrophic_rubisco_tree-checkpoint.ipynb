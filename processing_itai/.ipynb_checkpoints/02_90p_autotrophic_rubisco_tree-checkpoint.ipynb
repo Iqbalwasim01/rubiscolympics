{
 "cells": [
  {
   "cell_type": "code",
   "execution_count": 1,
   "metadata": {},
   "outputs": [],
   "source": [
    "import pandas as pd\n",
    "from Bio import SeqIO, AlignIO, Seq\n",
    "import numpy as np\n",
    "from collections import Counter\n",
    "from helper import *\n",
    "import python_cipres.client as CipresClient"
   ]
  },
  {
   "cell_type": "markdown",
   "metadata": {},
   "source": [
    "### Extract fasta sequences for the autotrophic rubiscos\n",
    "Before running this code we need to generate a file called `autotrophic_rubisco_70p.csv` by selecting in ITOL clades that belong to Rubisco types 1,2,2/3,3a,3c,3-like,3b and IV. We replaced sapces in the sequence ID to `_` to match the sequence ID in the fasta files. We take only sequences which are not type IV or type III-b as autotrophic."
   ]
  },
  {
   "cell_type": "code",
   "execution_count": 2,
   "metadata": {},
   "outputs": [],
   "source": [
    "uclust_data = pd.read_csv('../output/01_70p_tree/uclust_all_0.7.csv')\n",
    "uclust_data = uclust_data[uclust_data['Type'] !='S']\n",
    "uclust_data.loc[uclust_data['Target'] == '*','Target'] = uclust_data.loc[uclust_data['Target'] == '*','Query']\n",
    "uclust_data['cut Target'] = uclust_data.Target.apply(lambda x: x.split(' ')[0])\n",
    "#auto_id = [x.replace('\\n','') for x in open('../output/01_70p_tree/autotrophic_rubisco_70p.txt').readlines() if x != '\\n']\n",
    "rubisco_types = pd.read_csv('../output/01_70p_tree/rubisco_types_70p.csv')\n",
    "autotrophic_70p = rubisco_types[~rubisco_types['type'].isin(['IV','IIIb'])]\n",
    "auto_rubisco = uclust_data.merge(autotrophic_70p, left_on='cut Target', right_on='ID')\n",
    "autotrophic_rubisco  = auto_rubisco['Query'].values\n",
    "\n",
    "auto_seq = []\n",
    "for record in SeqIO.parse('../output/00_100p_tree/uclust_all_1.faa', \"fasta\"):\n",
    "    if record.description in autotrophic_rubisco:\n",
    "        auto_seq.append(record)\n",
    "!mkdir -p ../output/02_90p_autotrophic_rubisco_tree\n",
    "with open(r\"../output/02_90p_autotrophic_rubisco_tree/autotrophic_rubisco_seq.faa\", \"w\") as output_handle:\n",
    "    SeqIO.write(auto_seq, output_handle, \"fasta\")"
   ]
  },
  {
   "cell_type": "code",
   "execution_count": 3,
   "metadata": {},
   "outputs": [
    {
     "data": {
      "text/plain": [
       "type\n",
       "I           36258\n",
       "II            326\n",
       "II/III         51\n",
       "III-like       99\n",
       "IIIa           95\n",
       "IIIc           35\n",
       "unknown        23\n",
       "Name: Query, dtype: int64"
      ]
     },
     "execution_count": 3,
     "metadata": {},
     "output_type": "execute_result"
    }
   ],
   "source": [
    "auto_rubisco.to_csv('../output/02_90p_autotrophic_rubisco_tree/uclust_all_0.7_with_type.csv')\n",
    "auto_rubisco.groupby('type')['Query'].nunique()"
   ]
  },
  {
   "cell_type": "markdown",
   "metadata": {},
   "source": [
    "### Cluster sequences using uclust"
   ]
  },
  {
   "cell_type": "code",
   "execution_count": 4,
   "metadata": {},
   "outputs": [
    {
     "name": "stdout",
     "output_type": "stream",
     "text": [
      "usearch v11.0.667_i86linux32, 4.0Gb RAM (16.3Gb total), 8 cores\n",
      "(C) Copyright 2013-18 Robert C. Edgar, all rights reserved.\n",
      "https://drive5.com/usearch\n",
      "\n",
      "License: yinonmoise.baron@weizmann.ac.il\n",
      "\n",
      "00:00 64Mb    100.0% Reading ../output/02_90p_autotrophic_rubisco_tree/autotrophic_rubisco_seq.faa\n",
      "00:00 102Mb   100.0% DF\n",
      "00:00 102Mb  36887 seqs, 36887 uniques, 36887 singletons (100.0%)\n",
      "00:00 102Mb  Min size 1, median 1, max 1, avg 1.00\n",
      "00:00 108Mb   100.0% DB\n",
      "00:02 167Mb   100.0% 922 clusters, max size 6959, avg 40.0\n",
      "                                                          \n",
      "      Seqs  36887 (36.9k)\n",
      "  Clusters  922\n",
      "  Max size  6959\n",
      "  Avg size  40.0\n",
      "  Min size  1\n",
      "Singletons  451, 1.2% of seqs, 48.9% of clusters\n",
      "   Max mem  167Mb\n",
      "      Time  2.00s\n",
      "Throughput  18.4k seqs/sec.\n",
      "\n"
     ]
    }
   ],
   "source": [
    "!../bin/usearch11.0.667_i86linux32 -cluster_fast ../output/02_90p_autotrophic_rubisco_tree/autotrophic_rubisco_seq.faa -id 0.9 -uc ../output/02_90p_autotrophic_rubisco_tree/auto_uclust_all_0.9.uc"
   ]
  },
  {
   "cell_type": "markdown",
   "metadata": {},
   "source": [
    "### Take only cluster fasta files and create csv file"
   ]
  },
  {
   "cell_type": "code",
   "execution_count": 5,
   "metadata": {},
   "outputs": [],
   "source": [
    "parse_uclust(infile='../output/02_90p_autotrophic_rubisco_tree/auto_uclust_all_0.9.uc',\n",
    "             fasta='../output/02_90p_autotrophic_rubisco_tree/autotrophic_rubisco_seq.faa',\n",
    "             outfasta='../output/02_90p_autotrophic_rubisco_tree/auto_uclust_all_0.9.faa',\n",
    "             outfile='../output/02_90p_autotrophic_rubisco_tree/auto_uclust_all_0.9.csv'\n",
    "            )"
   ]
  },
  {
   "cell_type": "code",
   "execution_count": 20,
   "metadata": {},
   "outputs": [
    {
     "data": {
      "text/plain": [
       "gi|1271033739|gb|PHT54990.1|        0.450505\n",
       "gi|1142664385|gb|ONM23707.1|        0.305732\n",
       "gi|327365904|gb|AEA52294.1|         0.471396\n",
       "gi|1271174125|gb|PHT97483.1|        0.353604\n",
       "gi|33384245|gb|AAO49753.1|          0.359477\n",
       "gi|1271204734|gb|PHU19935.1|        0.320628\n",
       "gi|734330786|gb|KHN06855.1|         0.211246\n",
       "gi|1270991417|gb|PHT34511.1|        0.354212\n",
       "gi|976902695|gb|KVH90633.1|         0.000000\n",
       "gi|1102146264|gb|OIT02594.1|        0.298148\n",
       "gi|1129176583|gb|OLP85047.1|        0.400000\n",
       "gi|1129191087|gb|OLP96165.1|        0.086614\n",
       "gi|1142664386|gb|ONM23708.1|        0.203673\n",
       "gi|1270975270|gb|PHT27478.1|        0.186613\n",
       "gi|1270991054|gb|PHT34148.1|        0.280347\n",
       "gi|1271055537|gb|PHT66054.1|        0.121311\n",
       "gi|1271096588|gb|PHT89599.1|        0.319196\n",
       "gi|1271175087|gb|PHT98331.1|        0.392027\n",
       "gi|1271194407|gb|PHU11611.1|        0.291339\n",
       "gi|1271198659|gb|PHU15862.1|        0.069264\n",
       "gi|922401683|ref|XP_013467978.1|    0.049383\n",
       "dtype: float64"
      ]
     },
     "execution_count": 20,
     "metadata": {},
     "output_type": "execute_result"
    },
    {
     "data": {
      "image/png": "[encoded data removed]",
      "text/plain": [
       "<Figure size 432x288 with 1 Axes>"
      ]
     },
     "metadata": {
      "needs_background": "light"
     },
     "output_type": "display_data"
    }
   ],
   "source": [
    "from Bio.Blast.Applications import NcbiblastpCommandline\n",
    "#aln = AlignIO.read('../output/02_90p_autotrophic_rubisco_tree/auto_uclust_all_0.9_trimmed.aln',format='fasta')\n",
    "output = NcbiblastpCommandline(query=\"../output/02_90p_autotrophic_rubisco_tree/auto_uclust_all_0.9.faa\", subject=\"../data/Rr.faa\", outfmt=5)()[0]\n",
    "from Bio.Blast import NCBIXML\n",
    "from io import StringIO\n",
    "\n",
    "res = []\n",
    "for x in NCBIXML.parse(StringIO(output)):\n",
    "    if len(x.alignments) == 0:\n",
    "        res.append(0)\n",
    "    else:\n",
    "        alignment = x.alignments[0]\n",
    "        res.append(pd.DataFrame([[x.align_length,x.expect] for x in alignment.hsps]).sort_values(by=1).loc[0,0]/x.query_length)\n",
    "\n",
    "seq = [x for x in SeqIO.parse('../output/02_90p_autotrophic_rubisco_tree/auto_uclust_all_0.9.faa',format='fasta')]\n",
    "\n",
    "res_df = pd.Series(res,index=[x.id for x in seq])\n",
    "%matplotlib inline\n",
    "res_df.plot.hist(bins=50)\n"
   ]
  },
  {
   "cell_type": "code",
   "execution_count": 33,
   "metadata": {},
   "outputs": [],
   "source": [
    "seqs = [x for x in seq if x.id in res_df[res_df >= 0.5].index]\n",
    "\n",
    "with open(r\"../output/02_90p_autotrophic_rubisco_tree/auto_uclust_all_0.9_no_outliers.faa\", \"w\") as output_handle:\n",
    "    SeqIO.write(seqs, output_handle, \"fasta\")"
   ]
  },
  {
   "cell_type": "code",
   "execution_count": 6,
   "metadata": {},
   "outputs": [
    {
     "data": {
      "text/plain": [
       "type\n",
       "I           607\n",
       "II          109\n",
       "II/III       29\n",
       "III-like     60\n",
       "IIIa         68\n",
       "IIIc         29\n",
       "unknown      20\n",
       "Name: Target_y, dtype: int64"
      ]
     },
     "execution_count": 6,
     "metadata": {},
     "output_type": "execute_result"
    }
   ],
   "source": [
    "auto_rub_90p = pd.read_csv('../output/02_90p_autotrophic_rubisco_tree/auto_uclust_all_0.9.csv')\n",
    "auto_rub_90p = auto_rub_90p[auto_rub_90p['Type'] !='S']\n",
    "auto_rub_90p.loc[auto_rub_90p['Target'] == '*','Target'] = auto_rub_90p.loc[auto_rub_90p['Target'] == '*','Query']\n",
    "\n",
    "auto_rub90 = auto_rubisco.merge(auto_rub_90p,left_on='Query',right_on='Query')\n",
    "auto_rub90.to_csv('../output/02_90p_autotrophic_rubisco_tree/uclust_all_0.9_with_type.csv')\n",
    "auto_rub90.groupby('type')['Target_y'].nunique()"
   ]
  },
  {
   "cell_type": "markdown",
   "metadata": {},
   "source": [
    "## Create multiple sequence alignment"
   ]
  },
  {
   "cell_type": "code",
   "execution_count": 34,
   "metadata": {},
   "outputs": [
    {
     "name": "stdout",
     "output_type": "stream",
     "text": [
      "nthread = 0\n",
      "nthreadpair = 0\n",
      "nthreadtb = 0\n",
      "ppenalty_ex = 0\n",
      "stacksize: 8192 kb\n",
      "rescale = 1\n",
      "Gap Penalty = -1.53, +0.00, +0.00\n",
      "\n",
      "\n",
      "\n",
      "Making a distance matrix ..\n",
      "  901 / 901\n",
      "done.\n",
      "\n",
      "Constructing a UPGMA tree (efffree=0) ... \n",
      "  890 / 901\n",
      "done.\n",
      "\n",
      "Progressive alignment 1/2... \n",
      "STEP   801 / 900 \n",
      "Reallocating..done. *alloclen = 2425\n",
      "\n",
      "Reallocating..done. *alloclen = 3652\n",
      "\n",
      "done.\n",
      "\n",
      "Making a distance matrix from msa.. \n",
      "  800 / 901\n",
      "done.\n",
      "\n",
      "Constructing a UPGMA tree (efffree=1) ... \n",
      "  890 / 901\n",
      "done.\n",
      "\n",
      "Progressive alignment 2/2... \n",
      "STEP   801 / 900 \n",
      "Reallocating..done. *alloclen = 2510\n",
      "\n",
      "Reallocating..done. *alloclen = 3782\n",
      "\n",
      "done.\n",
      "\n",
      "disttbfast (aa) Version 7.427\n",
      "alg=A, model=BLOSUM62, 1.53, -0.00, -0.00, noshift, amax=0.0\n",
      "0 thread(s)\n",
      "\n",
      "\n",
      "Strategy:\n",
      " FFT-NS-2 (Fast but rough)\n",
      " Progressive method (guide trees were built 2 times.)\n",
      "\n",
      "If unsure which option to use, try 'mafft --auto input > output'.\n",
      "For more information, see 'mafft --help', 'mafft --man' and the mafft page.\n",
      "\n",
      "The default gap scoring scheme has been changed in version 7.110 (2013 Oct).\n",
      "It tends to insert more gaps into gap-rich regions than previous versions.\n",
      "To disable this change, add the --leavegappyregion option.\n",
      "\n"
     ]
    }
   ],
   "source": [
    "#!../bin/mafft-linux64/mafft.bat ../output/02_90p_autotrophic_rubisco_tree/auto_uclust_all_0.9.faa > ../output/02_90p_autotrophic_rubisco_tree/auto_uclust_all_0.9.aln\n",
    "!../bin/mafft-linux64/mafft.bat ../output/02_90p_autotrophic_rubisco_tree/auto_uclust_all_0.9_no_outliers.faa > ../output/02_90p_autotrophic_rubisco_tree/auto_uclust_all_0.9.aln"
   ]
  },
  {
   "cell_type": "markdown",
   "metadata": {},
   "source": [
    "## Clean MSA to contain only positions with more than 5% coverage (based on Jaffe et al. 2018)"
   ]
  },
  {
   "cell_type": "code",
   "execution_count": 35,
   "metadata": {},
   "outputs": [],
   "source": [
    "clean_aln(infile='../output/02_90p_autotrophic_rubisco_tree/auto_uclust_all_0.9.aln',\n",
    "          outfile='../output/02_90p_autotrophic_rubisco_tree/auto_uclust_all_0.9_trimmed.aln')"
   ]
  },
  {
   "cell_type": "code",
   "execution_count": 36,
   "metadata": {},
   "outputs": [],
   "source": [
    "cip = CipresClient.Client(appname='RO',\n",
    "                    appID='rubisco_phylogeny-49F87B124F3D429FBE12F95E4254DDEA',\n",
    "                    baseUrl='https://cipresrest.sdsc.edu/cipresrest/v1',\n",
    "                    username='yinonbaron',\n",
    "                    password='Mchcav11~')\n"
   ]
  },
  {
   "cell_type": "code",
   "execution_count": 37,
   "metadata": {},
   "outputs": [
    {
     "name": "stderr",
     "output_type": "stream",
     "text": [
      "/usr/lib/python3/dist-packages/urllib3/connectionpool.py:794: InsecureRequestWarning: Unverified HTTPS request is being made. Adding certificate verification is strongly advised. See: https://urllib3.readthedocs.org/en/latest/security.html\n",
      "  InsecureRequestWarning)\n"
     ]
    }
   ],
   "source": [
    "job = cip.submitJob(vParams={'toolId': 'RAXMLHPC8_REST_XSEDE',\n",
    "                       'datatype_': 'protein',\n",
    "                       'runtime_': '160',\n",
    "                       'select_analysis_': 'fa',\n",
    "                       'choose_bootstrap_': 'x',\n",
    "                       'printbrlength_': '1'},\n",
    "              inputParams={'infile_': '../output/02_90p_autotrophic_rubisco_tree/auto_uclust_all_0.9_trimmed.aln'},\n",
    "              metadata={'statusEmail':'true'})"
   ]
  },
  {
   "cell_type": "code",
   "execution_count": 30,
   "metadata": {},
   "outputs": [],
   "source": [
    "job = cip.listJobs()[-1]"
   ]
  },
  {
   "cell_type": "code",
   "execution_count": 11,
   "metadata": {},
   "outputs": [
    {
     "name": "stdout",
     "output_type": "stream",
     "text": [
      "Job NGBW-JOB-RAXMLHPC8_REST_XSEDE-0A58DB8818B246C1A2E71A14BF728C12 not finished\n"
     ]
    }
   ],
   "source": [
    "if cip.getJobStatus(jobHandle=job.jobHandle).isDone():\n",
    "    !mkdir -p ../output/02_90p_autotrophic_rubisco_tree/RaxML/\n",
    "    job.downloadResults('../output/02_90p_autotrophic_rubisco_tree/RaxML/')\n",
    "else:\n",
    "    print('Job ' + job.jobHandle + ' not finished')"
   ]
  },
  {
   "cell_type": "code",
   "execution_count": 2,
   "metadata": {},
   "outputs": [],
   "source": [
    "uclust1 = pd.read_csv('../output/00_100p_tree/uclust_all_1.csv')\n",
    "uclust_data = pd.read_csv('../output/02_90p_autotrophic_rubisco_tree/auto_uclust_all_0.9.csv')\n",
    "uclust_data = uclust_data[uclust_data['Type'] !='S']\n",
    "uclust_data.loc[uclust_data['Target'] == '*','Target'] = uclust_data.loc[uclust_data['Target'] == '*','Query']\n",
    "uclust_data = uclust1.merge(uclust_data,left_on='Target',right_on='Query',suffixes=('_100', ''))\n",
    "uclust_data.rename(columns={'Query':'Query_90','Query_100':'Query'},inplace=True)"
   ]
  },
  {
   "cell_type": "code",
   "execution_count": 3,
   "metadata": {},
   "outputs": [],
   "source": [
    "add_type(type_file='../data/jaffe_et_al_2018_rubisco_types.csv',\n",
    "         seq_file=uclust_data,\n",
    "         outfile='../output/02_90p_autotrophic_rubisco_tree/type_legend.txt')"
   ]
  },
  {
   "cell_type": "code",
   "execution_count": 2,
   "metadata": {},
   "outputs": [],
   "source": [
    "add_kinetic(kinetic_file='../data/flamholz_et_al_2019_kinetically_characterized.faa',\n",
    "            synth_file='../data/milo_synthetized_rubisco.faa',\n",
    "            seq_file=uclust_data,\n",
    "            outfile='../output/02_90p_autotrophic_rubisco_tree/kinetic_legend.txt')"
   ]
  }
 ],
 "metadata": {
  "kernelspec": {
   "display_name": "Python 3",
   "language": "python",
   "name": "python3"
  },
  "language_info": {
   "codemirror_mode": {
    "name": "ipython",
    "version": 3
   },
   "file_extension": ".py",
   "mimetype": "text/x-python",
   "name": "python",
   "nbconvert_exporter": "python",
   "pygments_lexer": "ipython3",
   "version": "3.7.3"
  }
 },
 "nbformat": 4,
 "nbformat_minor": 2
}
